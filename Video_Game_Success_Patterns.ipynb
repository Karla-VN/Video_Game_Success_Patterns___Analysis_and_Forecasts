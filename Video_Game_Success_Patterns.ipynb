{
 "cells": [
  {
   "cell_type": "markdown",
   "metadata": {},
   "source": [
    "<b>¡Hola Karla!</b>\n",
    "\n",
    "Mi nombre es Leo Lucianna, soy code reviewer en Tripleten y tengo el agrado de revisar tu proyecto.\n",
    "\n",
    "A continuación, encontrarás mis comentarios en celdas pintadas de tres colores (verde, amarillo y rojo), a manera de semáforo. Por favor, <b>no las borres ni muevas de posición</b> mientras dure el proceso de revisión.\n",
    "\n",
    "<div class=\"alert alert-block alert-success\">\n",
    "<b>Éxito</b> <a class=\"tocSkip\"></a>\n",
    "En celdas verdes encontrarás comentarios en relación a tus aciertos y fortalezas.\n",
    "</div>\n",
    "<div class=\"alert alert-block alert-warning\">\n",
    "<b>Atención</b> <a class=\"tocSkip\"></a>\n",
    "Utilizaré el color amarillo para llamar tu atención, expresar algo importante o compartirte alguna idea de valor.\n",
    "</div>\n",
    "<div class=\"alert alert-block alert-danger\">\n",
    "<b>A resolver</b> <a class=\"tocSkip\"></a>\n",
    "En rojo emitiré aquellos puntos que deberás atender para aprobar la revisión.\n",
    "</div>\n",
    "<div class=\"alert alert-block alert-info\">\n",
    "<b>Comentario estudiante</b><a class=\"tocSkip\"></a>\n",
    "Es factible que, a lo largo del proceso de revisión, quieras dejarme comentarios. Si es el caso, por favor realízalo dentro de celdas azules como esta.\n",
    "</div>\n",
    "\n",
    "Respecto del proceso de revisión, tu proyecto será aceptado una vez que los comentarios en rojo hayan sido atendidos.\n",
    "¡Empecemos!\n",
    "\n",
    "---"
   ]
  },
  {
   "cell_type": "markdown",
   "metadata": {},
   "source": [
    "<div class=\"alert alert-block alert-success\">\n",
    "<b>Revisión 1 - Comentario general </b> <a class=\"tocSkip\"></a>\n",
    "\n",
    "¡Hola Karla!\n",
    "\n",
    "Encontrarás mis comentarios a lo largo del proyecto con sugerencias que te pueden servir para terminar de resolver el proyecto.\n",
    "    \n",
    "A modo de resumen, estás haciendo un trabajo sobresaliente. Todo el trabajo de transformaciones y procesamiento de datos está perfecto, tu código es claro y eficiente. Haces muy buen uso de los gráficos en tus análisis y tus conclusiones son muy acertadas y valiosas.\n",
    "    \n",
    "El único punto que necesitarías para aprobar el proyecto es realizar de nuevo los análisis, pero con otra selección de datos por años. En este proyecto, el análisis y la información valiosa que puedas descubrir sería utilizada por un equipo de marketing para la toma de decisión pare una campaña en el 2017. Por lo tanto sería conveniente entregar hallazgos recientes.\n",
    "    \n",
    "Con este cambio que tiene que ver más con una mirada más de entendimiento de negocio, tu proyecto se cerrará con 10 puntos.\n",
    "    \n",
    "Sigue así! Y espero la próxima entrega. Éxitos!\n",
    "\n",
    "</div>\n",
    "\n",
    "\n",
    "<div class=\"alert alert-block alert-success\">\n",
    "<b>Revisión 2 - Comentario general </b> <a class=\"tocSkip\"></a>\n",
    "\n",
    "¡Hola Karla!\n",
    "\n",
    "Tu trabajo es excelente! En esta iteración, tu proyecto está **aprobado** :) \n",
    "    \n",
    "Felicitaciones por el gran logro!\n",
    "    \n",
    "Muchos éxitos para los siguientes sprints!\n",
    "    \n",
    " \n",
    "</div>"
   ]
  },
  {
   "cell_type": "markdown",
   "metadata": {
    "tags": [
     "e5c1f0c2-db9f-43a0-99b9-4875c52427e8"
    ]
   },
   "source": [
    "# Games\n",
    "\n",
    "_______________"
   ]
  },
  {
   "cell_type": "markdown",
   "metadata": {},
   "source": [
    "## Objetivo\n",
    "\n",
    "Identificar patrones que determinen si un juego tiene éxito o no"
   ]
  },
  {
   "cell_type": "code",
   "execution_count": 1,
   "metadata": {},
   "outputs": [],
   "source": [
    "# Importar librerias\n",
    "\n",
    "import pandas as pd\n",
    "import numpy as np\n",
    "import seaborn as sns\n",
    "from scipy import stats as st\n",
    "from matplotlib import pyplot as plt\n"
   ]
  },
  {
   "cell_type": "code",
   "execution_count": 2,
   "metadata": {},
   "outputs": [],
   "source": [
    "# Leer dataset\n",
    "\n",
    "games = pd.read_csv('/datasets/games.csv')"
   ]
  },
  {
   "cell_type": "markdown",
   "metadata": {},
   "source": [
    "## Preparación de los datos"
   ]
  },
  {
   "cell_type": "code",
   "execution_count": 3,
   "metadata": {},
   "outputs": [
    {
     "name": "stdout",
     "output_type": "stream",
     "text": [
      "<class 'pandas.core.frame.DataFrame'>\n",
      "RangeIndex: 16715 entries, 0 to 16714\n",
      "Data columns (total 11 columns):\n",
      " #   Column           Non-Null Count  Dtype  \n",
      "---  ------           --------------  -----  \n",
      " 0   Name             16713 non-null  object \n",
      " 1   Platform         16715 non-null  object \n",
      " 2   Year_of_Release  16446 non-null  float64\n",
      " 3   Genre            16713 non-null  object \n",
      " 4   NA_sales         16715 non-null  float64\n",
      " 5   EU_sales         16715 non-null  float64\n",
      " 6   JP_sales         16715 non-null  float64\n",
      " 7   Other_sales      16715 non-null  float64\n",
      " 8   Critic_Score     8137 non-null   float64\n",
      " 9   User_Score       10014 non-null  object \n",
      " 10  Rating           9949 non-null   object \n",
      "dtypes: float64(6), object(5)\n",
      "memory usage: 1.4+ MB\n"
     ]
    }
   ],
   "source": [
    "# Mostrar información del dataset\n",
    " \n",
    "games.info()"
   ]
  },
  {
   "cell_type": "markdown",
   "metadata": {},
   "source": [
    "<div class=\"alert alert-block alert-warning\">\n",
    "<b>Comentario del revisor - Revisión 1</b> <a class=\"tocSkip\"></a>\n",
    "\n",
    "En este punto sugiero hacer un `head()` del dataframe. Como buena práctica es hacer un `head` e `info` como primera tarea después de leer los datasets. \n",
    "  \n",
    "</div>"
   ]
  },
  {
   "cell_type": "code",
   "execution_count": 4,
   "metadata": {},
   "outputs": [
    {
     "data": {
      "text/html": [
       "<div>\n",
       "<style scoped>\n",
       "    .dataframe tbody tr th:only-of-type {\n",
       "        vertical-align: middle;\n",
       "    }\n",
       "\n",
       "    .dataframe tbody tr th {\n",
       "        vertical-align: top;\n",
       "    }\n",
       "\n",
       "    .dataframe thead th {\n",
       "        text-align: right;\n",
       "    }\n",
       "</style>\n",
       "<table border=\"1\" class=\"dataframe\">\n",
       "  <thead>\n",
       "    <tr style=\"text-align: right;\">\n",
       "      <th></th>\n",
       "      <th>Name</th>\n",
       "      <th>Platform</th>\n",
       "      <th>Year_of_Release</th>\n",
       "      <th>Genre</th>\n",
       "      <th>NA_sales</th>\n",
       "      <th>EU_sales</th>\n",
       "      <th>JP_sales</th>\n",
       "      <th>Other_sales</th>\n",
       "      <th>Critic_Score</th>\n",
       "      <th>User_Score</th>\n",
       "      <th>Rating</th>\n",
       "    </tr>\n",
       "  </thead>\n",
       "  <tbody>\n",
       "    <tr>\n",
       "      <th>0</th>\n",
       "      <td>Wii Sports</td>\n",
       "      <td>Wii</td>\n",
       "      <td>2006.0</td>\n",
       "      <td>Sports</td>\n",
       "      <td>41.36</td>\n",
       "      <td>28.96</td>\n",
       "      <td>3.77</td>\n",
       "      <td>8.45</td>\n",
       "      <td>76.0</td>\n",
       "      <td>8</td>\n",
       "      <td>E</td>\n",
       "    </tr>\n",
       "    <tr>\n",
       "      <th>1</th>\n",
       "      <td>Super Mario Bros.</td>\n",
       "      <td>NES</td>\n",
       "      <td>1985.0</td>\n",
       "      <td>Platform</td>\n",
       "      <td>29.08</td>\n",
       "      <td>3.58</td>\n",
       "      <td>6.81</td>\n",
       "      <td>0.77</td>\n",
       "      <td>NaN</td>\n",
       "      <td>NaN</td>\n",
       "      <td>NaN</td>\n",
       "    </tr>\n",
       "    <tr>\n",
       "      <th>2</th>\n",
       "      <td>Mario Kart Wii</td>\n",
       "      <td>Wii</td>\n",
       "      <td>2008.0</td>\n",
       "      <td>Racing</td>\n",
       "      <td>15.68</td>\n",
       "      <td>12.76</td>\n",
       "      <td>3.79</td>\n",
       "      <td>3.29</td>\n",
       "      <td>82.0</td>\n",
       "      <td>8.3</td>\n",
       "      <td>E</td>\n",
       "    </tr>\n",
       "    <tr>\n",
       "      <th>3</th>\n",
       "      <td>Wii Sports Resort</td>\n",
       "      <td>Wii</td>\n",
       "      <td>2009.0</td>\n",
       "      <td>Sports</td>\n",
       "      <td>15.61</td>\n",
       "      <td>10.93</td>\n",
       "      <td>3.28</td>\n",
       "      <td>2.95</td>\n",
       "      <td>80.0</td>\n",
       "      <td>8</td>\n",
       "      <td>E</td>\n",
       "    </tr>\n",
       "    <tr>\n",
       "      <th>4</th>\n",
       "      <td>Pokemon Red/Pokemon Blue</td>\n",
       "      <td>GB</td>\n",
       "      <td>1996.0</td>\n",
       "      <td>Role-Playing</td>\n",
       "      <td>11.27</td>\n",
       "      <td>8.89</td>\n",
       "      <td>10.22</td>\n",
       "      <td>1.00</td>\n",
       "      <td>NaN</td>\n",
       "      <td>NaN</td>\n",
       "      <td>NaN</td>\n",
       "    </tr>\n",
       "  </tbody>\n",
       "</table>\n",
       "</div>"
      ],
      "text/plain": [
       "                       Name Platform  Year_of_Release         Genre  NA_sales  \\\n",
       "0                Wii Sports      Wii           2006.0        Sports     41.36   \n",
       "1         Super Mario Bros.      NES           1985.0      Platform     29.08   \n",
       "2            Mario Kart Wii      Wii           2008.0        Racing     15.68   \n",
       "3         Wii Sports Resort      Wii           2009.0        Sports     15.61   \n",
       "4  Pokemon Red/Pokemon Blue       GB           1996.0  Role-Playing     11.27   \n",
       "\n",
       "   EU_sales  JP_sales  Other_sales  Critic_Score User_Score Rating  \n",
       "0     28.96      3.77         8.45          76.0          8      E  \n",
       "1      3.58      6.81         0.77           NaN        NaN    NaN  \n",
       "2     12.76      3.79         3.29          82.0        8.3      E  \n",
       "3     10.93      3.28         2.95          80.0          8      E  \n",
       "4      8.89     10.22         1.00           NaN        NaN    NaN  "
      ]
     },
     "execution_count": 4,
     "metadata": {},
     "output_type": "execute_result"
    }
   ],
   "source": [
    "games.head()"
   ]
  },
  {
   "cell_type": "code",
   "execution_count": 5,
   "metadata": {},
   "outputs": [],
   "source": [
    "# Cambiar el nombre de las columnas a minúscula\n",
    "\n",
    "games.columns = games.columns.str.lower()"
   ]
  },
  {
   "cell_type": "code",
   "execution_count": 6,
   "metadata": {},
   "outputs": [
    {
     "data": {
      "text/plain": [
       "14466    6.3\n",
       "1123     NaN\n",
       "9279     8.4\n",
       "9312     NaN\n",
       "8202     7.5\n",
       "14090    NaN\n",
       "14204    8.2\n",
       "14286    NaN\n",
       "8415     7.2\n",
       "2477     NaN\n",
       "Name: critic_score, dtype: float64"
      ]
     },
     "execution_count": 6,
     "metadata": {},
     "output_type": "execute_result"
    }
   ],
   "source": [
    "\n",
    "\n",
    "# Reducir puntuación de 0 - 10 para la columna Critic_Score\n",
    "\n",
    "games['critic_score'] = (games['critic_score'] / 10)\n",
    "\n",
    "games['critic_score'].sample(10)"
   ]
  },
  {
   "cell_type": "markdown",
   "metadata": {},
   "source": [
    "Cambie la puntuacion de 'critic_score' para que estuviera en el mismo rango que la columna 'user_score'"
   ]
  },
  {
   "cell_type": "code",
   "execution_count": 7,
   "metadata": {},
   "outputs": [],
   "source": [
    "# Cambiar los tipos de datos de las columnas a los correspondientes\n",
    "\n",
    "# Cambiar la columna Year_of_Release a entero\n",
    "\n",
    "games['year_of_release'] = games['year_of_release'].astype('Int64')"
   ]
  },
  {
   "cell_type": "code",
   "execution_count": 8,
   "metadata": {},
   "outputs": [],
   "source": [
    "# Reemplazar string 'tbd' (to be determined) por valor ausente para poder cambiar a tipo de dato float\n",
    "\n",
    "games['user_score'] = games['user_score'].replace('tbd', np.nan)\n",
    "games['user_score'] = games['user_score'].astype(float)"
   ]
  },
  {
   "cell_type": "markdown",
   "metadata": {},
   "source": [
    "Reemplace 'tbd' por un valor nulo porque no tiene una puntuacion definida, y si le pongo 0 va a alterar los datos porque los va a marcar cómo una calificacion que el usuario dio. Ademas, cambie el tipo de dato a float por si más adelante se requiere hacer una operación con esta columna."
   ]
  },
  {
   "cell_type": "code",
   "execution_count": 9,
   "metadata": {},
   "outputs": [
    {
     "name": "stdout",
     "output_type": "stream",
     "text": [
      "<class 'pandas.core.frame.DataFrame'>\n",
      "RangeIndex: 16715 entries, 0 to 16714\n",
      "Data columns (total 11 columns):\n",
      " #   Column           Non-Null Count  Dtype  \n",
      "---  ------           --------------  -----  \n",
      " 0   name             16713 non-null  object \n",
      " 1   platform         16715 non-null  object \n",
      " 2   year_of_release  16446 non-null  Int64  \n",
      " 3   genre            16713 non-null  object \n",
      " 4   na_sales         16715 non-null  float64\n",
      " 5   eu_sales         16715 non-null  float64\n",
      " 6   jp_sales         16715 non-null  float64\n",
      " 7   other_sales      16715 non-null  float64\n",
      " 8   critic_score     8137 non-null   float64\n",
      " 9   user_score       7590 non-null   float64\n",
      " 10  rating           9949 non-null   object \n",
      "dtypes: Int64(1), float64(6), object(4)\n",
      "memory usage: 1.4+ MB\n"
     ]
    }
   ],
   "source": [
    "# Verificar los cambios\n",
    "\n",
    "games.info()"
   ]
  },
  {
   "cell_type": "code",
   "execution_count": 10,
   "metadata": {},
   "outputs": [
    {
     "data": {
      "text/html": [
       "<div>\n",
       "<style scoped>\n",
       "    .dataframe tbody tr th:only-of-type {\n",
       "        vertical-align: middle;\n",
       "    }\n",
       "\n",
       "    .dataframe tbody tr th {\n",
       "        vertical-align: top;\n",
       "    }\n",
       "\n",
       "    .dataframe thead th {\n",
       "        text-align: right;\n",
       "    }\n",
       "</style>\n",
       "<table border=\"1\" class=\"dataframe\">\n",
       "  <thead>\n",
       "    <tr style=\"text-align: right;\">\n",
       "      <th></th>\n",
       "      <th>name</th>\n",
       "      <th>platform</th>\n",
       "      <th>year_of_release</th>\n",
       "      <th>genre</th>\n",
       "      <th>na_sales</th>\n",
       "      <th>eu_sales</th>\n",
       "      <th>jp_sales</th>\n",
       "      <th>other_sales</th>\n",
       "      <th>critic_score</th>\n",
       "      <th>user_score</th>\n",
       "      <th>rating</th>\n",
       "    </tr>\n",
       "  </thead>\n",
       "  <tbody>\n",
       "    <tr>\n",
       "      <th>0</th>\n",
       "      <td>wii sports</td>\n",
       "      <td>wii</td>\n",
       "      <td>2006</td>\n",
       "      <td>sports</td>\n",
       "      <td>41.36</td>\n",
       "      <td>28.96</td>\n",
       "      <td>3.77</td>\n",
       "      <td>8.45</td>\n",
       "      <td>7.6</td>\n",
       "      <td>8.0</td>\n",
       "      <td>e</td>\n",
       "    </tr>\n",
       "    <tr>\n",
       "      <th>1</th>\n",
       "      <td>super mario bros.</td>\n",
       "      <td>nes</td>\n",
       "      <td>1985</td>\n",
       "      <td>platform</td>\n",
       "      <td>29.08</td>\n",
       "      <td>3.58</td>\n",
       "      <td>6.81</td>\n",
       "      <td>0.77</td>\n",
       "      <td>NaN</td>\n",
       "      <td>NaN</td>\n",
       "      <td>NaN</td>\n",
       "    </tr>\n",
       "    <tr>\n",
       "      <th>2</th>\n",
       "      <td>mario kart wii</td>\n",
       "      <td>wii</td>\n",
       "      <td>2008</td>\n",
       "      <td>racing</td>\n",
       "      <td>15.68</td>\n",
       "      <td>12.76</td>\n",
       "      <td>3.79</td>\n",
       "      <td>3.29</td>\n",
       "      <td>8.2</td>\n",
       "      <td>8.3</td>\n",
       "      <td>e</td>\n",
       "    </tr>\n",
       "    <tr>\n",
       "      <th>3</th>\n",
       "      <td>wii sports resort</td>\n",
       "      <td>wii</td>\n",
       "      <td>2009</td>\n",
       "      <td>sports</td>\n",
       "      <td>15.61</td>\n",
       "      <td>10.93</td>\n",
       "      <td>3.28</td>\n",
       "      <td>2.95</td>\n",
       "      <td>8.0</td>\n",
       "      <td>8.0</td>\n",
       "      <td>e</td>\n",
       "    </tr>\n",
       "    <tr>\n",
       "      <th>4</th>\n",
       "      <td>pokemon red/pokemon blue</td>\n",
       "      <td>gb</td>\n",
       "      <td>1996</td>\n",
       "      <td>role-playing</td>\n",
       "      <td>11.27</td>\n",
       "      <td>8.89</td>\n",
       "      <td>10.22</td>\n",
       "      <td>1.00</td>\n",
       "      <td>NaN</td>\n",
       "      <td>NaN</td>\n",
       "      <td>NaN</td>\n",
       "    </tr>\n",
       "    <tr>\n",
       "      <th>5</th>\n",
       "      <td>tetris</td>\n",
       "      <td>gb</td>\n",
       "      <td>1989</td>\n",
       "      <td>puzzle</td>\n",
       "      <td>23.20</td>\n",
       "      <td>2.26</td>\n",
       "      <td>4.22</td>\n",
       "      <td>0.58</td>\n",
       "      <td>NaN</td>\n",
       "      <td>NaN</td>\n",
       "      <td>NaN</td>\n",
       "    </tr>\n",
       "    <tr>\n",
       "      <th>6</th>\n",
       "      <td>new super mario bros.</td>\n",
       "      <td>ds</td>\n",
       "      <td>2006</td>\n",
       "      <td>platform</td>\n",
       "      <td>11.28</td>\n",
       "      <td>9.14</td>\n",
       "      <td>6.50</td>\n",
       "      <td>2.88</td>\n",
       "      <td>8.9</td>\n",
       "      <td>8.5</td>\n",
       "      <td>e</td>\n",
       "    </tr>\n",
       "    <tr>\n",
       "      <th>7</th>\n",
       "      <td>wii play</td>\n",
       "      <td>wii</td>\n",
       "      <td>2006</td>\n",
       "      <td>misc</td>\n",
       "      <td>13.96</td>\n",
       "      <td>9.18</td>\n",
       "      <td>2.93</td>\n",
       "      <td>2.84</td>\n",
       "      <td>5.8</td>\n",
       "      <td>6.6</td>\n",
       "      <td>e</td>\n",
       "    </tr>\n",
       "    <tr>\n",
       "      <th>8</th>\n",
       "      <td>new super mario bros. wii</td>\n",
       "      <td>wii</td>\n",
       "      <td>2009</td>\n",
       "      <td>platform</td>\n",
       "      <td>14.44</td>\n",
       "      <td>6.94</td>\n",
       "      <td>4.70</td>\n",
       "      <td>2.24</td>\n",
       "      <td>8.7</td>\n",
       "      <td>8.4</td>\n",
       "      <td>e</td>\n",
       "    </tr>\n",
       "    <tr>\n",
       "      <th>9</th>\n",
       "      <td>duck hunt</td>\n",
       "      <td>nes</td>\n",
       "      <td>1984</td>\n",
       "      <td>shooter</td>\n",
       "      <td>26.93</td>\n",
       "      <td>0.63</td>\n",
       "      <td>0.28</td>\n",
       "      <td>0.47</td>\n",
       "      <td>NaN</td>\n",
       "      <td>NaN</td>\n",
       "      <td>NaN</td>\n",
       "    </tr>\n",
       "  </tbody>\n",
       "</table>\n",
       "</div>"
      ],
      "text/plain": [
       "                        name platform  year_of_release         genre  \\\n",
       "0                 wii sports      wii             2006        sports   \n",
       "1          super mario bros.      nes             1985      platform   \n",
       "2             mario kart wii      wii             2008        racing   \n",
       "3          wii sports resort      wii             2009        sports   \n",
       "4   pokemon red/pokemon blue       gb             1996  role-playing   \n",
       "5                     tetris       gb             1989        puzzle   \n",
       "6      new super mario bros.       ds             2006      platform   \n",
       "7                   wii play      wii             2006          misc   \n",
       "8  new super mario bros. wii      wii             2009      platform   \n",
       "9                  duck hunt      nes             1984       shooter   \n",
       "\n",
       "   na_sales  eu_sales  jp_sales  other_sales  critic_score  user_score rating  \n",
       "0     41.36     28.96      3.77         8.45           7.6         8.0      e  \n",
       "1     29.08      3.58      6.81         0.77           NaN         NaN    NaN  \n",
       "2     15.68     12.76      3.79         3.29           8.2         8.3      e  \n",
       "3     15.61     10.93      3.28         2.95           8.0         8.0      e  \n",
       "4     11.27      8.89     10.22         1.00           NaN         NaN    NaN  \n",
       "5     23.20      2.26      4.22         0.58           NaN         NaN    NaN  \n",
       "6     11.28      9.14      6.50         2.88           8.9         8.5      e  \n",
       "7     13.96      9.18      2.93         2.84           5.8         6.6      e  \n",
       "8     14.44      6.94      4.70         2.24           8.7         8.4      e  \n",
       "9     26.93      0.63      0.28         0.47           NaN         NaN    NaN  "
      ]
     },
     "execution_count": 10,
     "metadata": {},
     "output_type": "execute_result"
    }
   ],
   "source": [
    "# Cambiar todos los datos string a minúsculas para evitar duplicados de cualquier tipo\n",
    "\n",
    "for column in games.columns:\n",
    "    if games[column].dtype == 'object':\n",
    "        games[column] = games[column].str.lower()\n",
    "games.head(10)"
   ]
  },
  {
   "cell_type": "code",
   "execution_count": 11,
   "metadata": {},
   "outputs": [
    {
     "data": {
      "text/plain": [
       "name                  2\n",
       "platform              0\n",
       "year_of_release     269\n",
       "genre                 2\n",
       "na_sales              0\n",
       "eu_sales              0\n",
       "jp_sales              0\n",
       "other_sales           0\n",
       "critic_score       8578\n",
       "user_score         9125\n",
       "rating             6766\n",
       "dtype: int64"
      ]
     },
     "execution_count": 11,
     "metadata": {},
     "output_type": "execute_result"
    }
   ],
   "source": [
    "# Comprobar los valores ausentes\n",
    "\n",
    "games.isna().sum()"
   ]
  },
  {
   "cell_type": "markdown",
   "metadata": {},
   "source": [
    "- En las columnas 'year_of_release' y 'rating' hay valores nan posiblemente porque olvidaron poner el año o no se encontraron los datos\n",
    "- En las columnas 'critic_score' y 'user_score' hay valores ausentes debido a que los usuarios no pusieron su puntuación\n",
    "\n",
    "No cambio los valores ausentes, porque si los reemplazo por 0, mediana o media alteraría los datos"
   ]
  },
  {
   "cell_type": "code",
   "execution_count": 12,
   "metadata": {},
   "outputs": [
    {
     "data": {
      "text/plain": [
       "0"
      ]
     },
     "execution_count": 12,
     "metadata": {},
     "output_type": "execute_result"
    }
   ],
   "source": [
    "# Revisar si hay duplicados\n",
    "\n",
    "games.duplicated().sum()"
   ]
  },
  {
   "cell_type": "code",
   "execution_count": 13,
   "metadata": {},
   "outputs": [
    {
     "data": {
      "text/html": [
       "<div>\n",
       "<style scoped>\n",
       "    .dataframe tbody tr th:only-of-type {\n",
       "        vertical-align: middle;\n",
       "    }\n",
       "\n",
       "    .dataframe tbody tr th {\n",
       "        vertical-align: top;\n",
       "    }\n",
       "\n",
       "    .dataframe thead th {\n",
       "        text-align: right;\n",
       "    }\n",
       "</style>\n",
       "<table border=\"1\" class=\"dataframe\">\n",
       "  <thead>\n",
       "    <tr style=\"text-align: right;\">\n",
       "      <th></th>\n",
       "      <th>name</th>\n",
       "      <th>platform</th>\n",
       "      <th>year_of_release</th>\n",
       "      <th>genre</th>\n",
       "      <th>na_sales</th>\n",
       "      <th>eu_sales</th>\n",
       "      <th>jp_sales</th>\n",
       "      <th>other_sales</th>\n",
       "      <th>critic_score</th>\n",
       "      <th>user_score</th>\n",
       "      <th>rating</th>\n",
       "      <th>total_sales</th>\n",
       "    </tr>\n",
       "  </thead>\n",
       "  <tbody>\n",
       "    <tr>\n",
       "      <th>11641</th>\n",
       "      <td>major league baseball 2k12</td>\n",
       "      <td>ds</td>\n",
       "      <td>2012</td>\n",
       "      <td>sports</td>\n",
       "      <td>0.07</td>\n",
       "      <td>0.00</td>\n",
       "      <td>0.00</td>\n",
       "      <td>0.01</td>\n",
       "      <td>NaN</td>\n",
       "      <td>NaN</td>\n",
       "      <td>e</td>\n",
       "      <td>0.08</td>\n",
       "    </tr>\n",
       "    <tr>\n",
       "      <th>1088</th>\n",
       "      <td>tony hawk's pro skater 3</td>\n",
       "      <td>ps</td>\n",
       "      <td>2001</td>\n",
       "      <td>sports</td>\n",
       "      <td>1.09</td>\n",
       "      <td>0.49</td>\n",
       "      <td>0.02</td>\n",
       "      <td>0.07</td>\n",
       "      <td>8.7</td>\n",
       "      <td>8.3</td>\n",
       "      <td>e</td>\n",
       "      <td>1.67</td>\n",
       "    </tr>\n",
       "    <tr>\n",
       "      <th>2856</th>\n",
       "      <td>blur</td>\n",
       "      <td>ps3</td>\n",
       "      <td>2010</td>\n",
       "      <td>racing</td>\n",
       "      <td>0.22</td>\n",
       "      <td>0.36</td>\n",
       "      <td>0.02</td>\n",
       "      <td>0.12</td>\n",
       "      <td>8.1</td>\n",
       "      <td>8.2</td>\n",
       "      <td>e10+</td>\n",
       "      <td>0.72</td>\n",
       "    </tr>\n",
       "    <tr>\n",
       "      <th>15462</th>\n",
       "      <td>super bowling</td>\n",
       "      <td>n64</td>\n",
       "      <td>1999</td>\n",
       "      <td>sports</td>\n",
       "      <td>0.02</td>\n",
       "      <td>0.00</td>\n",
       "      <td>0.00</td>\n",
       "      <td>0.00</td>\n",
       "      <td>NaN</td>\n",
       "      <td>NaN</td>\n",
       "      <td>NaN</td>\n",
       "      <td>0.02</td>\n",
       "    </tr>\n",
       "    <tr>\n",
       "      <th>4708</th>\n",
       "      <td>superman: the new superman adventures</td>\n",
       "      <td>n64</td>\n",
       "      <td>1999</td>\n",
       "      <td>action</td>\n",
       "      <td>0.33</td>\n",
       "      <td>0.07</td>\n",
       "      <td>0.00</td>\n",
       "      <td>0.00</td>\n",
       "      <td>NaN</td>\n",
       "      <td>NaN</td>\n",
       "      <td>NaN</td>\n",
       "      <td>0.40</td>\n",
       "    </tr>\n",
       "    <tr>\n",
       "      <th>8823</th>\n",
       "      <td>indigo prophecy</td>\n",
       "      <td>ps2</td>\n",
       "      <td>2005</td>\n",
       "      <td>adventure</td>\n",
       "      <td>0.07</td>\n",
       "      <td>0.06</td>\n",
       "      <td>0.00</td>\n",
       "      <td>0.02</td>\n",
       "      <td>8.3</td>\n",
       "      <td>7.8</td>\n",
       "      <td>m</td>\n",
       "      <td>0.15</td>\n",
       "    </tr>\n",
       "    <tr>\n",
       "      <th>8184</th>\n",
       "      <td>madden nfl 09</td>\n",
       "      <td>xb</td>\n",
       "      <td>2008</td>\n",
       "      <td>sports</td>\n",
       "      <td>0.13</td>\n",
       "      <td>0.04</td>\n",
       "      <td>0.00</td>\n",
       "      <td>0.01</td>\n",
       "      <td>NaN</td>\n",
       "      <td>5.5</td>\n",
       "      <td>e</td>\n",
       "      <td>0.18</td>\n",
       "    </tr>\n",
       "    <tr>\n",
       "      <th>8177</th>\n",
       "      <td>nancy drew: the hidden staircase</td>\n",
       "      <td>ds</td>\n",
       "      <td>2008</td>\n",
       "      <td>adventure</td>\n",
       "      <td>0.16</td>\n",
       "      <td>0.00</td>\n",
       "      <td>0.00</td>\n",
       "      <td>0.01</td>\n",
       "      <td>NaN</td>\n",
       "      <td>6.0</td>\n",
       "      <td>e</td>\n",
       "      <td>0.17</td>\n",
       "    </tr>\n",
       "    <tr>\n",
       "      <th>932</th>\n",
       "      <td>shrek 2</td>\n",
       "      <td>ps2</td>\n",
       "      <td>2004</td>\n",
       "      <td>platform</td>\n",
       "      <td>1.12</td>\n",
       "      <td>0.69</td>\n",
       "      <td>0.03</td>\n",
       "      <td>0.02</td>\n",
       "      <td>7.1</td>\n",
       "      <td>8.5</td>\n",
       "      <td>e</td>\n",
       "      <td>1.86</td>\n",
       "    </tr>\n",
       "    <tr>\n",
       "      <th>5833</th>\n",
       "      <td>army men world war: land, sea, air</td>\n",
       "      <td>ps</td>\n",
       "      <td>2000</td>\n",
       "      <td>action</td>\n",
       "      <td>0.17</td>\n",
       "      <td>0.12</td>\n",
       "      <td>0.00</td>\n",
       "      <td>0.02</td>\n",
       "      <td>NaN</td>\n",
       "      <td>NaN</td>\n",
       "      <td>NaN</td>\n",
       "      <td>0.31</td>\n",
       "    </tr>\n",
       "    <tr>\n",
       "      <th>3673</th>\n",
       "      <td>barbie horse adventures: riding camp</td>\n",
       "      <td>ds</td>\n",
       "      <td>2008</td>\n",
       "      <td>sports</td>\n",
       "      <td>0.50</td>\n",
       "      <td>0.00</td>\n",
       "      <td>0.00</td>\n",
       "      <td>0.04</td>\n",
       "      <td>NaN</td>\n",
       "      <td>NaN</td>\n",
       "      <td>e</td>\n",
       "      <td>0.54</td>\n",
       "    </tr>\n",
       "    <tr>\n",
       "      <th>12122</th>\n",
       "      <td>lifeline</td>\n",
       "      <td>ps2</td>\n",
       "      <td>2003</td>\n",
       "      <td>adventure</td>\n",
       "      <td>0.03</td>\n",
       "      <td>0.03</td>\n",
       "      <td>0.00</td>\n",
       "      <td>0.01</td>\n",
       "      <td>6.1</td>\n",
       "      <td>7.7</td>\n",
       "      <td>m</td>\n",
       "      <td>0.07</td>\n",
       "    </tr>\n",
       "    <tr>\n",
       "      <th>11222</th>\n",
       "      <td>rugby 15</td>\n",
       "      <td>xone</td>\n",
       "      <td>2015</td>\n",
       "      <td>sports</td>\n",
       "      <td>0.03</td>\n",
       "      <td>0.05</td>\n",
       "      <td>0.00</td>\n",
       "      <td>0.01</td>\n",
       "      <td>2.0</td>\n",
       "      <td>3.1</td>\n",
       "      <td>e</td>\n",
       "      <td>0.09</td>\n",
       "    </tr>\n",
       "    <tr>\n",
       "      <th>662</th>\n",
       "      <td>wcw/nwo revenge</td>\n",
       "      <td>n64</td>\n",
       "      <td>1998</td>\n",
       "      <td>fighting</td>\n",
       "      <td>1.94</td>\n",
       "      <td>0.39</td>\n",
       "      <td>0.03</td>\n",
       "      <td>0.02</td>\n",
       "      <td>NaN</td>\n",
       "      <td>NaN</td>\n",
       "      <td>NaN</td>\n",
       "      <td>2.38</td>\n",
       "    </tr>\n",
       "    <tr>\n",
       "      <th>12947</th>\n",
       "      <td>zapper: one wicked cricket!</td>\n",
       "      <td>xb</td>\n",
       "      <td>2002</td>\n",
       "      <td>platform</td>\n",
       "      <td>0.04</td>\n",
       "      <td>0.01</td>\n",
       "      <td>0.00</td>\n",
       "      <td>0.00</td>\n",
       "      <td>NaN</td>\n",
       "      <td>NaN</td>\n",
       "      <td>NaN</td>\n",
       "      <td>0.05</td>\n",
       "    </tr>\n",
       "  </tbody>\n",
       "</table>\n",
       "</div>"
      ],
      "text/plain": [
       "                                        name platform  year_of_release  \\\n",
       "11641             major league baseball 2k12       ds             2012   \n",
       "1088                tony hawk's pro skater 3       ps             2001   \n",
       "2856                                    blur      ps3             2010   \n",
       "15462                          super bowling      n64             1999   \n",
       "4708   superman: the new superman adventures      n64             1999   \n",
       "8823                         indigo prophecy      ps2             2005   \n",
       "8184                           madden nfl 09       xb             2008   \n",
       "8177        nancy drew: the hidden staircase       ds             2008   \n",
       "932                                  shrek 2      ps2             2004   \n",
       "5833      army men world war: land, sea, air       ps             2000   \n",
       "3673    barbie horse adventures: riding camp       ds             2008   \n",
       "12122                               lifeline      ps2             2003   \n",
       "11222                               rugby 15     xone             2015   \n",
       "662                          wcw/nwo revenge      n64             1998   \n",
       "12947            zapper: one wicked cricket!       xb             2002   \n",
       "\n",
       "           genre  na_sales  eu_sales  jp_sales  other_sales  critic_score  \\\n",
       "11641     sports      0.07      0.00      0.00         0.01           NaN   \n",
       "1088      sports      1.09      0.49      0.02         0.07           8.7   \n",
       "2856      racing      0.22      0.36      0.02         0.12           8.1   \n",
       "15462     sports      0.02      0.00      0.00         0.00           NaN   \n",
       "4708      action      0.33      0.07      0.00         0.00           NaN   \n",
       "8823   adventure      0.07      0.06      0.00         0.02           8.3   \n",
       "8184      sports      0.13      0.04      0.00         0.01           NaN   \n",
       "8177   adventure      0.16      0.00      0.00         0.01           NaN   \n",
       "932     platform      1.12      0.69      0.03         0.02           7.1   \n",
       "5833      action      0.17      0.12      0.00         0.02           NaN   \n",
       "3673      sports      0.50      0.00      0.00         0.04           NaN   \n",
       "12122  adventure      0.03      0.03      0.00         0.01           6.1   \n",
       "11222     sports      0.03      0.05      0.00         0.01           2.0   \n",
       "662     fighting      1.94      0.39      0.03         0.02           NaN   \n",
       "12947   platform      0.04      0.01      0.00         0.00           NaN   \n",
       "\n",
       "       user_score rating  total_sales  \n",
       "11641         NaN      e         0.08  \n",
       "1088          8.3      e         1.67  \n",
       "2856          8.2   e10+         0.72  \n",
       "15462         NaN    NaN         0.02  \n",
       "4708          NaN    NaN         0.40  \n",
       "8823          7.8      m         0.15  \n",
       "8184          5.5      e         0.18  \n",
       "8177          6.0      e         0.17  \n",
       "932           8.5      e         1.86  \n",
       "5833          NaN    NaN         0.31  \n",
       "3673          NaN      e         0.54  \n",
       "12122         7.7      m         0.07  \n",
       "11222         3.1      e         0.09  \n",
       "662           NaN    NaN         2.38  \n",
       "12947         NaN    NaN         0.05  "
      ]
     },
     "execution_count": 13,
     "metadata": {},
     "output_type": "execute_result"
    }
   ],
   "source": [
    "# Calcular las ventas totales (la suma de las ventas en todas las regiones) para cada juego y coloca estos valores en una columna separada\n",
    "\n",
    "games['total_sales'] = games['na_sales'] + games['eu_sales'] + games['jp_sales'] + games['other_sales']\n",
    "\n",
    "games.sample(15)"
   ]
  },
  {
   "cell_type": "markdown",
   "metadata": {},
   "source": [
    "<div class=\"alert alert-block alert-success\">\n",
    "<b>Comentario del revisor - Revisión 1</b> <a class=\"tocSkip\"></a>\n",
    "\n",
    "Muy buen trabajo de preprocesamiento de datos! Has trabajado muy bien con la imputación de faltantes y la validación de duplicados. Has tenido en cuenta los tipos de datos adecuados, y corregido la cabecera del dataframe. Las transformaciones son muy adecuadas y convenientes. Te felicito por las decisiones en el tratamiento de las columnas de scores, considerando sus faltantes y escalas.\n",
    "  \n",
    "</div>"
   ]
  },
  {
   "cell_type": "markdown",
   "metadata": {},
   "source": [
    "## Analizar los datos"
   ]
  },
  {
   "cell_type": "code",
   "execution_count": 14,
   "metadata": {},
   "outputs": [
    {
     "data": {
      "text/html": [
       "<div>\n",
       "<style scoped>\n",
       "    .dataframe tbody tr th:only-of-type {\n",
       "        vertical-align: middle;\n",
       "    }\n",
       "\n",
       "    .dataframe tbody tr th {\n",
       "        vertical-align: top;\n",
       "    }\n",
       "\n",
       "    .dataframe thead th {\n",
       "        text-align: right;\n",
       "    }\n",
       "</style>\n",
       "<table border=\"1\" class=\"dataframe\">\n",
       "  <thead>\n",
       "    <tr style=\"text-align: right;\">\n",
       "      <th></th>\n",
       "      <th>year_of_release</th>\n",
       "      <th>platform</th>\n",
       "      <th>total_games_released</th>\n",
       "    </tr>\n",
       "  </thead>\n",
       "  <tbody>\n",
       "    <tr>\n",
       "      <th>0</th>\n",
       "      <td>2008</td>\n",
       "      <td>ds</td>\n",
       "      <td>492</td>\n",
       "    </tr>\n",
       "    <tr>\n",
       "      <th>1</th>\n",
       "      <td>2009</td>\n",
       "      <td>ds</td>\n",
       "      <td>403</td>\n",
       "    </tr>\n",
       "    <tr>\n",
       "      <th>2</th>\n",
       "      <td>2007</td>\n",
       "      <td>ds</td>\n",
       "      <td>376</td>\n",
       "    </tr>\n",
       "    <tr>\n",
       "      <th>3</th>\n",
       "      <td>2009</td>\n",
       "      <td>wii</td>\n",
       "      <td>325</td>\n",
       "    </tr>\n",
       "    <tr>\n",
       "      <th>4</th>\n",
       "      <td>2010</td>\n",
       "      <td>ds</td>\n",
       "      <td>323</td>\n",
       "    </tr>\n",
       "    <tr>\n",
       "      <th>5</th>\n",
       "      <td>2008</td>\n",
       "      <td>wii</td>\n",
       "      <td>282</td>\n",
       "    </tr>\n",
       "    <tr>\n",
       "      <th>6</th>\n",
       "      <td>2002</td>\n",
       "      <td>ps2</td>\n",
       "      <td>280</td>\n",
       "    </tr>\n",
       "    <tr>\n",
       "      <th>7</th>\n",
       "      <td>2005</td>\n",
       "      <td>ps2</td>\n",
       "      <td>260</td>\n",
       "    </tr>\n",
       "    <tr>\n",
       "      <th>8</th>\n",
       "      <td>2004</td>\n",
       "      <td>ps2</td>\n",
       "      <td>259</td>\n",
       "    </tr>\n",
       "    <tr>\n",
       "      <th>9</th>\n",
       "      <td>2006</td>\n",
       "      <td>ps2</td>\n",
       "      <td>259</td>\n",
       "    </tr>\n",
       "    <tr>\n",
       "      <th>10</th>\n",
       "      <td>2003</td>\n",
       "      <td>ps2</td>\n",
       "      <td>256</td>\n",
       "    </tr>\n",
       "    <tr>\n",
       "      <th>11</th>\n",
       "      <td>2010</td>\n",
       "      <td>wii</td>\n",
       "      <td>253</td>\n",
       "    </tr>\n",
       "    <tr>\n",
       "      <th>12</th>\n",
       "      <td>1998</td>\n",
       "      <td>ps</td>\n",
       "      <td>248</td>\n",
       "    </tr>\n",
       "    <tr>\n",
       "      <th>13</th>\n",
       "      <td>2011</td>\n",
       "      <td>ps3</td>\n",
       "      <td>215</td>\n",
       "    </tr>\n",
       "    <tr>\n",
       "      <th>14</th>\n",
       "      <td>2007</td>\n",
       "      <td>ps2</td>\n",
       "      <td>214</td>\n",
       "    </tr>\n",
       "    <tr>\n",
       "      <th>15</th>\n",
       "      <td>2011</td>\n",
       "      <td>x360</td>\n",
       "      <td>206</td>\n",
       "    </tr>\n",
       "    <tr>\n",
       "      <th>16</th>\n",
       "      <td>2006</td>\n",
       "      <td>ds</td>\n",
       "      <td>201</td>\n",
       "    </tr>\n",
       "    <tr>\n",
       "      <th>17</th>\n",
       "      <td>1999</td>\n",
       "      <td>ps</td>\n",
       "      <td>200</td>\n",
       "    </tr>\n",
       "    <tr>\n",
       "      <th>18</th>\n",
       "      <td>2002</td>\n",
       "      <td>gba</td>\n",
       "      <td>198</td>\n",
       "    </tr>\n",
       "    <tr>\n",
       "      <th>19</th>\n",
       "      <td>2008</td>\n",
       "      <td>ps2</td>\n",
       "      <td>191</td>\n",
       "    </tr>\n",
       "  </tbody>\n",
       "</table>\n",
       "</div>"
      ],
      "text/plain": [
       "    year_of_release platform  total_games_released\n",
       "0              2008       ds                   492\n",
       "1              2009       ds                   403\n",
       "2              2007       ds                   376\n",
       "3              2009      wii                   325\n",
       "4              2010       ds                   323\n",
       "5              2008      wii                   282\n",
       "6              2002      ps2                   280\n",
       "7              2005      ps2                   260\n",
       "8              2004      ps2                   259\n",
       "9              2006      ps2                   259\n",
       "10             2003      ps2                   256\n",
       "11             2010      wii                   253\n",
       "12             1998       ps                   248\n",
       "13             2011      ps3                   215\n",
       "14             2007      ps2                   214\n",
       "15             2011     x360                   206\n",
       "16             2006       ds                   201\n",
       "17             1999       ps                   200\n",
       "18             2002      gba                   198\n",
       "19             2008      ps2                   191"
      ]
     },
     "execution_count": 14,
     "metadata": {},
     "output_type": "execute_result"
    }
   ],
   "source": [
    "# Cuántos juegos fueron lanzados en diferentes años. ¿Son significativos los datos de cada período?\n",
    "\n",
    "grp_year = games.groupby(['year_of_release','platform'])['name'].count().reset_index()\n",
    "grp_year.columns.values[2] = 'total_games_released'\n",
    "grp_year = grp_year.sort_values('total_games_released',ascending=False).reset_index(drop=True)\n",
    "\n",
    "grp_year.head(20)"
   ]
  },
  {
   "cell_type": "markdown",
   "metadata": {},
   "source": [
    "- La plataforma ds lanzo más videojuegos de 2007 - 2010\n",
    "- Wii fue el segundo de 2008 - 2009\n",
    "\n",
    "- Mientras que ps2 hizo más lanzamientos de 2002 - 2006 "
   ]
  },
  {
   "cell_type": "markdown",
   "metadata": {},
   "source": [
    "<div class=\"alert alert-block alert-success\">\n",
    "<b>Comentario del revisor - Revisión 1</b> <a class=\"tocSkip\"></a>\n",
    "\n",
    "Excelente trabajo en la agregación de datos y en describir los hallazgos\n",
    "  \n",
    "</div>\n",
    "\n",
    "<div class=\"alert alert-block alert-warning\">\n",
    "<b>Comentario del revisor - Revisión 1</b> <a class=\"tocSkip\"></a>\n",
    "\n",
    "Aquí podrías también mostrar el comportamiento general, de cuantos juegos fueron lanzados por año independiente de la plataforma. Formando un gráfico de berras temporal como el que has formado en 'Ventas Totales de Plataformas Seleccionadas por Año'\n",
    "    \n",
    "Una estrategia de análisis es empezar por lo general, y luego hacer foco en las particularidades. En este caso puedes comenzar con los lanzamientos totales y luego por plataforma.\n",
    "\n",
    "  \n",
    "</div>"
   ]
  },
  {
   "cell_type": "code",
   "execution_count": 15,
   "metadata": {},
   "outputs": [
    {
     "data": {
      "image/png": "[encoded data removed]",
      "text/plain": [
       "<Figure size 1000x500 with 1 Axes>"
      ]
     },
     "metadata": {},
     "output_type": "display_data"
    }
   ],
   "source": [
    "games_by_year = games.groupby(['year_of_release'])['name'].count()\n",
    "\n",
    "games_by_year.plot(kind='bar', stacked=True,figsize=(10, 5))\n",
    "\n",
    "plt.title('Juegos lanzados por año')\n",
    "plt.xlabel('Año de Lanzamiento')\n",
    "plt.ylabel('Total de juegos lanzados')\n",
    "plt.tight_layout()\n",
    "\n",
    "plt.show()"
   ]
  },
  {
   "cell_type": "code",
   "execution_count": 16,
   "metadata": {},
   "outputs": [
    {
     "data": {
      "text/html": [
       "<div>\n",
       "<style scoped>\n",
       "    .dataframe tbody tr th:only-of-type {\n",
       "        vertical-align: middle;\n",
       "    }\n",
       "\n",
       "    .dataframe tbody tr th {\n",
       "        vertical-align: top;\n",
       "    }\n",
       "\n",
       "    .dataframe thead th {\n",
       "        text-align: right;\n",
       "    }\n",
       "</style>\n",
       "<table border=\"1\" class=\"dataframe\">\n",
       "  <thead>\n",
       "    <tr style=\"text-align: right;\">\n",
       "      <th></th>\n",
       "      <th>platform</th>\n",
       "      <th>total_sales</th>\n",
       "    </tr>\n",
       "  </thead>\n",
       "  <tbody>\n",
       "    <tr>\n",
       "      <th>0</th>\n",
       "      <td>ps2</td>\n",
       "      <td>1255.77</td>\n",
       "    </tr>\n",
       "    <tr>\n",
       "      <th>1</th>\n",
       "      <td>x360</td>\n",
       "      <td>971.42</td>\n",
       "    </tr>\n",
       "    <tr>\n",
       "      <th>2</th>\n",
       "      <td>ps3</td>\n",
       "      <td>939.65</td>\n",
       "    </tr>\n",
       "    <tr>\n",
       "      <th>3</th>\n",
       "      <td>wii</td>\n",
       "      <td>907.51</td>\n",
       "    </tr>\n",
       "    <tr>\n",
       "      <th>4</th>\n",
       "      <td>ds</td>\n",
       "      <td>806.12</td>\n",
       "    </tr>\n",
       "    <tr>\n",
       "      <th>5</th>\n",
       "      <td>ps</td>\n",
       "      <td>730.86</td>\n",
       "    </tr>\n",
       "    <tr>\n",
       "      <th>6</th>\n",
       "      <td>gba</td>\n",
       "      <td>317.85</td>\n",
       "    </tr>\n",
       "    <tr>\n",
       "      <th>7</th>\n",
       "      <td>ps4</td>\n",
       "      <td>314.14</td>\n",
       "    </tr>\n",
       "    <tr>\n",
       "      <th>8</th>\n",
       "      <td>psp</td>\n",
       "      <td>294.05</td>\n",
       "    </tr>\n",
       "    <tr>\n",
       "      <th>9</th>\n",
       "      <td>pc</td>\n",
       "      <td>259.52</td>\n",
       "    </tr>\n",
       "    <tr>\n",
       "      <th>10</th>\n",
       "      <td>3ds</td>\n",
       "      <td>259.00</td>\n",
       "    </tr>\n",
       "    <tr>\n",
       "      <th>11</th>\n",
       "      <td>xb</td>\n",
       "      <td>257.74</td>\n",
       "    </tr>\n",
       "    <tr>\n",
       "      <th>12</th>\n",
       "      <td>gb</td>\n",
       "      <td>255.46</td>\n",
       "    </tr>\n",
       "    <tr>\n",
       "      <th>13</th>\n",
       "      <td>nes</td>\n",
       "      <td>251.05</td>\n",
       "    </tr>\n",
       "    <tr>\n",
       "      <th>14</th>\n",
       "      <td>n64</td>\n",
       "      <td>218.68</td>\n",
       "    </tr>\n",
       "    <tr>\n",
       "      <th>15</th>\n",
       "      <td>snes</td>\n",
       "      <td>200.04</td>\n",
       "    </tr>\n",
       "    <tr>\n",
       "      <th>16</th>\n",
       "      <td>gc</td>\n",
       "      <td>198.93</td>\n",
       "    </tr>\n",
       "    <tr>\n",
       "      <th>17</th>\n",
       "      <td>xone</td>\n",
       "      <td>159.32</td>\n",
       "    </tr>\n",
       "    <tr>\n",
       "      <th>18</th>\n",
       "      <td>2600</td>\n",
       "      <td>96.98</td>\n",
       "    </tr>\n",
       "    <tr>\n",
       "      <th>19</th>\n",
       "      <td>wiiu</td>\n",
       "      <td>82.19</td>\n",
       "    </tr>\n",
       "    <tr>\n",
       "      <th>20</th>\n",
       "      <td>psv</td>\n",
       "      <td>54.07</td>\n",
       "    </tr>\n",
       "    <tr>\n",
       "      <th>21</th>\n",
       "      <td>sat</td>\n",
       "      <td>33.59</td>\n",
       "    </tr>\n",
       "    <tr>\n",
       "      <th>22</th>\n",
       "      <td>gen</td>\n",
       "      <td>30.77</td>\n",
       "    </tr>\n",
       "    <tr>\n",
       "      <th>23</th>\n",
       "      <td>dc</td>\n",
       "      <td>15.95</td>\n",
       "    </tr>\n",
       "    <tr>\n",
       "      <th>24</th>\n",
       "      <td>scd</td>\n",
       "      <td>1.86</td>\n",
       "    </tr>\n",
       "    <tr>\n",
       "      <th>25</th>\n",
       "      <td>ng</td>\n",
       "      <td>1.44</td>\n",
       "    </tr>\n",
       "    <tr>\n",
       "      <th>26</th>\n",
       "      <td>ws</td>\n",
       "      <td>1.42</td>\n",
       "    </tr>\n",
       "    <tr>\n",
       "      <th>27</th>\n",
       "      <td>tg16</td>\n",
       "      <td>0.16</td>\n",
       "    </tr>\n",
       "    <tr>\n",
       "      <th>28</th>\n",
       "      <td>3do</td>\n",
       "      <td>0.10</td>\n",
       "    </tr>\n",
       "    <tr>\n",
       "      <th>29</th>\n",
       "      <td>gg</td>\n",
       "      <td>0.04</td>\n",
       "    </tr>\n",
       "    <tr>\n",
       "      <th>30</th>\n",
       "      <td>pcfx</td>\n",
       "      <td>0.03</td>\n",
       "    </tr>\n",
       "  </tbody>\n",
       "</table>\n",
       "</div>"
      ],
      "text/plain": [
       "   platform  total_sales\n",
       "0       ps2      1255.77\n",
       "1      x360       971.42\n",
       "2       ps3       939.65\n",
       "3       wii       907.51\n",
       "4        ds       806.12\n",
       "5        ps       730.86\n",
       "6       gba       317.85\n",
       "7       ps4       314.14\n",
       "8       psp       294.05\n",
       "9        pc       259.52\n",
       "10      3ds       259.00\n",
       "11       xb       257.74\n",
       "12       gb       255.46\n",
       "13      nes       251.05\n",
       "14      n64       218.68\n",
       "15     snes       200.04\n",
       "16       gc       198.93\n",
       "17     xone       159.32\n",
       "18     2600        96.98\n",
       "19     wiiu        82.19\n",
       "20      psv        54.07\n",
       "21      sat        33.59\n",
       "22      gen        30.77\n",
       "23       dc        15.95\n",
       "24      scd         1.86\n",
       "25       ng         1.44\n",
       "26       ws         1.42\n",
       "27     tg16         0.16\n",
       "28      3do         0.10\n",
       "29       gg         0.04\n",
       "30     pcfx         0.03"
      ]
     },
     "execution_count": 16,
     "metadata": {},
     "output_type": "execute_result"
    }
   ],
   "source": [
    "\"\"\"\" Observa cómo varían las ventas de una plataforma a otra. Elige las plataformas con las mayores ventas totales y construye \n",
    "una distribución basada en los datos de cada año. Busca las plataformas que solían ser populares pero que ahora no tienen ventas. \n",
    "¿Cuánto tardan generalmente las nuevas plataformas en aparecer y las antiguas en desaparecer? \"\"\"\n",
    "\n",
    "highest_sales = games.groupby(['platform'])['total_sales'].sum().reset_index()\n",
    "\n",
    "highest_sales = highest_sales.sort_values('total_sales',ascending=False).reset_index(drop=True)\n",
    "\n",
    "highest_sales"
   ]
  },
  {
   "cell_type": "code",
   "execution_count": 17,
   "metadata": {},
   "outputs": [
    {
     "data": {
      "image/png": "[encoded data removed]",
      "text/plain": [
       "<Figure size 1000x500 with 1 Axes>"
      ]
     },
     "metadata": {},
     "output_type": "display_data"
    }
   ],
   "source": [
    "hist_highest_sales = highest_sales[highest_sales['total_sales']>259]\n",
    "\n",
    "hist_highest_sales.plot(x='platform',kind='bar',title='Plataformas con mayores ventas',xlabel='Platforms',ylabel='Ventas totales', figsize=(10, 5))\n",
    "\n",
    "plt.legend(['total_sales'])\n",
    "plt.show()"
   ]
  },
  {
   "cell_type": "markdown",
   "metadata": {},
   "source": [
    "<div class=\"alert alert-block alert-success\">\n",
    "<b>Comentario del revisor - Revisión 1</b> <a class=\"tocSkip\"></a>\n",
    "\n",
    "Muy buena decisión de incluir en la visualización y en los análisis solo a las plataformas con más ventas.\n",
    "  \n",
    "</div>\n"
   ]
  },
  {
   "cell_type": "code",
   "execution_count": 18,
   "metadata": {},
   "outputs": [
    {
     "data": {
      "image/png": "[encoded data removed]",
      "text/plain": [
       "<Figure size 1000x500 with 1 Axes>"
      ]
     },
     "metadata": {},
     "output_type": "display_data"
    }
   ],
   "source": [
    "selected_platforms = ['ps2', 'x360', 'ps3', 'wii', 'ds', 'ps']  \n",
    "\n",
    "filtered_df = games[games['platform'].isin(selected_platforms)]\n",
    "\n",
    "grouped_sales = filtered_df.groupby(['year_of_release', 'platform'])['total_sales'].sum().unstack()\n",
    "\n",
    "grouped_sales.plot(kind='bar', stacked=True,figsize=(10, 5))\n",
    "\n",
    "plt.title('Juegos lanzados por año')\n",
    "plt.xlabel('Año de Lanzamiento')\n",
    "plt.ylabel('Total de juegos lanzados')\n",
    "plt.legend(title='Plataforma', bbox_to_anchor=(1.05, 1), loc='upper left')  # Colocar la leyenda fuera del gráfico\n",
    "plt.tight_layout()\n",
    "\n",
    "plt.show()\n"
   ]
  },
  {
   "cell_type": "markdown",
   "metadata": {},
   "source": [
    "<div class=\"alert alert-block alert-success\">\n",
    "<b>Comentario del revisor - Revisión 1</b> <a class=\"tocSkip\"></a>\n",
    "\n",
    "Este gráfico es excelente! Felicitaciones! Has logrado mostrar múltiples patrones en una sola visualización de manera muy clara.\n",
    "  \n",
    "</div>"
   ]
  },
  {
   "cell_type": "code",
   "execution_count": 19,
   "metadata": {},
   "outputs": [
    {
     "data": {
      "text/html": [
       "<div>\n",
       "<style scoped>\n",
       "    .dataframe tbody tr th:only-of-type {\n",
       "        vertical-align: middle;\n",
       "    }\n",
       "\n",
       "    .dataframe tbody tr th {\n",
       "        vertical-align: top;\n",
       "    }\n",
       "\n",
       "    .dataframe thead th {\n",
       "        text-align: right;\n",
       "    }\n",
       "</style>\n",
       "<table border=\"1\" class=\"dataframe\">\n",
       "  <thead>\n",
       "    <tr style=\"text-align: right;\">\n",
       "      <th></th>\n",
       "      <th>platform</th>\n",
       "      <th>min</th>\n",
       "      <th>max</th>\n",
       "      <th>lifetime</th>\n",
       "    </tr>\n",
       "  </thead>\n",
       "  <tbody>\n",
       "    <tr>\n",
       "      <th>0</th>\n",
       "      <td>pc</td>\n",
       "      <td>1985</td>\n",
       "      <td>2016</td>\n",
       "      <td>31</td>\n",
       "    </tr>\n",
       "    <tr>\n",
       "      <th>1</th>\n",
       "      <td>ds</td>\n",
       "      <td>1985</td>\n",
       "      <td>2013</td>\n",
       "      <td>28</td>\n",
       "    </tr>\n",
       "    <tr>\n",
       "      <th>2</th>\n",
       "      <td>gb</td>\n",
       "      <td>1988</td>\n",
       "      <td>2001</td>\n",
       "      <td>13</td>\n",
       "    </tr>\n",
       "    <tr>\n",
       "      <th>3</th>\n",
       "      <td>x360</td>\n",
       "      <td>2005</td>\n",
       "      <td>2016</td>\n",
       "      <td>11</td>\n",
       "    </tr>\n",
       "    <tr>\n",
       "      <th>4</th>\n",
       "      <td>psp</td>\n",
       "      <td>2004</td>\n",
       "      <td>2015</td>\n",
       "      <td>11</td>\n",
       "    </tr>\n",
       "    <tr>\n",
       "      <th>5</th>\n",
       "      <td>ps2</td>\n",
       "      <td>2000</td>\n",
       "      <td>2011</td>\n",
       "      <td>11</td>\n",
       "    </tr>\n",
       "    <tr>\n",
       "      <th>6</th>\n",
       "      <td>nes</td>\n",
       "      <td>1983</td>\n",
       "      <td>1994</td>\n",
       "      <td>11</td>\n",
       "    </tr>\n",
       "    <tr>\n",
       "      <th>7</th>\n",
       "      <td>dc</td>\n",
       "      <td>1998</td>\n",
       "      <td>2008</td>\n",
       "      <td>10</td>\n",
       "    </tr>\n",
       "    <tr>\n",
       "      <th>8</th>\n",
       "      <td>wii</td>\n",
       "      <td>2006</td>\n",
       "      <td>2016</td>\n",
       "      <td>10</td>\n",
       "    </tr>\n",
       "    <tr>\n",
       "      <th>9</th>\n",
       "      <td>ps3</td>\n",
       "      <td>2006</td>\n",
       "      <td>2016</td>\n",
       "      <td>10</td>\n",
       "    </tr>\n",
       "    <tr>\n",
       "      <th>10</th>\n",
       "      <td>2600</td>\n",
       "      <td>1980</td>\n",
       "      <td>1989</td>\n",
       "      <td>9</td>\n",
       "    </tr>\n",
       "    <tr>\n",
       "      <th>11</th>\n",
       "      <td>snes</td>\n",
       "      <td>1990</td>\n",
       "      <td>1999</td>\n",
       "      <td>9</td>\n",
       "    </tr>\n",
       "    <tr>\n",
       "      <th>12</th>\n",
       "      <td>ps</td>\n",
       "      <td>1994</td>\n",
       "      <td>2003</td>\n",
       "      <td>9</td>\n",
       "    </tr>\n",
       "    <tr>\n",
       "      <th>13</th>\n",
       "      <td>xb</td>\n",
       "      <td>2000</td>\n",
       "      <td>2008</td>\n",
       "      <td>8</td>\n",
       "    </tr>\n",
       "    <tr>\n",
       "      <th>14</th>\n",
       "      <td>gba</td>\n",
       "      <td>2000</td>\n",
       "      <td>2007</td>\n",
       "      <td>7</td>\n",
       "    </tr>\n",
       "    <tr>\n",
       "      <th>15</th>\n",
       "      <td>gc</td>\n",
       "      <td>2001</td>\n",
       "      <td>2007</td>\n",
       "      <td>6</td>\n",
       "    </tr>\n",
       "    <tr>\n",
       "      <th>16</th>\n",
       "      <td>n64</td>\n",
       "      <td>1996</td>\n",
       "      <td>2002</td>\n",
       "      <td>6</td>\n",
       "    </tr>\n",
       "    <tr>\n",
       "      <th>17</th>\n",
       "      <td>3ds</td>\n",
       "      <td>2011</td>\n",
       "      <td>2016</td>\n",
       "      <td>5</td>\n",
       "    </tr>\n",
       "    <tr>\n",
       "      <th>18</th>\n",
       "      <td>psv</td>\n",
       "      <td>2011</td>\n",
       "      <td>2016</td>\n",
       "      <td>5</td>\n",
       "    </tr>\n",
       "    <tr>\n",
       "      <th>19</th>\n",
       "      <td>sat</td>\n",
       "      <td>1994</td>\n",
       "      <td>1999</td>\n",
       "      <td>5</td>\n",
       "    </tr>\n",
       "    <tr>\n",
       "      <th>20</th>\n",
       "      <td>wiiu</td>\n",
       "      <td>2012</td>\n",
       "      <td>2016</td>\n",
       "      <td>4</td>\n",
       "    </tr>\n",
       "    <tr>\n",
       "      <th>21</th>\n",
       "      <td>gen</td>\n",
       "      <td>1990</td>\n",
       "      <td>1994</td>\n",
       "      <td>4</td>\n",
       "    </tr>\n",
       "    <tr>\n",
       "      <th>22</th>\n",
       "      <td>ng</td>\n",
       "      <td>1993</td>\n",
       "      <td>1996</td>\n",
       "      <td>3</td>\n",
       "    </tr>\n",
       "    <tr>\n",
       "      <th>23</th>\n",
       "      <td>xone</td>\n",
       "      <td>2013</td>\n",
       "      <td>2016</td>\n",
       "      <td>3</td>\n",
       "    </tr>\n",
       "    <tr>\n",
       "      <th>24</th>\n",
       "      <td>ps4</td>\n",
       "      <td>2013</td>\n",
       "      <td>2016</td>\n",
       "      <td>3</td>\n",
       "    </tr>\n",
       "    <tr>\n",
       "      <th>25</th>\n",
       "      <td>ws</td>\n",
       "      <td>1999</td>\n",
       "      <td>2001</td>\n",
       "      <td>2</td>\n",
       "    </tr>\n",
       "    <tr>\n",
       "      <th>26</th>\n",
       "      <td>3do</td>\n",
       "      <td>1994</td>\n",
       "      <td>1995</td>\n",
       "      <td>1</td>\n",
       "    </tr>\n",
       "    <tr>\n",
       "      <th>27</th>\n",
       "      <td>scd</td>\n",
       "      <td>1993</td>\n",
       "      <td>1994</td>\n",
       "      <td>1</td>\n",
       "    </tr>\n",
       "    <tr>\n",
       "      <th>28</th>\n",
       "      <td>tg16</td>\n",
       "      <td>1995</td>\n",
       "      <td>1995</td>\n",
       "      <td>0</td>\n",
       "    </tr>\n",
       "    <tr>\n",
       "      <th>29</th>\n",
       "      <td>pcfx</td>\n",
       "      <td>1996</td>\n",
       "      <td>1996</td>\n",
       "      <td>0</td>\n",
       "    </tr>\n",
       "    <tr>\n",
       "      <th>30</th>\n",
       "      <td>gg</td>\n",
       "      <td>1992</td>\n",
       "      <td>1992</td>\n",
       "      <td>0</td>\n",
       "    </tr>\n",
       "  </tbody>\n",
       "</table>\n",
       "</div>"
      ],
      "text/plain": [
       "   platform   min   max  lifetime\n",
       "0        pc  1985  2016        31\n",
       "1        ds  1985  2013        28\n",
       "2        gb  1988  2001        13\n",
       "3      x360  2005  2016        11\n",
       "4       psp  2004  2015        11\n",
       "5       ps2  2000  2011        11\n",
       "6       nes  1983  1994        11\n",
       "7        dc  1998  2008        10\n",
       "8       wii  2006  2016        10\n",
       "9       ps3  2006  2016        10\n",
       "10     2600  1980  1989         9\n",
       "11     snes  1990  1999         9\n",
       "12       ps  1994  2003         9\n",
       "13       xb  2000  2008         8\n",
       "14      gba  2000  2007         7\n",
       "15       gc  2001  2007         6\n",
       "16      n64  1996  2002         6\n",
       "17      3ds  2011  2016         5\n",
       "18      psv  2011  2016         5\n",
       "19      sat  1994  1999         5\n",
       "20     wiiu  2012  2016         4\n",
       "21      gen  1990  1994         4\n",
       "22       ng  1993  1996         3\n",
       "23     xone  2013  2016         3\n",
       "24      ps4  2013  2016         3\n",
       "25       ws  1999  2001         2\n",
       "26      3do  1994  1995         1\n",
       "27      scd  1993  1994         1\n",
       "28     tg16  1995  1995         0\n",
       "29     pcfx  1996  1996         0\n",
       "30       gg  1992  1992         0"
      ]
     },
     "execution_count": 19,
     "metadata": {},
     "output_type": "execute_result"
    }
   ],
   "source": [
    "# Calcular tiempo de vida de las plataformas\n",
    "\n",
    "platform_life = games.groupby('platform')['year_of_release'].agg(['min', 'max']).reset_index()\n",
    "\n",
    "platform_life['lifetime'] = platform_life['max'] - platform_life['min']\n",
    "\n",
    "platform_life = platform_life.sort_values('lifetime',ascending=False).reset_index(drop=True)\n",
    "\n",
    "platform_life\n"
   ]
  },
  {
   "cell_type": "markdown",
   "metadata": {},
   "source": [
    "<div class=\"alert alert-block alert-success\">\n",
    "<b>Comentario del revisor - Revisión 1</b> <a class=\"tocSkip\"></a>\n",
    "\n",
    "Muy buena transformación para el cálculo de tiempo de vida de las plataformas.\n",
    "\n",
    "En base al gráfico y estos resultados, se puede decir que las plataformas más importantes, y sobre todo las de tipo consola, suelen tener una importancia en el mercado de alrededor de 10 años.\n",
    "  \n",
    "</div>"
   ]
  },
  {
   "cell_type": "markdown",
   "metadata": {},
   "source": [
    "No hay una cantidad exacta de cuantos años deben pasar para que aparezca una nueva plataforma, sin embargo, las plataformas antiguas suelen durar más en función de los nuevos lanzamientos de videojuegos.\n",
    "\n"
   ]
  },
  {
   "cell_type": "markdown",
   "metadata": {},
   "source": [
    "*Determina para qué período debes tomar datos. Para hacerlo mira tus respuestas a las preguntas anteriores. Los datos deberían permitirte construir un modelo para 2017.*\n",
    "\n",
    "*Trabaja solo con los datos que consideras relevantes. Ignora los datos de años anteriores.*\n",
    "\n",
    "----------"
   ]
  },
  {
   "cell_type": "markdown",
   "metadata": {},
   "source": [
    "¿Qué plataformas son líderes en ventas? ¿Cuáles crecen y cuáles se reducen? Elige varias plataformas potencialmente rentables\n",
    "\n",
    "Las plataformas con mayores ventas son:\n",
    "\n",
    "- ps2\n",
    "- x360\n",
    "- ps3\n",
    "- wii\n",
    "- ds\n",
    "\n",
    "x360 crecio, mientras que ps3 fue disminuyendo\n"
   ]
  },
  {
   "cell_type": "markdown",
   "metadata": {},
   "source": [
    "<div class=\"alert alert-block alert-warning\">\n",
    "<b>Comentario del revisor - Revisión 1</b> <a class=\"tocSkip\"></a>\n",
    "\n",
    "Ten en consideración que el período que debe tomarse, se basa en aportar hallazgos para que el equipo de marketing haga campañas de juegos en el 2017. Por lo tanto, la información más actual a esta fecha es la más adecuada, sobre todo en este mercado donde, que por lo que has mostrado, es muy dinámico.\n",
    "    \n",
    "En resumen, selecciona los años más recientes, de 3 a 5 años, según tu criterio. Lo que tienes que considerar es que cuanto más cercana a 2017 la información es más valiosa y actualizada, pero al mismo tiempo cuanto más años se tiene más soporte y sustento en los datos.\n",
    "    \n",
    "    \n",
    "Luego de esta nueva selección ejecuta de nuevo los análisis de las siguentes secciones y verifica si se producen cambios\n",
    "\n",
    "</div>\n",
    "\n",
    "\n",
    "<div class=\"alert alert-block alert-success\">\n",
    "<b>Comentario del revisor - Revisión 2</b> <a class=\"tocSkip\"></a>\n",
    "\n",
    "Muy bien! La selección de años hace que los análisis tengan una mayor relevancia para la toma de decisiones de negocio.\n",
    "\n",
    "</div>\n"
   ]
  },
  {
   "cell_type": "code",
   "execution_count": 20,
   "metadata": {},
   "outputs": [
    {
     "data": {
      "text/plain": [
       "(0.0, 2.5)"
      ]
     },
     "execution_count": 20,
     "metadata": {},
     "output_type": "execute_result"
    },
    {
     "data": {
      "image/png": "[encoded data removed]",
      "text/plain": [
       "<Figure size 640x480 with 1 Axes>"
      ]
     },
     "metadata": {},
     "output_type": "display_data"
    }
   ],
   "source": [
    "# Crea un diagrama de caja para las ventas globales de todos los juegos, desglosados por plataforma. ¿Son significativas las \n",
    "# diferencias en las ventas? ¿Qué sucede con las ventas promedio en varias plataformas? Describe tus hallazgos\n",
    "\n",
    "\"\"\"\n",
    "Tomaré datos del 2012 - 2016 porque son los años en que las consolas más vendidas tuvieron más lanzamientos nuevos de videojuegos\n",
    "y por ello vendieron más\"\"\"\n",
    "\n",
    "select_platforms = ['ps2', 'x360', 'ps3', 'wii', 'ds', 'ps']  \n",
    "\n",
    "filtered_df = games[games['platform'].isin(selected_platforms)]\n",
    "\n",
    "new_df = filtered_df[(filtered_df['year_of_release'] >= 2012) & (filtered_df['year_of_release'] <= 2016)]\n",
    "\n",
    "global_sales = new_df.groupby(['platform','name'])['total_sales'].sum().reset_index()\n",
    "\n",
    "sns.boxplot(x='platform',y='total_sales',data=global_sales)\n",
    "plt.ylim(0, 2.5)"
   ]
  },
  {
   "cell_type": "markdown",
   "metadata": {},
   "source": [
    "La mediana es ligeramente diferente en las plataformas, lo cual refleja que hay casi la misma cantidad de datos en cada plataforma. Pero en todas las plataformas hay muchos datos atipicos lo cual altera el promedio de las ventas y quiere decir que hay mucha dispersión en los datos."
   ]
  },
  {
   "cell_type": "code",
   "execution_count": 21,
   "metadata": {},
   "outputs": [
    {
     "data": {
      "text/html": [
       "<div>\n",
       "<style scoped>\n",
       "    .dataframe tbody tr th:only-of-type {\n",
       "        vertical-align: middle;\n",
       "    }\n",
       "\n",
       "    .dataframe tbody tr th {\n",
       "        vertical-align: top;\n",
       "    }\n",
       "\n",
       "    .dataframe thead th {\n",
       "        text-align: right;\n",
       "    }\n",
       "</style>\n",
       "<table border=\"1\" class=\"dataframe\">\n",
       "  <thead>\n",
       "    <tr style=\"text-align: right;\">\n",
       "      <th></th>\n",
       "      <th>platform</th>\n",
       "      <th>total_sales</th>\n",
       "    </tr>\n",
       "  </thead>\n",
       "  <tbody>\n",
       "    <tr>\n",
       "      <th>0</th>\n",
       "      <td>ps3</td>\n",
       "      <td>288.79</td>\n",
       "    </tr>\n",
       "    <tr>\n",
       "      <th>1</th>\n",
       "      <td>x360</td>\n",
       "      <td>236.54</td>\n",
       "    </tr>\n",
       "    <tr>\n",
       "      <th>2</th>\n",
       "      <td>wii</td>\n",
       "      <td>35.37</td>\n",
       "    </tr>\n",
       "    <tr>\n",
       "      <th>3</th>\n",
       "      <td>ds</td>\n",
       "      <td>12.55</td>\n",
       "    </tr>\n",
       "  </tbody>\n",
       "</table>\n",
       "</div>"
      ],
      "text/plain": [
       "  platform  total_sales\n",
       "0      ps3       288.79\n",
       "1     x360       236.54\n",
       "2      wii        35.37\n",
       "3       ds        12.55"
      ]
     },
     "execution_count": 21,
     "metadata": {},
     "output_type": "execute_result"
    }
   ],
   "source": [
    "# PLATAFORMAS MAS VENDIDAS DE 2012 - 2016\n",
    "\n",
    "best_selling_platforms = new_df.groupby(['platform'])['total_sales'].sum().reset_index()\n",
    "\n",
    "best_selling_platforms = best_selling_platforms.sort_values('total_sales',ascending=False).reset_index(drop=True)\n",
    "\n",
    "best_selling_platforms"
   ]
  },
  {
   "cell_type": "markdown",
   "metadata": {},
   "source": [
    "<div class=\"alert alert-block alert-success\">\n",
    "<b>Comentario del revisor - Revisión 1</b> <a class=\"tocSkip\"></a>\n",
    "\n",
    "Muy buen gráfico y conclusiones. Repítelo en la nueva selección de fechas.\n",
    "\n",
    "</div>"
   ]
  },
  {
   "cell_type": "code",
   "execution_count": 22,
   "metadata": {},
   "outputs": [
    {
     "data": {
      "image/png": "[encoded data removed]",
      "text/plain": [
       "<Figure size 1000x500 with 1 Axes>"
      ]
     },
     "metadata": {},
     "output_type": "display_data"
    }
   ],
   "source": [
    "\"\"\" Mira cómo las reseñas de usuarios y profesionales afectan las ventas de una plataforma popular (tu elección). Crea un \n",
    "gráfico de dispersión y calcula la correlación entre las reseñas y las ventas. Saca conclusiones. \"\"\"\n",
    "\n",
    "filtered_new_df = new_df[new_df['platform'] == 'x360']\n",
    "reviews = filtered_new_df.groupby(['critic_score','user_score'])['total_sales'].sum().reset_index()\n",
    "\n",
    "plt.figure(figsize=(10, 5))\n",
    "plt.scatter(reviews['critic_score'], reviews['user_score'], s=reviews['total_sales']*10,alpha=0.5,color='red')\n",
    "\n",
    "plt.title('Relación entre Critic Score y User Score vs Total Sales (X360)')\n",
    "plt.xlabel('Critic Score')\n",
    "plt.ylabel('User Score')\n",
    "\n",
    "plt.show()"
   ]
  },
  {
   "cell_type": "code",
   "execution_count": 23,
   "metadata": {},
   "outputs": [
    {
     "data": {
      "text/plain": [
       "0.5614856031180144"
      ]
     },
     "execution_count": 23,
     "metadata": {},
     "output_type": "execute_result"
    }
   ],
   "source": [
    "# Calcular correlación\n",
    "\n",
    "reviews['critic_score'].corr(reviews['user_score'])"
   ]
  },
  {
   "cell_type": "markdown",
   "metadata": {},
   "source": [
    "Existe una correlación entre ambas variables de 0.5614, esto quiere decir que existe una relación media, pero no perfecta entre ambas variables. Probablemente cuando la puntuación de los criticos es una, la de los usuarios suele ser otra, pero no en todos los casos."
   ]
  },
  {
   "cell_type": "markdown",
   "metadata": {},
   "source": [
    "<div class=\"alert alert-block alert-success\">\n",
    "<b>Comentario del revisor - Revisión 1</b> <a class=\"tocSkip\"></a>\n",
    "\n",
    "Excelente hallazgo! La visualización es muy completa, mostrando tres variables haciendo uso del tamaño de los puntos.\n",
    "\n",
    "</div>\n",
    "\n",
    "<div class=\"alert alert-block alert-warning\">\n",
    "<b>Comentario del revisor - Revisión 1</b> <a class=\"tocSkip\"></a>\n",
    "\n",
    "Así como los otros puntos, deberás analizar los nuevos resultados.\n",
    "    \n",
    "También puedes analizar la correlación de cada una de las variables de score con las ventas. Que tipo de reseña está más correlacionada con las ventas?\n",
    " \n",
    "</div>"
   ]
  },
  {
   "cell_type": "code",
   "execution_count": 24,
   "metadata": {},
   "outputs": [
    {
     "data": {
      "text/html": [
       "<div>\n",
       "<style scoped>\n",
       "    .dataframe tbody tr th:only-of-type {\n",
       "        vertical-align: middle;\n",
       "    }\n",
       "\n",
       "    .dataframe tbody tr th {\n",
       "        vertical-align: top;\n",
       "    }\n",
       "\n",
       "    .dataframe thead th {\n",
       "        text-align: right;\n",
       "    }\n",
       "</style>\n",
       "<table border=\"1\" class=\"dataframe\">\n",
       "  <thead>\n",
       "    <tr style=\"text-align: right;\">\n",
       "      <th>platform</th>\n",
       "      <th>name</th>\n",
       "      <th>ps3</th>\n",
       "      <th>wii</th>\n",
       "      <th>x360</th>\n",
       "    </tr>\n",
       "  </thead>\n",
       "  <tbody>\n",
       "    <tr>\n",
       "      <th>0</th>\n",
       "      <td>angry birds star wars</td>\n",
       "      <td>0.29</td>\n",
       "      <td>0.26</td>\n",
       "      <td>0.28</td>\n",
       "    </tr>\n",
       "    <tr>\n",
       "      <th>1</th>\n",
       "      <td>disney infinity</td>\n",
       "      <td>0.97</td>\n",
       "      <td>1.60</td>\n",
       "      <td>1.44</td>\n",
       "    </tr>\n",
       "    <tr>\n",
       "      <th>2</th>\n",
       "      <td>epic mickey 2: the power of two</td>\n",
       "      <td>0.47</td>\n",
       "      <td>0.95</td>\n",
       "      <td>0.51</td>\n",
       "    </tr>\n",
       "    <tr>\n",
       "      <th>3</th>\n",
       "      <td>fifa 14</td>\n",
       "      <td>6.46</td>\n",
       "      <td>0.38</td>\n",
       "      <td>4.22</td>\n",
       "    </tr>\n",
       "    <tr>\n",
       "      <th>4</th>\n",
       "      <td>fifa 15</td>\n",
       "      <td>4.28</td>\n",
       "      <td>0.56</td>\n",
       "      <td>2.92</td>\n",
       "    </tr>\n",
       "    <tr>\n",
       "      <th>5</th>\n",
       "      <td>fifa soccer 13</td>\n",
       "      <td>8.17</td>\n",
       "      <td>0.69</td>\n",
       "      <td>5.16</td>\n",
       "    </tr>\n",
       "    <tr>\n",
       "      <th>6</th>\n",
       "      <td>how to train your dragon 2</td>\n",
       "      <td>0.11</td>\n",
       "      <td>0.18</td>\n",
       "      <td>0.16</td>\n",
       "    </tr>\n",
       "    <tr>\n",
       "      <th>7</th>\n",
       "      <td>just dance 2014</td>\n",
       "      <td>0.37</td>\n",
       "      <td>3.58</td>\n",
       "      <td>0.99</td>\n",
       "    </tr>\n",
       "    <tr>\n",
       "      <th>8</th>\n",
       "      <td>just dance 2015</td>\n",
       "      <td>0.25</td>\n",
       "      <td>2.01</td>\n",
       "      <td>0.61</td>\n",
       "    </tr>\n",
       "    <tr>\n",
       "      <th>9</th>\n",
       "      <td>just dance 2016</td>\n",
       "      <td>0.19</td>\n",
       "      <td>0.95</td>\n",
       "      <td>0.31</td>\n",
       "    </tr>\n",
       "    <tr>\n",
       "      <th>10</th>\n",
       "      <td>just dance 2017</td>\n",
       "      <td>0.05</td>\n",
       "      <td>0.18</td>\n",
       "      <td>0.04</td>\n",
       "    </tr>\n",
       "    <tr>\n",
       "      <th>11</th>\n",
       "      <td>just dance 4</td>\n",
       "      <td>0.43</td>\n",
       "      <td>6.76</td>\n",
       "      <td>1.18</td>\n",
       "    </tr>\n",
       "    <tr>\n",
       "      <th>12</th>\n",
       "      <td>lego batman 2: dc super heroes</td>\n",
       "      <td>1.19</td>\n",
       "      <td>1.38</td>\n",
       "      <td>1.66</td>\n",
       "    </tr>\n",
       "    <tr>\n",
       "      <th>13</th>\n",
       "      <td>lego the lord of the rings</td>\n",
       "      <td>1.05</td>\n",
       "      <td>0.89</td>\n",
       "      <td>1.24</td>\n",
       "    </tr>\n",
       "    <tr>\n",
       "      <th>14</th>\n",
       "      <td>madden nfl 13</td>\n",
       "      <td>2.57</td>\n",
       "      <td>0.50</td>\n",
       "      <td>2.85</td>\n",
       "    </tr>\n",
       "    <tr>\n",
       "      <th>15</th>\n",
       "      <td>major league baseball 2k12</td>\n",
       "      <td>0.20</td>\n",
       "      <td>0.15</td>\n",
       "      <td>0.50</td>\n",
       "    </tr>\n",
       "    <tr>\n",
       "      <th>16</th>\n",
       "      <td>monster high: new ghoul in school</td>\n",
       "      <td>0.04</td>\n",
       "      <td>0.01</td>\n",
       "      <td>0.02</td>\n",
       "    </tr>\n",
       "    <tr>\n",
       "      <th>17</th>\n",
       "      <td>nba 2k13</td>\n",
       "      <td>2.48</td>\n",
       "      <td>0.42</td>\n",
       "      <td>3.00</td>\n",
       "    </tr>\n",
       "    <tr>\n",
       "      <th>18</th>\n",
       "      <td>pro evolution soccer 2013</td>\n",
       "      <td>1.54</td>\n",
       "      <td>0.09</td>\n",
       "      <td>0.31</td>\n",
       "    </tr>\n",
       "    <tr>\n",
       "      <th>19</th>\n",
       "      <td>skylanders giants</td>\n",
       "      <td>1.05</td>\n",
       "      <td>2.52</td>\n",
       "      <td>1.30</td>\n",
       "    </tr>\n",
       "    <tr>\n",
       "      <th>20</th>\n",
       "      <td>skylanders swap force</td>\n",
       "      <td>1.02</td>\n",
       "      <td>2.15</td>\n",
       "      <td>1.32</td>\n",
       "    </tr>\n",
       "    <tr>\n",
       "      <th>21</th>\n",
       "      <td>skylanders: superchargers</td>\n",
       "      <td>0.37</td>\n",
       "      <td>0.15</td>\n",
       "      <td>0.42</td>\n",
       "    </tr>\n",
       "    <tr>\n",
       "      <th>22</th>\n",
       "      <td>skylanders: trap team</td>\n",
       "      <td>0.67</td>\n",
       "      <td>0.95</td>\n",
       "      <td>0.89</td>\n",
       "    </tr>\n",
       "    <tr>\n",
       "      <th>23</th>\n",
       "      <td>the amazing spider-man (console version)</td>\n",
       "      <td>0.79</td>\n",
       "      <td>0.15</td>\n",
       "      <td>0.73</td>\n",
       "    </tr>\n",
       "    <tr>\n",
       "      <th>24</th>\n",
       "      <td>the smurfs 2</td>\n",
       "      <td>0.10</td>\n",
       "      <td>0.10</td>\n",
       "      <td>0.12</td>\n",
       "    </tr>\n",
       "    <tr>\n",
       "      <th>25</th>\n",
       "      <td>turbo: super stunt squad</td>\n",
       "      <td>0.01</td>\n",
       "      <td>0.01</td>\n",
       "      <td>0.01</td>\n",
       "    </tr>\n",
       "    <tr>\n",
       "      <th>26</th>\n",
       "      <td>wwe '13</td>\n",
       "      <td>1.36</td>\n",
       "      <td>0.14</td>\n",
       "      <td>1.27</td>\n",
       "    </tr>\n",
       "    <tr>\n",
       "      <th>27</th>\n",
       "      <td>young justice: legacy</td>\n",
       "      <td>0.09</td>\n",
       "      <td>0.03</td>\n",
       "      <td>0.01</td>\n",
       "    </tr>\n",
       "  </tbody>\n",
       "</table>\n",
       "</div>"
      ],
      "text/plain": [
       "platform                                      name   ps3   wii  x360\n",
       "0                            angry birds star wars  0.29  0.26  0.28\n",
       "1                                  disney infinity  0.97  1.60  1.44\n",
       "2                  epic mickey 2: the power of two  0.47  0.95  0.51\n",
       "3                                          fifa 14  6.46  0.38  4.22\n",
       "4                                          fifa 15  4.28  0.56  2.92\n",
       "5                                   fifa soccer 13  8.17  0.69  5.16\n",
       "6                       how to train your dragon 2  0.11  0.18  0.16\n",
       "7                                  just dance 2014  0.37  3.58  0.99\n",
       "8                                  just dance 2015  0.25  2.01  0.61\n",
       "9                                  just dance 2016  0.19  0.95  0.31\n",
       "10                                 just dance 2017  0.05  0.18  0.04\n",
       "11                                    just dance 4  0.43  6.76  1.18\n",
       "12                  lego batman 2: dc super heroes  1.19  1.38  1.66\n",
       "13                      lego the lord of the rings  1.05  0.89  1.24\n",
       "14                                   madden nfl 13  2.57  0.50  2.85\n",
       "15                      major league baseball 2k12  0.20  0.15  0.50\n",
       "16               monster high: new ghoul in school  0.04  0.01  0.02\n",
       "17                                        nba 2k13  2.48  0.42  3.00\n",
       "18                       pro evolution soccer 2013  1.54  0.09  0.31\n",
       "19                               skylanders giants  1.05  2.52  1.30\n",
       "20                           skylanders swap force  1.02  2.15  1.32\n",
       "21                       skylanders: superchargers  0.37  0.15  0.42\n",
       "22                           skylanders: trap team  0.67  0.95  0.89\n",
       "23        the amazing spider-man (console version)  0.79  0.15  0.73\n",
       "24                                    the smurfs 2  0.10  0.10  0.12\n",
       "25                        turbo: super stunt squad  0.01  0.01  0.01\n",
       "26                                         wwe '13  1.36  0.14  1.27\n",
       "27                           young justice: legacy  0.09  0.03  0.01"
      ]
     },
     "execution_count": 24,
     "metadata": {},
     "output_type": "execute_result"
    }
   ],
   "source": [
    "# Teniendo en cuenta tus conclusiones compara las ventas de los mismos juegos en otras plataformas.\n",
    "\n",
    "selected_platforms = ['wii', 'x360', 'ps3']\n",
    "\n",
    "filtere = new_df[new_df['platform'].isin(selected_platforms)]\n",
    "\n",
    "sales_by_game = filtere.groupby(['name', 'platform'])['total_sales'].sum().reset_index()\n",
    "\n",
    "# Hacer tabla dinamica\n",
    "sales_pivot = sales_by_game.pivot_table(index='name', columns='platform', values='total_sales').reset_index()\n",
    "\n",
    "# Llenar los NaN con 0, si hay juegos que no se han vendido en alguna plataforma\n",
    "sales_pivot = sales_pivot.fillna(0)\n",
    "\n",
    "# Filtrar los juegos que están en las tres plataformas\n",
    "games_in_all_platforms = sales_pivot[\n",
    "    (sales_pivot['wii'] > 0) & \n",
    "    (sales_pivot['x360'] > 0) & \n",
    "    (sales_pivot['ps3'] > 0)\n",
    "].reset_index(drop=True)\n",
    "\n",
    "games_in_all_platforms\n"
   ]
  },
  {
   "cell_type": "markdown",
   "metadata": {},
   "source": [
    "<div class=\"alert alert-block alert-success\">\n",
    "<b>Comentario del revisor - Revisión 1</b> <a class=\"tocSkip\"></a>\n",
    "\n",
    "Excelente trabajo de transformación! Podrías analizar los juegos con más ventas para mostrar las diferencias más significativas. Cuán correlacionadas estarán estas variables?\n",
    "\n",
    "</div>"
   ]
  },
  {
   "cell_type": "code",
   "execution_count": 25,
   "metadata": {},
   "outputs": [
    {
     "data": {
      "text/html": [
       "<div>\n",
       "<style scoped>\n",
       "    .dataframe tbody tr th:only-of-type {\n",
       "        vertical-align: middle;\n",
       "    }\n",
       "\n",
       "    .dataframe tbody tr th {\n",
       "        vertical-align: top;\n",
       "    }\n",
       "\n",
       "    .dataframe thead th {\n",
       "        text-align: right;\n",
       "    }\n",
       "</style>\n",
       "<table border=\"1\" class=\"dataframe\">\n",
       "  <thead>\n",
       "    <tr style=\"text-align: right;\">\n",
       "      <th></th>\n",
       "      <th>genre</th>\n",
       "      <th>name</th>\n",
       "    </tr>\n",
       "  </thead>\n",
       "  <tbody>\n",
       "    <tr>\n",
       "      <th>0</th>\n",
       "      <td>action</td>\n",
       "      <td>308</td>\n",
       "    </tr>\n",
       "    <tr>\n",
       "      <th>10</th>\n",
       "      <td>sports</td>\n",
       "      <td>116</td>\n",
       "    </tr>\n",
       "    <tr>\n",
       "      <th>8</th>\n",
       "      <td>shooter</td>\n",
       "      <td>99</td>\n",
       "    </tr>\n",
       "    <tr>\n",
       "      <th>7</th>\n",
       "      <td>role-playing</td>\n",
       "      <td>79</td>\n",
       "    </tr>\n",
       "    <tr>\n",
       "      <th>1</th>\n",
       "      <td>adventure</td>\n",
       "      <td>63</td>\n",
       "    </tr>\n",
       "    <tr>\n",
       "      <th>3</th>\n",
       "      <td>misc</td>\n",
       "      <td>53</td>\n",
       "    </tr>\n",
       "    <tr>\n",
       "      <th>2</th>\n",
       "      <td>fighting</td>\n",
       "      <td>49</td>\n",
       "    </tr>\n",
       "    <tr>\n",
       "      <th>6</th>\n",
       "      <td>racing</td>\n",
       "      <td>43</td>\n",
       "    </tr>\n",
       "    <tr>\n",
       "      <th>9</th>\n",
       "      <td>simulation</td>\n",
       "      <td>22</td>\n",
       "    </tr>\n",
       "    <tr>\n",
       "      <th>4</th>\n",
       "      <td>platform</td>\n",
       "      <td>21</td>\n",
       "    </tr>\n",
       "    <tr>\n",
       "      <th>11</th>\n",
       "      <td>strategy</td>\n",
       "      <td>11</td>\n",
       "    </tr>\n",
       "    <tr>\n",
       "      <th>5</th>\n",
       "      <td>puzzle</td>\n",
       "      <td>6</td>\n",
       "    </tr>\n",
       "  </tbody>\n",
       "</table>\n",
       "</div>"
      ],
      "text/plain": [
       "           genre  name\n",
       "0         action   308\n",
       "10        sports   116\n",
       "8        shooter    99\n",
       "7   role-playing    79\n",
       "1      adventure    63\n",
       "3           misc    53\n",
       "2       fighting    49\n",
       "6         racing    43\n",
       "9     simulation    22\n",
       "4       platform    21\n",
       "11      strategy    11\n",
       "5         puzzle     6"
      ]
     },
     "execution_count": 25,
     "metadata": {},
     "output_type": "execute_result"
    }
   ],
   "source": [
    "\"\"\" Echa un vistazo a la distribución general de los juegos por género. ¿Qué se puede decir de los géneros más rentables? \n",
    "¿Puedes generalizar acerca de los géneros con ventas altas y bajas? \"\"\"\n",
    "\n",
    "games_by_genre = new_df.groupby('genre')['name'].count().reset_index().sort_values(by= 'name',ascending=False)\n",
    "\n",
    "games_by_genre"
   ]
  },
  {
   "cell_type": "code",
   "execution_count": 26,
   "metadata": {},
   "outputs": [
    {
     "data": {
      "image/png": "[encoded data removed]",
      "text/plain": [
       "<Figure size 1000x300 with 1 Axes>"
      ]
     },
     "metadata": {},
     "output_type": "display_data"
    }
   ],
   "source": [
    "# Gráfica ventas totales por género\n",
    "\n",
    "sales_by_gender = new_df.groupby('genre')['total_sales'].sum().reset_index()\n",
    "\n",
    "sales_by_gender.plot(x='genre',kind='bar',title='Ventas de juegos por género',xlabel='Genre',ylabel='Ventas totales', color='green', legend=False, figsize=(10, 3))\n",
    "\n",
    "plt.show()"
   ]
  },
  {
   "cell_type": "markdown",
   "metadata": {},
   "source": [
    "Hay más ventas en los géneros action, shooter y sports, esto de debe a que hay más juegos de esos géneros"
   ]
  },
  {
   "cell_type": "markdown",
   "metadata": {},
   "source": [
    "<div class=\"alert alert-block alert-success\">\n",
    "<b>Comentario del revisor - Revisión 1</b> <a class=\"tocSkip\"></a>\n",
    "\n",
    "Muy buen visualización! Una sugerencia que haría aún más claro el análisis, es ordenar los géneros por ventas totales.\n",
    "\n",
    "</div>\n",
    "\n"
   ]
  },
  {
   "cell_type": "markdown",
   "metadata": {},
   "source": [
    "## Crea un perfil de usuario para cada región"
   ]
  },
  {
   "cell_type": "markdown",
   "metadata": {},
   "source": [
    "Para cada región (NA, UE, JP) determina:\n",
    "\n",
    "- Las cinco plataformas principales. Describe las variaciones en sus cuotas de mercado de una región a otra.\n",
    "- Los cinco géneros principales. Explica la diferencia.\n",
    "- Si las clasificaciones de ESRB afectan a las ventas en regiones individuales."
   ]
  },
  {
   "cell_type": "code",
   "execution_count": 27,
   "metadata": {},
   "outputs": [
    {
     "data": {
      "text/html": [
       "<div>\n",
       "<style scoped>\n",
       "    .dataframe tbody tr th:only-of-type {\n",
       "        vertical-align: middle;\n",
       "    }\n",
       "\n",
       "    .dataframe tbody tr th {\n",
       "        vertical-align: top;\n",
       "    }\n",
       "\n",
       "    .dataframe thead th {\n",
       "        text-align: right;\n",
       "    }\n",
       "</style>\n",
       "<table border=\"1\" class=\"dataframe\">\n",
       "  <thead>\n",
       "    <tr style=\"text-align: right;\">\n",
       "      <th></th>\n",
       "      <th>platform</th>\n",
       "      <th>eu_sales</th>\n",
       "      <th>jp_sales</th>\n",
       "      <th>na_sales</th>\n",
       "    </tr>\n",
       "  </thead>\n",
       "  <tbody>\n",
       "    <tr>\n",
       "      <th>0</th>\n",
       "      <td>x360</td>\n",
       "      <td>74.52</td>\n",
       "      <td>1.57</td>\n",
       "      <td>140.05</td>\n",
       "    </tr>\n",
       "    <tr>\n",
       "      <th>1</th>\n",
       "      <td>ps3</td>\n",
       "      <td>106.86</td>\n",
       "      <td>35.29</td>\n",
       "      <td>103.38</td>\n",
       "    </tr>\n",
       "    <tr>\n",
       "      <th>2</th>\n",
       "      <td>wii</td>\n",
       "      <td>11.92</td>\n",
       "      <td>3.39</td>\n",
       "      <td>17.45</td>\n",
       "    </tr>\n",
       "    <tr>\n",
       "      <th>3</th>\n",
       "      <td>ds</td>\n",
       "      <td>3.53</td>\n",
       "      <td>3.72</td>\n",
       "      <td>4.59</td>\n",
       "    </tr>\n",
       "  </tbody>\n",
       "</table>\n",
       "</div>"
      ],
      "text/plain": [
       "  platform  eu_sales  jp_sales  na_sales\n",
       "0     x360     74.52      1.57    140.05\n",
       "1      ps3    106.86     35.29    103.38\n",
       "2      wii     11.92      3.39     17.45\n",
       "3       ds      3.53      3.72      4.59"
      ]
     },
     "execution_count": 27,
     "metadata": {},
     "output_type": "execute_result"
    }
   ],
   "source": [
    "# PLATAFORMAS MAS VENDIDAS EN LAS REGIONES\n",
    "\n",
    "regions=['na_sales', 'eu_sales', 'jp_sales']\n",
    "\n",
    "sales_by_platform = new_df.pivot_table(index='platform', values=regions, aggfunc ='sum')\n",
    "\n",
    "sales_by_platform = sales_by_platform.sort_values(regions ,ascending=False).reset_index()\n",
    "\n",
    "sales_by_platform"
   ]
  },
  {
   "cell_type": "markdown",
   "metadata": {},
   "source": [
    "La plataforma más vendidas en Norteamérica es el x360 (Xbox360) con ventas de 140.05 millones de dólares, en Europa la platafroma más vendida es el ps3 (Play Station 3) con ventas de 106.86 millones de dólares, mientras que en Japón tambien tiene más ventas el ps3 con 35.29 millones de dólares\n",
    "\n",
    "Norteamérica lleva la delantera en las ventas de x360,wii y ds, lo cual quiere decir que consumen muchos videojuegos"
   ]
  },
  {
   "cell_type": "code",
   "execution_count": 28,
   "metadata": {},
   "outputs": [
    {
     "data": {
      "image/png": "[encoded data removed]",
      "text/plain": [
       "<Figure size 1000x500 with 1 Axes>"
      ]
     },
     "metadata": {},
     "output_type": "display_data"
    }
   ],
   "source": [
    "sales_platform = new_df.groupby(['platform'])[regions].sum()\n",
    "sales_platform_unstacked = sales_platform.T\n",
    "\n",
    "sales_platform_unstacked.plot(\n",
    "    title='Ventas totales por región y género',\n",
    "    xlabel='Regiones',\n",
    "    ylabel='Total de ventas',\n",
    "    kind='bar',\n",
    "    figsize=(10, 5)\n",
    ")\n",
    "\n",
    "plt.legend(title='Géneros')\n",
    "plt.grid(axis ='y',color='lightgray')\n",
    "plt.gca().set_axisbelow(True)\n",
    "plt.show()"
   ]
  },
  {
   "cell_type": "markdown",
   "metadata": {},
   "source": [
    "Cómo se observa en el gráfico, Norteamérica tienen más ventas de plataformas, de ahí le sigue Europa y finalmente Japon,\n",
    "esto se debe a que probablemente en Japón no consuman mucho plataformas de video, puede que el entretenimiento sea diferente"
   ]
  },
  {
   "cell_type": "markdown",
   "metadata": {},
   "source": [
    "<div class=\"alert alert-block alert-warning\">\n",
    "<b>Comentario del revisor - Revisión 1</b> <a class=\"tocSkip\"></a>\n",
    "\n",
    "Habría que analizar el tamaño de cada mercado para saber si en Japón efectivamente las personas consumen menos plataforma de videos juegos, por ejemplo la población de japón es cerca de un tercio de sólo Estados Unidos. Con estos datos no podemos concluir al respecto, sólo decir que en ventas, Japón es un mercado más chico.\n",
    "    \n",
    "</div>"
   ]
  },
  {
   "cell_type": "code",
   "execution_count": 29,
   "metadata": {},
   "outputs": [
    {
     "data": {
      "text/html": [
       "<div>\n",
       "<style scoped>\n",
       "    .dataframe tbody tr th:only-of-type {\n",
       "        vertical-align: middle;\n",
       "    }\n",
       "\n",
       "    .dataframe tbody tr th {\n",
       "        vertical-align: top;\n",
       "    }\n",
       "\n",
       "    .dataframe thead th {\n",
       "        text-align: right;\n",
       "    }\n",
       "</style>\n",
       "<table border=\"1\" class=\"dataframe\">\n",
       "  <thead>\n",
       "    <tr style=\"text-align: right;\">\n",
       "      <th></th>\n",
       "      <th>genre</th>\n",
       "      <th>eu_sales</th>\n",
       "      <th>jp_sales</th>\n",
       "      <th>na_sales</th>\n",
       "    </tr>\n",
       "  </thead>\n",
       "  <tbody>\n",
       "    <tr>\n",
       "      <th>0</th>\n",
       "      <td>action</td>\n",
       "      <td>76.14</td>\n",
       "      <td>15.12</td>\n",
       "      <td>92.39</td>\n",
       "    </tr>\n",
       "    <tr>\n",
       "      <th>1</th>\n",
       "      <td>shooter</td>\n",
       "      <td>45.85</td>\n",
       "      <td>4.54</td>\n",
       "      <td>67.01</td>\n",
       "    </tr>\n",
       "    <tr>\n",
       "      <th>2</th>\n",
       "      <td>sports</td>\n",
       "      <td>27.77</td>\n",
       "      <td>3.03</td>\n",
       "      <td>42.74</td>\n",
       "    </tr>\n",
       "    <tr>\n",
       "      <th>3</th>\n",
       "      <td>misc</td>\n",
       "      <td>13.95</td>\n",
       "      <td>1.92</td>\n",
       "      <td>22.08</td>\n",
       "    </tr>\n",
       "    <tr>\n",
       "      <th>4</th>\n",
       "      <td>role-playing</td>\n",
       "      <td>10.05</td>\n",
       "      <td>11.57</td>\n",
       "      <td>17.08</td>\n",
       "    </tr>\n",
       "    <tr>\n",
       "      <th>5</th>\n",
       "      <td>fighting</td>\n",
       "      <td>3.79</td>\n",
       "      <td>3.68</td>\n",
       "      <td>6.89</td>\n",
       "    </tr>\n",
       "    <tr>\n",
       "      <th>6</th>\n",
       "      <td>racing</td>\n",
       "      <td>10.54</td>\n",
       "      <td>0.79</td>\n",
       "      <td>5.89</td>\n",
       "    </tr>\n",
       "    <tr>\n",
       "      <th>7</th>\n",
       "      <td>platform</td>\n",
       "      <td>3.60</td>\n",
       "      <td>0.08</td>\n",
       "      <td>4.56</td>\n",
       "    </tr>\n",
       "    <tr>\n",
       "      <th>8</th>\n",
       "      <td>adventure</td>\n",
       "      <td>3.25</td>\n",
       "      <td>1.08</td>\n",
       "      <td>4.19</td>\n",
       "    </tr>\n",
       "    <tr>\n",
       "      <th>9</th>\n",
       "      <td>simulation</td>\n",
       "      <td>1.03</td>\n",
       "      <td>0.74</td>\n",
       "      <td>1.63</td>\n",
       "    </tr>\n",
       "    <tr>\n",
       "      <th>10</th>\n",
       "      <td>strategy</td>\n",
       "      <td>0.77</td>\n",
       "      <td>0.72</td>\n",
       "      <td>1.01</td>\n",
       "    </tr>\n",
       "    <tr>\n",
       "      <th>11</th>\n",
       "      <td>puzzle</td>\n",
       "      <td>0.09</td>\n",
       "      <td>0.70</td>\n",
       "      <td>0.00</td>\n",
       "    </tr>\n",
       "  </tbody>\n",
       "</table>\n",
       "</div>"
      ],
      "text/plain": [
       "           genre  eu_sales  jp_sales  na_sales\n",
       "0         action     76.14     15.12     92.39\n",
       "1        shooter     45.85      4.54     67.01\n",
       "2         sports     27.77      3.03     42.74\n",
       "3           misc     13.95      1.92     22.08\n",
       "4   role-playing     10.05     11.57     17.08\n",
       "5       fighting      3.79      3.68      6.89\n",
       "6         racing     10.54      0.79      5.89\n",
       "7       platform      3.60      0.08      4.56\n",
       "8      adventure      3.25      1.08      4.19\n",
       "9     simulation      1.03      0.74      1.63\n",
       "10      strategy      0.77      0.72      1.01\n",
       "11        puzzle      0.09      0.70      0.00"
      ]
     },
     "execution_count": 29,
     "metadata": {},
     "output_type": "execute_result"
    }
   ],
   "source": [
    "# GENEROS MAS VENDIDAS EN LAS REGIONES\n",
    "\n",
    "regions=['na_sales', 'eu_sales', 'jp_sales']\n",
    "\n",
    "sales_gender = new_df.pivot_table(index='genre', values=regions, aggfunc ='sum')\n",
    "\n",
    "sales_gender = sales_gender.sort_values(regions ,ascending=False).reset_index()\n",
    "\n",
    "sales_gender"
   ]
  },
  {
   "cell_type": "code",
   "execution_count": 30,
   "metadata": {},
   "outputs": [
    {
     "data": {
      "image/png": "[encoded data removed]",
      "text/plain": [
       "<Figure size 1000x500 with 1 Axes>"
      ]
     },
     "metadata": {},
     "output_type": "display_data"
    }
   ],
   "source": [
    "sales_by_genre = new_df.groupby(['genre'])[regions].sum()\n",
    "sales_by_genre_unstacked = sales_by_genre.T\n",
    "\n",
    "sales_by_genre_unstacked.plot(\n",
    "    title='Ventas totales por región y género',\n",
    "    xlabel='Regiones',\n",
    "    ylabel='Total de ventas',\n",
    "    kind='bar',\n",
    "    figsize=(10, 5)\n",
    ")\n",
    "\n",
    "plt.legend(title='Géneros')\n",
    "plt.grid(axis ='y',color='lightgray')\n",
    "plt.gca().set_axisbelow(True)\n",
    "plt.show()"
   ]
  },
  {
   "cell_type": "markdown",
   "metadata": {},
   "source": [
    "Tanto en Norteamérica cómo en Europa predomina los géneros de acción y shooter, mientras que en Japón lleva la delantes el género acción yrole-playing, esto se debe tambien a las costumbres y culturas que tiene cada país"
   ]
  },
  {
   "cell_type": "code",
   "execution_count": 31,
   "metadata": {},
   "outputs": [
    {
     "data": {
      "text/html": [
       "<div>\n",
       "<style scoped>\n",
       "    .dataframe tbody tr th:only-of-type {\n",
       "        vertical-align: middle;\n",
       "    }\n",
       "\n",
       "    .dataframe tbody tr th {\n",
       "        vertical-align: top;\n",
       "    }\n",
       "\n",
       "    .dataframe thead th {\n",
       "        text-align: right;\n",
       "    }\n",
       "</style>\n",
       "<table border=\"1\" class=\"dataframe\">\n",
       "  <thead>\n",
       "    <tr style=\"text-align: right;\">\n",
       "      <th></th>\n",
       "      <th>rating</th>\n",
       "      <th>eu_sales</th>\n",
       "      <th>jp_sales</th>\n",
       "      <th>na_sales</th>\n",
       "    </tr>\n",
       "  </thead>\n",
       "  <tbody>\n",
       "    <tr>\n",
       "      <th>0</th>\n",
       "      <td>m</td>\n",
       "      <td>89.98</td>\n",
       "      <td>12.05</td>\n",
       "      <td>125.04</td>\n",
       "    </tr>\n",
       "    <tr>\n",
       "      <th>1</th>\n",
       "      <td>e</td>\n",
       "      <td>42.69</td>\n",
       "      <td>4.00</td>\n",
       "      <td>48.42</td>\n",
       "    </tr>\n",
       "    <tr>\n",
       "      <th>2</th>\n",
       "      <td>e10+</td>\n",
       "      <td>24.76</td>\n",
       "      <td>0.56</td>\n",
       "      <td>35.68</td>\n",
       "    </tr>\n",
       "    <tr>\n",
       "      <th>3</th>\n",
       "      <td>t</td>\n",
       "      <td>16.61</td>\n",
       "      <td>10.39</td>\n",
       "      <td>26.05</td>\n",
       "    </tr>\n",
       "  </tbody>\n",
       "</table>\n",
       "</div>"
      ],
      "text/plain": [
       "  rating  eu_sales  jp_sales  na_sales\n",
       "0      m     89.98     12.05    125.04\n",
       "1      e     42.69      4.00     48.42\n",
       "2   e10+     24.76      0.56     35.68\n",
       "3      t     16.61     10.39     26.05"
      ]
     },
     "execution_count": 31,
     "metadata": {},
     "output_type": "execute_result"
    }
   ],
   "source": [
    "# CLASIFICACIONES MAS VENDIDAS\n",
    "\n",
    "regions=['na_sales', 'eu_sales', 'jp_sales']\n",
    "\n",
    "ratings = new_df.pivot_table(index='rating', values=regions, aggfunc ='sum')\n",
    "\n",
    "ratings = ratings.sort_values(regions ,ascending=False).reset_index()\n",
    "\n",
    "ratings"
   ]
  },
  {
   "cell_type": "markdown",
   "metadata": {},
   "source": [
    "En las 3 regiones se venden más los juegos que son para personas de 17 años de edad en adelante (m)"
   ]
  },
  {
   "cell_type": "markdown",
   "metadata": {},
   "source": [
    "<div class=\"alert alert-block alert-success\">\n",
    "<b>Comentario del revisor - Revisión 1</b> <a class=\"tocSkip\"></a>\n",
    "\n",
    "Excelente análisis en esta sección! Permiten entender bien el comportamiento de los mercados, aportando conclusiones muy valiosas.\n",
    "    \n",
    "Otra alternativa de mostrar los resultados, es pasar a porcentajes a las ventas por cada mercado. De esta forma se pone más foco en las distribuciones y no en el tamaño de los mercados.\n",
    "\n",
    "</div>\n"
   ]
  },
  {
   "cell_type": "markdown",
   "metadata": {},
   "source": [
    "## Prueba las siguientes hipótesis:"
   ]
  },
  {
   "cell_type": "markdown",
   "metadata": {},
   "source": [
    "- Las calificaciones promedio de los usuarios para las plataformas Xbox One y PC son las mismas.\n",
    "\n",
    "- Las calificaciones promedio de los usuarios para los géneros de Acción y Deportes son diferentes."
   ]
  },
  {
   "cell_type": "code",
   "execution_count": 32,
   "metadata": {},
   "outputs": [
    {
     "name": "stdout",
     "output_type": "stream",
     "text": [
      "valor p:  1.3896435533548819e-05\n",
      "Rechazamos la hipótesis nula\n"
     ]
    }
   ],
   "source": [
    "# Las calificaciones promedio de los usuarios para las plataformas Xbox One y PC son las mismas.\n",
    "\n",
    "xbox_one = games[games['platform'] == 'xone']['user_score'].dropna().reset_index(drop=True)\n",
    "\n",
    "pc = games[games['platform'] == 'pc']['user_score'].dropna().reset_index(drop=True)\n",
    "\n",
    "alpha = 0.05  # el nivel de significancia estadística crítica\n",
    "# si el valor p es menor que alpha, rechazamos la hipótesis\n",
    "\n",
    "results = st.ttest_ind(xbox_one, pc) # realizar una prueba\n",
    "\n",
    "print('valor p: ', results.pvalue) # extraer el valor p\n",
    "\n",
    "if results.pvalue < alpha: # comparar el valor p con el umbral\n",
    "    print(\"Rechazamos la hipótesis nula\")\n",
    "else:\n",
    "    print(\"No podemos rechazar la hipótesis nula\")"
   ]
  },
  {
   "cell_type": "markdown",
   "metadata": {},
   "source": [
    "**Hipotesis nula**: Las calificaciones promedio de los usuarios para las plataformas Xbox One y PC son las mismas.\n",
    "    \n",
    "**Hipótesis anternativa**: Las calificaciones promedio de los usuarios son diferentes entre las plataformas Xbox One y PC"
   ]
  },
  {
   "cell_type": "markdown",
   "metadata": {},
   "source": [
    "La hipótesis alternativa suele expresar que hay diferencias entre grupos, es por esto que la formule de esta manera"
   ]
  },
  {
   "cell_type": "code",
   "execution_count": 33,
   "metadata": {},
   "outputs": [
    {
     "name": "stdout",
     "output_type": "stream",
     "text": [
      "valor p:  1.996993377463965e-12\n",
      "Rechazamos la hipótesis nula\n"
     ]
    }
   ],
   "source": [
    "# Las calificaciones promedio de los usuarios para los géneros de Acción y Deportes son diferentes.\n",
    "\n",
    "action = new_df[new_df['genre'] == 'action']['user_score'].dropna().reset_index(drop=True)\n",
    "\n",
    "sports = new_df[new_df['genre'] == 'sports']['user_score'].dropna().reset_index(drop=True)\n",
    "\n",
    "alpha = 0.05  # el nivel de significancia estadística crítica\n",
    "# si el valor p es menor que alpha, rechazamos la hipótesis\n",
    "\n",
    "results = st.ttest_ind(action, sports) # realizar una prueba\n",
    "\n",
    "print('valor p: ', results.pvalue) # extraer el valor p\n",
    "\n",
    "if results.pvalue < alpha: # comparar el valor p con el umbral\n",
    "    print(\"Rechazamos la hipótesis nula\")\n",
    "else:\n",
    "    print(\"No podemos rechazar la hipótesis nula\")\n",
    "\n"
   ]
  },
  {
   "cell_type": "markdown",
   "metadata": {},
   "source": [
    "**Hipotesis nula**: Las calificaciones promedio de los usuarios para los géneros de Acción y Deportes son iguales.\n",
    "    \n",
    "**Hipótesis anternativa**: Las calificaciones promedio de los usuarios para los géneros de Acción y Deportes son diferentes."
   ]
  },
  {
   "cell_type": "markdown",
   "metadata": {},
   "source": [
    "La hipótesis nula la formule de esta manera porque este tipo de hipótesis expresa que no hay diferencias entre los grupos\n",
    "\n",
    "En las pruebas de hiótesis decidí usar la función de hipótesis sobre la igualdad de la media de 2 poblaciones, porque tanto los generos como las plataformas son diferentes y no a todos los consumidores les debe gustar lo mismo."
   ]
  },
  {
   "cell_type": "markdown",
   "metadata": {},
   "source": [
    "<div class=\"alert alert-block alert-success\">\n",
    "<b>Comentario del revisor - Revisión 1</b> <a class=\"tocSkip\"></a>\n",
    "\n",
    "Muy bien! Los test de hipótesis y su intepretaciones están perfectos!\n",
    "</div>\n",
    "\n",
    "\n",
    "<div class=\"alert alert-block alert-warning\">\n",
    "<b>Comentario del revisor - Revisión 1</b> <a class=\"tocSkip\"></a>\n",
    "\n",
    "Deberías repetir los tests con la nueva selección de años.\n",
    "</div>\n",
    "\n",
    "\n",
    "<div class=\"alert alert-block alert-success\">\n",
    "<b>Comentario del revisor - Revisión 2</b> <a class=\"tocSkip\"></a>\n",
    "\n",
    "Excelente proyecto! Felicitaciones\n",
    "    \n",
    "</div>"
   ]
  },
  {
   "cell_type": "markdown",
   "metadata": {},
   "source": [
    "## Conclusión general"
   ]
  },
  {
   "cell_type": "markdown",
   "metadata": {},
   "source": [
    "Los juegos que mayor tienen éxito sulen ser los de géneros shooter y action, en las plataformas play station 3, xbox y wii dependiendo la región en la que se consuman.\n",
    "\n",
    "En la región de Japón no suelen consumir muchas plataformas de videojuegos, esto puede deberse a que juegan más en sus celulares u otros medios."
   ]
  }
 ],
 "metadata": {
  "ExecuteTimeLog": [
   {
    "duration": 2914,
    "start_time": "2024-10-10T20:05:00.233Z"
   },
   {
    "duration": 4,
    "start_time": "2024-10-10T20:05:26.113Z"
   },
   {
    "duration": 43,
    "start_time": "2024-10-10T20:06:59.435Z"
   },
   {
    "duration": 13,
    "start_time": "2024-10-10T20:10:41.317Z"
   },
   {
    "duration": 15,
    "start_time": "2024-10-10T20:12:09.825Z"
   },
   {
    "duration": 9,
    "start_time": "2024-10-10T20:15:51.890Z"
   },
   {
    "duration": 629,
    "start_time": "2024-10-10T20:41:20.139Z"
   },
   {
    "duration": 14,
    "start_time": "2024-10-10T20:44:49.220Z"
   },
   {
    "duration": 24,
    "start_time": "2024-10-10T20:45:17.204Z"
   },
   {
    "duration": 19,
    "start_time": "2024-10-10T20:46:31.188Z"
   },
   {
    "duration": 6,
    "start_time": "2024-10-10T20:47:27.239Z"
   },
   {
    "duration": 50,
    "start_time": "2024-10-10T20:47:33.990Z"
   },
   {
    "duration": 47,
    "start_time": "2024-10-10T20:47:41.225Z"
   },
   {
    "duration": 50,
    "start_time": "2024-10-10T20:48:04.399Z"
   },
   {
    "duration": 63,
    "start_time": "2024-10-10T20:51:05.308Z"
   },
   {
    "duration": 5,
    "start_time": "2024-10-10T21:00:27.718Z"
   },
   {
    "duration": 13,
    "start_time": "2024-10-10T21:00:40.891Z"
   },
   {
    "duration": 7,
    "start_time": "2024-10-10T21:01:24.580Z"
   },
   {
    "duration": 7,
    "start_time": "2024-10-10T21:01:41.317Z"
   },
   {
    "duration": 8,
    "start_time": "2024-10-10T21:02:35.631Z"
   },
   {
    "duration": 8,
    "start_time": "2024-10-10T21:03:43.806Z"
   },
   {
    "duration": 9,
    "start_time": "2024-10-10T21:03:48.131Z"
   },
   {
    "duration": 8,
    "start_time": "2024-10-10T21:03:51.314Z"
   },
   {
    "duration": 8,
    "start_time": "2024-10-10T21:04:00.317Z"
   },
   {
    "duration": 7,
    "start_time": "2024-10-10T21:04:39.689Z"
   },
   {
    "duration": 9,
    "start_time": "2024-10-10T21:04:42.318Z"
   },
   {
    "duration": 11,
    "start_time": "2024-10-10T21:04:44.763Z"
   },
   {
    "duration": 7,
    "start_time": "2024-10-10T21:04:46.936Z"
   },
   {
    "duration": 9,
    "start_time": "2024-10-10T21:04:49.645Z"
   },
   {
    "duration": 8,
    "start_time": "2024-10-10T21:05:09.925Z"
   },
   {
    "duration": 8,
    "start_time": "2024-10-10T21:05:31.868Z"
   },
   {
    "duration": 8,
    "start_time": "2024-10-10T21:05:34.717Z"
   },
   {
    "duration": 12,
    "start_time": "2024-10-10T21:05:35.794Z"
   },
   {
    "duration": 7,
    "start_time": "2024-10-10T21:05:49.125Z"
   },
   {
    "duration": 7,
    "start_time": "2024-10-10T21:06:02.144Z"
   },
   {
    "duration": 7,
    "start_time": "2024-10-10T21:07:02.590Z"
   },
   {
    "duration": 8,
    "start_time": "2024-10-10T21:07:23.247Z"
   },
   {
    "duration": 15,
    "start_time": "2024-10-10T21:10:00.589Z"
   },
   {
    "duration": 15,
    "start_time": "2024-10-10T21:10:06.566Z"
   },
   {
    "duration": 9,
    "start_time": "2024-10-10T21:10:11.821Z"
   },
   {
    "duration": 26,
    "start_time": "2024-10-10T21:10:46.500Z"
   },
   {
    "duration": 839,
    "start_time": "2024-10-10T21:10:58.102Z"
   },
   {
    "duration": 25,
    "start_time": "2024-10-10T21:10:58.945Z"
   },
   {
    "duration": 12,
    "start_time": "2024-10-10T21:10:58.972Z"
   },
   {
    "duration": 24,
    "start_time": "2024-10-10T21:10:58.985Z"
   },
   {
    "duration": 9,
    "start_time": "2024-10-10T21:10:59.011Z"
   },
   {
    "duration": 12,
    "start_time": "2024-10-10T21:10:59.022Z"
   },
   {
    "duration": 7,
    "start_time": "2024-10-10T21:11:28.796Z"
   },
   {
    "duration": 8,
    "start_time": "2024-10-10T21:11:39.849Z"
   },
   {
    "duration": 6,
    "start_time": "2024-10-10T21:11:54.119Z"
   },
   {
    "duration": 6,
    "start_time": "2024-10-10T21:12:51.569Z"
   },
   {
    "duration": 7,
    "start_time": "2024-10-10T21:12:58.036Z"
   },
   {
    "duration": 7,
    "start_time": "2024-10-10T21:13:04.611Z"
   },
   {
    "duration": 8,
    "start_time": "2024-10-10T21:13:10.132Z"
   },
   {
    "duration": 7,
    "start_time": "2024-10-10T21:13:16.225Z"
   },
   {
    "duration": 23,
    "start_time": "2024-10-10T21:13:22.444Z"
   },
   {
    "duration": 7,
    "start_time": "2024-10-10T21:13:25.112Z"
   },
   {
    "duration": 7,
    "start_time": "2024-10-10T21:13:55.223Z"
   },
   {
    "duration": 23,
    "start_time": "2024-10-10T21:14:20.301Z"
   },
   {
    "duration": 7,
    "start_time": "2024-10-10T21:14:23.622Z"
   },
   {
    "duration": 823,
    "start_time": "2024-10-10T21:24:53.166Z"
   },
   {
    "duration": 837,
    "start_time": "2024-10-10T21:25:35.399Z"
   },
   {
    "duration": 28,
    "start_time": "2024-10-10T21:25:36.238Z"
   },
   {
    "duration": 12,
    "start_time": "2024-10-10T21:25:36.268Z"
   },
   {
    "duration": 2,
    "start_time": "2024-10-10T21:25:36.282Z"
   },
   {
    "duration": 28,
    "start_time": "2024-10-10T21:25:36.286Z"
   },
   {
    "duration": 3,
    "start_time": "2024-10-10T21:25:36.316Z"
   },
   {
    "duration": 8,
    "start_time": "2024-10-10T21:25:36.321Z"
   },
   {
    "duration": 11,
    "start_time": "2024-10-10T21:25:36.331Z"
   },
   {
    "duration": 12,
    "start_time": "2024-10-10T21:26:36.170Z"
   },
   {
    "duration": 14,
    "start_time": "2024-10-10T21:29:13.476Z"
   },
   {
    "duration": 18,
    "start_time": "2024-10-10T21:30:05.527Z"
   },
   {
    "duration": 879,
    "start_time": "2024-10-10T21:46:26.844Z"
   },
   {
    "duration": 90,
    "start_time": "2024-10-10T21:46:27.725Z"
   },
   {
    "duration": 12,
    "start_time": "2024-10-10T21:46:27.817Z"
   },
   {
    "duration": 9,
    "start_time": "2024-10-10T21:46:27.831Z"
   },
   {
    "duration": 13,
    "start_time": "2024-10-10T21:46:27.841Z"
   },
   {
    "duration": 4,
    "start_time": "2024-10-10T21:46:27.855Z"
   },
   {
    "duration": 8,
    "start_time": "2024-10-10T21:46:27.860Z"
   },
   {
    "duration": 47,
    "start_time": "2024-10-10T21:46:27.870Z"
   },
   {
    "duration": 10,
    "start_time": "2024-10-10T21:48:14.402Z"
   },
   {
    "duration": 623,
    "start_time": "2024-10-10T21:48:40.996Z"
   },
   {
    "duration": 97,
    "start_time": "2024-10-10T21:48:48.589Z"
   },
   {
    "duration": 12,
    "start_time": "2024-10-10T21:49:09.802Z"
   },
   {
    "duration": 4,
    "start_time": "2024-10-10T21:50:28.733Z"
   },
   {
    "duration": 12,
    "start_time": "2024-10-10T21:50:31.306Z"
   },
   {
    "duration": 6,
    "start_time": "2024-10-10T21:51:01.838Z"
   },
   {
    "duration": 11,
    "start_time": "2024-10-10T21:51:05.047Z"
   },
   {
    "duration": 12,
    "start_time": "2024-10-10T21:52:40.483Z"
   },
   {
    "duration": 14,
    "start_time": "2024-10-10T21:53:35.223Z"
   },
   {
    "duration": 12,
    "start_time": "2024-10-10T21:54:24.505Z"
   },
   {
    "duration": 21,
    "start_time": "2024-10-10T21:57:28.170Z"
   },
   {
    "duration": 32,
    "start_time": "2024-10-10T21:57:37.161Z"
   },
   {
    "duration": 3,
    "start_time": "2024-10-10T22:04:48.085Z"
   },
   {
    "duration": 790,
    "start_time": "2024-10-10T22:05:09.773Z"
   },
   {
    "duration": 25,
    "start_time": "2024-10-10T22:05:10.567Z"
   },
   {
    "duration": 20,
    "start_time": "2024-10-10T22:05:10.593Z"
   },
   {
    "duration": 3,
    "start_time": "2024-10-10T22:05:10.615Z"
   },
   {
    "duration": 8,
    "start_time": "2024-10-10T22:05:10.619Z"
   },
   {
    "duration": 4,
    "start_time": "2024-10-10T22:05:10.628Z"
   },
   {
    "duration": 5,
    "start_time": "2024-10-10T22:05:10.633Z"
   },
   {
    "duration": 10,
    "start_time": "2024-10-10T22:05:10.639Z"
   },
   {
    "duration": 60,
    "start_time": "2024-10-10T22:05:10.650Z"
   },
   {
    "duration": 8,
    "start_time": "2024-10-10T22:05:10.712Z"
   },
   {
    "duration": 13,
    "start_time": "2024-10-10T22:05:10.721Z"
   },
   {
    "duration": 810,
    "start_time": "2024-10-10T22:09:57.388Z"
   },
   {
    "duration": 31,
    "start_time": "2024-10-10T22:09:58.200Z"
   },
   {
    "duration": 11,
    "start_time": "2024-10-10T22:09:58.233Z"
   },
   {
    "duration": 3,
    "start_time": "2024-10-10T22:09:58.248Z"
   },
   {
    "duration": 8,
    "start_time": "2024-10-10T22:09:58.253Z"
   },
   {
    "duration": 4,
    "start_time": "2024-10-10T22:09:58.262Z"
   },
   {
    "duration": 6,
    "start_time": "2024-10-10T22:09:58.267Z"
   },
   {
    "duration": 44,
    "start_time": "2024-10-10T22:09:58.274Z"
   },
   {
    "duration": 28,
    "start_time": "2024-10-10T22:09:58.320Z"
   },
   {
    "duration": 8,
    "start_time": "2024-10-10T22:09:58.350Z"
   },
   {
    "duration": 14,
    "start_time": "2024-10-10T22:09:58.360Z"
   },
   {
    "duration": 13,
    "start_time": "2024-10-10T22:23:44.635Z"
   },
   {
    "duration": 3,
    "start_time": "2024-10-10T22:24:00.968Z"
   },
   {
    "duration": 8,
    "start_time": "2024-10-10T22:24:06.337Z"
   },
   {
    "duration": 5,
    "start_time": "2024-10-10T22:24:14.854Z"
   },
   {
    "duration": 3,
    "start_time": "2024-10-10T22:26:33.459Z"
   },
   {
    "duration": 3,
    "start_time": "2024-10-10T22:26:41.745Z"
   },
   {
    "duration": 3,
    "start_time": "2024-10-10T22:27:13.269Z"
   },
   {
    "duration": 790,
    "start_time": "2024-10-10T22:27:56.766Z"
   },
   {
    "duration": 26,
    "start_time": "2024-10-10T22:27:57.558Z"
   },
   {
    "duration": 11,
    "start_time": "2024-10-10T22:27:57.586Z"
   },
   {
    "duration": 5,
    "start_time": "2024-10-10T22:27:57.609Z"
   },
   {
    "duration": 8,
    "start_time": "2024-10-10T22:27:57.616Z"
   },
   {
    "duration": 4,
    "start_time": "2024-10-10T22:27:57.626Z"
   },
   {
    "duration": 6,
    "start_time": "2024-10-10T22:27:57.631Z"
   },
   {
    "duration": 9,
    "start_time": "2024-10-10T22:27:57.639Z"
   },
   {
    "duration": 26,
    "start_time": "2024-10-10T22:27:57.650Z"
   },
   {
    "duration": 9,
    "start_time": "2024-10-10T22:27:57.710Z"
   },
   {
    "duration": 14,
    "start_time": "2024-10-10T22:27:57.721Z"
   },
   {
    "duration": 11,
    "start_time": "2024-10-10T22:27:57.737Z"
   },
   {
    "duration": 7,
    "start_time": "2024-10-10T22:30:15.178Z"
   },
   {
    "duration": 2537,
    "start_time": "2024-10-10T23:54:58.077Z"
   },
   {
    "duration": 39,
    "start_time": "2024-10-10T23:55:00.616Z"
   },
   {
    "duration": 12,
    "start_time": "2024-10-10T23:55:00.657Z"
   },
   {
    "duration": 2,
    "start_time": "2024-10-10T23:55:00.672Z"
   },
   {
    "duration": 8,
    "start_time": "2024-10-10T23:55:00.676Z"
   },
   {
    "duration": 4,
    "start_time": "2024-10-10T23:55:00.685Z"
   },
   {
    "duration": 5,
    "start_time": "2024-10-10T23:55:00.690Z"
   },
   {
    "duration": 12,
    "start_time": "2024-10-10T23:55:00.697Z"
   },
   {
    "duration": 28,
    "start_time": "2024-10-10T23:55:00.710Z"
   },
   {
    "duration": 7,
    "start_time": "2024-10-10T23:55:00.771Z"
   },
   {
    "duration": 12,
    "start_time": "2024-10-10T23:55:00.779Z"
   },
   {
    "duration": 14,
    "start_time": "2024-10-11T00:12:14.840Z"
   },
   {
    "duration": 161,
    "start_time": "2024-10-11T02:54:36.291Z"
   },
   {
    "duration": 2653,
    "start_time": "2024-10-11T02:54:55.259Z"
   },
   {
    "duration": 47,
    "start_time": "2024-10-11T02:54:57.915Z"
   },
   {
    "duration": 12,
    "start_time": "2024-10-11T02:54:57.963Z"
   },
   {
    "duration": 3,
    "start_time": "2024-10-11T02:54:57.977Z"
   },
   {
    "duration": 7,
    "start_time": "2024-10-11T02:54:57.983Z"
   },
   {
    "duration": 3,
    "start_time": "2024-10-11T02:54:57.992Z"
   },
   {
    "duration": 6,
    "start_time": "2024-10-11T02:54:58.004Z"
   },
   {
    "duration": 11,
    "start_time": "2024-10-11T02:54:58.012Z"
   },
   {
    "duration": 27,
    "start_time": "2024-10-11T02:54:58.026Z"
   },
   {
    "duration": 7,
    "start_time": "2024-10-11T02:54:58.055Z"
   },
   {
    "duration": 42,
    "start_time": "2024-10-11T02:54:58.064Z"
   },
   {
    "duration": 15,
    "start_time": "2024-10-11T02:54:58.108Z"
   },
   {
    "duration": 4,
    "start_time": "2024-10-11T03:01:11.724Z"
   },
   {
    "duration": 633,
    "start_time": "2024-10-11T03:01:30.946Z"
   },
   {
    "duration": 7,
    "start_time": "2024-10-11T03:05:52.279Z"
   },
   {
    "duration": 7,
    "start_time": "2024-10-11T03:07:15.243Z"
   },
   {
    "duration": 10,
    "start_time": "2024-10-11T03:10:39.327Z"
   },
   {
    "duration": 6,
    "start_time": "2024-10-11T03:11:18.097Z"
   },
   {
    "duration": 10,
    "start_time": "2024-10-11T03:11:32.310Z"
   },
   {
    "duration": 9,
    "start_time": "2024-10-11T03:14:28.736Z"
   },
   {
    "duration": 10,
    "start_time": "2024-10-11T03:16:16.517Z"
   },
   {
    "duration": 45,
    "start_time": "2024-10-11T03:17:17.534Z"
   },
   {
    "duration": 59,
    "start_time": "2024-10-11T03:17:31.262Z"
   },
   {
    "duration": 10,
    "start_time": "2024-10-11T03:22:30.725Z"
   },
   {
    "duration": 7,
    "start_time": "2024-10-11T03:33:33.369Z"
   },
   {
    "duration": 12,
    "start_time": "2024-10-11T03:33:47.767Z"
   },
   {
    "duration": 11,
    "start_time": "2024-10-11T03:35:52.977Z"
   },
   {
    "duration": 12,
    "start_time": "2024-10-11T03:37:52.008Z"
   },
   {
    "duration": 19,
    "start_time": "2024-10-11T03:38:27.290Z"
   },
   {
    "duration": 17,
    "start_time": "2024-10-11T03:39:13.468Z"
   },
   {
    "duration": 20,
    "start_time": "2024-10-11T03:39:56.967Z"
   },
   {
    "duration": 14,
    "start_time": "2024-10-11T03:40:13.413Z"
   },
   {
    "duration": 10,
    "start_time": "2024-10-11T03:41:14.587Z"
   },
   {
    "duration": 805,
    "start_time": "2024-10-11T03:43:14.648Z"
   },
   {
    "duration": 26,
    "start_time": "2024-10-11T03:43:15.455Z"
   },
   {
    "duration": 11,
    "start_time": "2024-10-11T03:43:15.483Z"
   },
   {
    "duration": 4,
    "start_time": "2024-10-11T03:43:15.505Z"
   },
   {
    "duration": 8,
    "start_time": "2024-10-11T03:43:15.512Z"
   },
   {
    "duration": 4,
    "start_time": "2024-10-11T03:43:15.521Z"
   },
   {
    "duration": 6,
    "start_time": "2024-10-11T03:43:15.526Z"
   },
   {
    "duration": 12,
    "start_time": "2024-10-11T03:43:15.533Z"
   },
   {
    "duration": 27,
    "start_time": "2024-10-11T03:43:15.546Z"
   },
   {
    "duration": 8,
    "start_time": "2024-10-11T03:43:15.605Z"
   },
   {
    "duration": 13,
    "start_time": "2024-10-11T03:43:15.615Z"
   },
   {
    "duration": 14,
    "start_time": "2024-10-11T03:43:15.630Z"
   },
   {
    "duration": 9,
    "start_time": "2024-10-11T03:43:15.646Z"
   },
   {
    "duration": 47,
    "start_time": "2024-10-11T03:43:15.658Z"
   },
   {
    "duration": 12,
    "start_time": "2024-10-11T03:43:15.707Z"
   },
   {
    "duration": 292,
    "start_time": "2024-10-11T03:45:27.005Z"
   },
   {
    "duration": 8,
    "start_time": "2024-10-11T03:45:56.009Z"
   },
   {
    "duration": 8,
    "start_time": "2024-10-11T03:46:09.786Z"
   },
   {
    "duration": 6,
    "start_time": "2024-10-11T03:48:28.605Z"
   },
   {
    "duration": 19,
    "start_time": "2024-10-11T03:48:45.611Z"
   },
   {
    "duration": 151,
    "start_time": "2024-10-11T03:49:54.283Z"
   },
   {
    "duration": 7,
    "start_time": "2024-10-11T03:53:05.109Z"
   },
   {
    "duration": 7,
    "start_time": "2024-10-11T03:53:26.272Z"
   },
   {
    "duration": 7,
    "start_time": "2024-10-11T03:53:33.565Z"
   },
   {
    "duration": 10,
    "start_time": "2024-10-11T03:53:51.289Z"
   },
   {
    "duration": 448,
    "start_time": "2024-10-11T04:08:10.628Z"
   },
   {
    "duration": 12,
    "start_time": "2024-10-11T04:08:46.522Z"
   },
   {
    "duration": 18,
    "start_time": "2024-10-11T04:09:22.682Z"
   },
   {
    "duration": 16,
    "start_time": "2024-10-11T04:10:54.244Z"
   },
   {
    "duration": 68,
    "start_time": "2024-10-11T04:12:17.449Z"
   },
   {
    "duration": 5,
    "start_time": "2024-10-11T04:14:50.924Z"
   },
   {
    "duration": 21,
    "start_time": "2024-10-11T04:15:05.285Z"
   },
   {
    "duration": 23,
    "start_time": "2024-10-11T04:16:20.135Z"
   },
   {
    "duration": 4,
    "start_time": "2024-10-11T04:18:54.331Z"
   },
   {
    "duration": 18,
    "start_time": "2024-10-11T04:19:04.155Z"
   },
   {
    "duration": 19,
    "start_time": "2024-10-11T04:19:50.894Z"
   },
   {
    "duration": 17,
    "start_time": "2024-10-11T04:20:37.831Z"
   },
   {
    "duration": 11,
    "start_time": "2024-10-11T04:26:37.066Z"
   },
   {
    "duration": 4,
    "start_time": "2024-10-11T04:34:58.105Z"
   },
   {
    "duration": 9,
    "start_time": "2024-10-11T04:35:07.787Z"
   },
   {
    "duration": 11,
    "start_time": "2024-10-11T04:35:23.026Z"
   },
   {
    "duration": 161,
    "start_time": "2024-10-12T00:05:37.350Z"
   },
   {
    "duration": 2560,
    "start_time": "2024-10-12T00:05:59.422Z"
   },
   {
    "duration": 38,
    "start_time": "2024-10-12T00:06:01.984Z"
   },
   {
    "duration": 12,
    "start_time": "2024-10-12T00:06:02.023Z"
   },
   {
    "duration": 3,
    "start_time": "2024-10-12T00:06:02.036Z"
   },
   {
    "duration": 7,
    "start_time": "2024-10-12T00:06:02.042Z"
   },
   {
    "duration": 3,
    "start_time": "2024-10-12T00:06:02.050Z"
   },
   {
    "duration": 5,
    "start_time": "2024-10-12T00:06:02.055Z"
   },
   {
    "duration": 10,
    "start_time": "2024-10-12T00:06:02.061Z"
   },
   {
    "duration": 55,
    "start_time": "2024-10-12T00:06:02.072Z"
   },
   {
    "duration": 7,
    "start_time": "2024-10-12T00:06:02.129Z"
   },
   {
    "duration": 12,
    "start_time": "2024-10-12T00:06:02.137Z"
   },
   {
    "duration": 14,
    "start_time": "2024-10-12T00:06:02.150Z"
   },
   {
    "duration": 10,
    "start_time": "2024-10-12T00:06:02.165Z"
   },
   {
    "duration": 11,
    "start_time": "2024-10-12T00:06:02.177Z"
   },
   {
    "duration": 11,
    "start_time": "2024-10-12T00:07:03.809Z"
   },
   {
    "duration": 129,
    "start_time": "2024-10-12T00:08:16.309Z"
   },
   {
    "duration": 5,
    "start_time": "2024-10-12T00:08:28.389Z"
   },
   {
    "duration": 13,
    "start_time": "2024-10-12T00:08:35.294Z"
   },
   {
    "duration": 12,
    "start_time": "2024-10-12T00:08:50.579Z"
   },
   {
    "duration": 12,
    "start_time": "2024-10-12T00:09:07.541Z"
   },
   {
    "duration": 12,
    "start_time": "2024-10-12T00:09:12.173Z"
   },
   {
    "duration": 18,
    "start_time": "2024-10-12T00:09:38.222Z"
   },
   {
    "duration": 12,
    "start_time": "2024-10-12T00:09:52.286Z"
   },
   {
    "duration": 18,
    "start_time": "2024-10-12T00:18:57.871Z"
   },
   {
    "duration": 2939,
    "start_time": "2024-10-12T00:22:24.414Z"
   },
   {
    "duration": 11,
    "start_time": "2024-10-12T00:23:54.125Z"
   },
   {
    "duration": 164,
    "start_time": "2024-10-12T00:37:17.330Z"
   },
   {
    "duration": 1462,
    "start_time": "2024-10-12T00:37:22.214Z"
   },
   {
    "duration": 1413,
    "start_time": "2024-10-12T00:38:45.378Z"
   },
   {
    "duration": 694,
    "start_time": "2024-10-12T00:39:23.899Z"
   },
   {
    "duration": 202,
    "start_time": "2024-10-12T00:39:41.746Z"
   },
   {
    "duration": 150,
    "start_time": "2024-10-12T00:51:20.374Z"
   },
   {
    "duration": 13,
    "start_time": "2024-10-12T00:51:43.905Z"
   },
   {
    "duration": 4,
    "start_time": "2024-10-12T00:52:42.432Z"
   },
   {
    "duration": 5,
    "start_time": "2024-10-12T00:53:00.070Z"
   },
   {
    "duration": 7,
    "start_time": "2024-10-12T00:53:19.366Z"
   },
   {
    "duration": 12,
    "start_time": "2024-10-12T00:54:12.085Z"
   },
   {
    "duration": 50,
    "start_time": "2024-10-12T00:54:32.416Z"
   },
   {
    "duration": 119,
    "start_time": "2024-10-12T00:55:16.060Z"
   },
   {
    "duration": 233,
    "start_time": "2024-10-12T00:55:27.547Z"
   },
   {
    "duration": 182,
    "start_time": "2024-10-12T00:56:19.648Z"
   },
   {
    "duration": 13,
    "start_time": "2024-10-12T00:56:49.135Z"
   },
   {
    "duration": 291,
    "start_time": "2024-10-12T00:56:58.302Z"
   },
   {
    "duration": 170,
    "start_time": "2024-10-12T00:57:36.557Z"
   },
   {
    "duration": 2598,
    "start_time": "2024-10-12T01:02:58.689Z"
   },
   {
    "duration": 110,
    "start_time": "2024-10-12T01:04:09.364Z"
   },
   {
    "duration": 107,
    "start_time": "2024-10-12T01:04:19.519Z"
   },
   {
    "duration": 256,
    "start_time": "2024-10-12T01:05:52.389Z"
   },
   {
    "duration": 269,
    "start_time": "2024-10-12T01:06:46.718Z"
   },
   {
    "duration": 261,
    "start_time": "2024-10-12T01:06:52.586Z"
   },
   {
    "duration": 13,
    "start_time": "2024-10-12T01:07:34.625Z"
   },
   {
    "duration": 114,
    "start_time": "2024-10-12T01:07:41.618Z"
   },
   {
    "duration": 162,
    "start_time": "2024-10-12T01:07:47.849Z"
   },
   {
    "duration": 128,
    "start_time": "2024-10-12T01:08:19.664Z"
   },
   {
    "duration": 15,
    "start_time": "2024-10-12T01:12:13.609Z"
   },
   {
    "duration": 1905,
    "start_time": "2024-10-12T01:13:13.534Z"
   },
   {
    "duration": 486,
    "start_time": "2024-10-12T01:16:17.470Z"
   },
   {
    "duration": 409,
    "start_time": "2024-10-12T01:18:40.689Z"
   },
   {
    "duration": 451,
    "start_time": "2024-10-12T01:19:12.649Z"
   },
   {
    "duration": 992,
    "start_time": "2024-10-12T01:19:37.174Z"
   },
   {
    "duration": 583,
    "start_time": "2024-10-12T01:20:18.595Z"
   },
   {
    "duration": 509,
    "start_time": "2024-10-12T01:27:43.692Z"
   },
   {
    "duration": 638,
    "start_time": "2024-10-12T01:35:35.609Z"
   },
   {
    "duration": 507,
    "start_time": "2024-10-12T01:35:46.840Z"
   },
   {
    "duration": 1780,
    "start_time": "2024-10-12T01:50:04.898Z"
   },
   {
    "duration": 1820,
    "start_time": "2024-10-12T01:50:29.565Z"
   },
   {
    "duration": 708,
    "start_time": "2024-10-12T01:56:27.417Z"
   },
   {
    "duration": 61,
    "start_time": "2024-10-12T01:57:16.029Z"
   },
   {
    "duration": 3121,
    "start_time": "2024-10-12T01:58:35.848Z"
   },
   {
    "duration": 1825,
    "start_time": "2024-10-12T01:58:52.346Z"
   },
   {
    "duration": 63,
    "start_time": "2024-10-12T01:59:06.220Z"
   },
   {
    "duration": 2053,
    "start_time": "2024-10-12T02:00:37.317Z"
   },
   {
    "duration": 63,
    "start_time": "2024-10-12T02:01:01.769Z"
   },
   {
    "duration": 502,
    "start_time": "2024-10-12T02:03:18.857Z"
   },
   {
    "duration": 62,
    "start_time": "2024-10-12T02:04:38.139Z"
   },
   {
    "duration": 546,
    "start_time": "2024-10-12T02:05:57.341Z"
   },
   {
    "duration": 2405,
    "start_time": "2024-10-12T02:06:08.724Z"
   },
   {
    "duration": 2524,
    "start_time": "2024-10-12T02:06:41.533Z"
   },
   {
    "duration": 2409,
    "start_time": "2024-10-12T02:06:56.038Z"
   },
   {
    "duration": 2526,
    "start_time": "2024-10-12T02:08:23.275Z"
   },
   {
    "duration": 2380,
    "start_time": "2024-10-12T02:08:40.073Z"
   },
   {
    "duration": 318,
    "start_time": "2024-10-12T02:27:41.698Z"
   },
   {
    "duration": 460,
    "start_time": "2024-10-12T02:27:52.553Z"
   },
   {
    "duration": 464,
    "start_time": "2024-10-12T02:28:56.719Z"
   },
   {
    "duration": 13,
    "start_time": "2024-10-12T02:36:12.211Z"
   },
   {
    "duration": 12,
    "start_time": "2024-10-12T02:36:44.453Z"
   },
   {
    "duration": 13,
    "start_time": "2024-10-12T02:37:43.080Z"
   },
   {
    "duration": 12,
    "start_time": "2024-10-12T02:38:58.860Z"
   },
   {
    "duration": 11,
    "start_time": "2024-10-12T02:43:48.092Z"
   },
   {
    "duration": 13,
    "start_time": "2024-10-12T02:44:06.419Z"
   },
   {
    "duration": 29,
    "start_time": "2024-10-12T03:06:20.916Z"
   },
   {
    "duration": 43,
    "start_time": "2024-10-12T03:10:28.422Z"
   },
   {
    "duration": 8,
    "start_time": "2024-10-12T03:11:32.149Z"
   },
   {
    "duration": 11,
    "start_time": "2024-10-12T03:11:39.737Z"
   },
   {
    "duration": 13,
    "start_time": "2024-10-12T03:13:41.210Z"
   },
   {
    "duration": 11,
    "start_time": "2024-10-12T03:14:02.531Z"
   },
   {
    "duration": 6,
    "start_time": "2024-10-12T03:15:02.087Z"
   },
   {
    "duration": 367,
    "start_time": "2024-10-12T03:16:50.218Z"
   },
   {
    "duration": 49,
    "start_time": "2024-10-12T03:17:16.296Z"
   },
   {
    "duration": 20,
    "start_time": "2024-10-12T03:18:04.274Z"
   },
   {
    "duration": 7,
    "start_time": "2024-10-12T03:18:20.201Z"
   },
   {
    "duration": 13,
    "start_time": "2024-10-12T03:28:37.257Z"
   },
   {
    "duration": 12,
    "start_time": "2024-10-12T03:28:52.846Z"
   },
   {
    "duration": 10,
    "start_time": "2024-10-12T03:33:33.122Z"
   },
   {
    "duration": 12,
    "start_time": "2024-10-12T03:33:52.552Z"
   },
   {
    "duration": 13,
    "start_time": "2024-10-12T03:36:08.038Z"
   },
   {
    "duration": 17,
    "start_time": "2024-10-12T03:56:50.994Z"
   },
   {
    "duration": 11,
    "start_time": "2024-10-12T03:57:08.576Z"
   },
   {
    "duration": 11,
    "start_time": "2024-10-12T04:00:07.595Z"
   },
   {
    "duration": 13,
    "start_time": "2024-10-12T04:00:42.244Z"
   },
   {
    "duration": 12,
    "start_time": "2024-10-12T04:00:50.239Z"
   },
   {
    "duration": 14,
    "start_time": "2024-10-12T04:11:59.569Z"
   },
   {
    "duration": 12,
    "start_time": "2024-10-12T04:13:45.429Z"
   },
   {
    "duration": 4,
    "start_time": "2024-10-12T04:18:15.454Z"
   },
   {
    "duration": 5,
    "start_time": "2024-10-12T04:19:00.865Z"
   },
   {
    "duration": 2603,
    "start_time": "2024-10-12T22:40:59.631Z"
   },
   {
    "duration": 45,
    "start_time": "2024-10-12T22:41:02.236Z"
   },
   {
    "duration": 14,
    "start_time": "2024-10-12T22:41:02.283Z"
   },
   {
    "duration": 3,
    "start_time": "2024-10-12T22:41:02.300Z"
   },
   {
    "duration": 7,
    "start_time": "2024-10-12T22:41:02.306Z"
   },
   {
    "duration": 4,
    "start_time": "2024-10-12T22:41:02.315Z"
   },
   {
    "duration": 6,
    "start_time": "2024-10-12T22:41:02.321Z"
   },
   {
    "duration": 10,
    "start_time": "2024-10-12T22:41:02.328Z"
   },
   {
    "duration": 26,
    "start_time": "2024-10-12T22:41:02.340Z"
   },
   {
    "duration": 38,
    "start_time": "2024-10-12T22:41:02.368Z"
   },
   {
    "duration": 16,
    "start_time": "2024-10-12T22:41:02.408Z"
   },
   {
    "duration": 19,
    "start_time": "2024-10-12T22:41:02.426Z"
   },
   {
    "duration": 16,
    "start_time": "2024-10-12T22:41:02.446Z"
   },
   {
    "duration": 10,
    "start_time": "2024-10-12T22:41:02.465Z"
   },
   {
    "duration": 160,
    "start_time": "2024-10-12T22:41:02.505Z"
   },
   {
    "duration": 552,
    "start_time": "2024-10-12T22:41:02.667Z"
   },
   {
    "duration": 16,
    "start_time": "2024-10-12T22:41:03.221Z"
   },
   {
    "duration": 374,
    "start_time": "2024-10-12T22:41:03.240Z"
   },
   {
    "duration": 305,
    "start_time": "2024-10-12T22:41:35.897Z"
   },
   {
    "duration": 21,
    "start_time": "2024-10-12T22:43:03.125Z"
   },
   {
    "duration": 18,
    "start_time": "2024-10-12T22:43:22.132Z"
   },
   {
    "duration": 19,
    "start_time": "2024-10-12T22:43:34.332Z"
   },
   {
    "duration": 17,
    "start_time": "2024-10-12T22:49:33.560Z"
   },
   {
    "duration": 21,
    "start_time": "2024-10-12T22:51:10.844Z"
   },
   {
    "duration": 18,
    "start_time": "2024-10-12T22:53:00.023Z"
   },
   {
    "duration": 21,
    "start_time": "2024-10-12T22:53:28.652Z"
   },
   {
    "duration": 27,
    "start_time": "2024-10-12T23:06:13.348Z"
   },
   {
    "duration": 831,
    "start_time": "2024-10-12T23:07:05.499Z"
   },
   {
    "duration": 26,
    "start_time": "2024-10-12T23:07:06.332Z"
   },
   {
    "duration": 12,
    "start_time": "2024-10-12T23:07:06.360Z"
   },
   {
    "duration": 3,
    "start_time": "2024-10-12T23:07:06.374Z"
   },
   {
    "duration": 8,
    "start_time": "2024-10-12T23:07:06.379Z"
   },
   {
    "duration": 4,
    "start_time": "2024-10-12T23:07:06.405Z"
   },
   {
    "duration": 5,
    "start_time": "2024-10-12T23:07:06.411Z"
   },
   {
    "duration": 10,
    "start_time": "2024-10-12T23:07:06.419Z"
   },
   {
    "duration": 28,
    "start_time": "2024-10-12T23:07:06.430Z"
   },
   {
    "duration": 7,
    "start_time": "2024-10-12T23:07:06.462Z"
   },
   {
    "duration": 45,
    "start_time": "2024-10-12T23:07:06.470Z"
   },
   {
    "duration": 18,
    "start_time": "2024-10-12T23:07:06.517Z"
   },
   {
    "duration": 12,
    "start_time": "2024-10-12T23:07:06.536Z"
   },
   {
    "duration": 11,
    "start_time": "2024-10-12T23:07:06.550Z"
   },
   {
    "duration": 174,
    "start_time": "2024-10-12T23:07:06.563Z"
   },
   {
    "duration": 555,
    "start_time": "2024-10-12T23:07:06.739Z"
   },
   {
    "duration": 14,
    "start_time": "2024-10-12T23:07:07.296Z"
   },
   {
    "duration": 830,
    "start_time": "2024-10-12T23:10:00.743Z"
   },
   {
    "duration": 25,
    "start_time": "2024-10-12T23:10:01.575Z"
   },
   {
    "duration": 12,
    "start_time": "2024-10-12T23:10:01.605Z"
   },
   {
    "duration": 3,
    "start_time": "2024-10-12T23:10:01.620Z"
   },
   {
    "duration": 9,
    "start_time": "2024-10-12T23:10:01.625Z"
   },
   {
    "duration": 4,
    "start_time": "2024-10-12T23:10:01.635Z"
   },
   {
    "duration": 6,
    "start_time": "2024-10-12T23:10:01.640Z"
   },
   {
    "duration": 10,
    "start_time": "2024-10-12T23:10:01.649Z"
   },
   {
    "duration": 62,
    "start_time": "2024-10-12T23:10:01.660Z"
   },
   {
    "duration": 8,
    "start_time": "2024-10-12T23:10:01.726Z"
   },
   {
    "duration": 13,
    "start_time": "2024-10-12T23:10:01.736Z"
   },
   {
    "duration": 13,
    "start_time": "2024-10-12T23:10:01.751Z"
   },
   {
    "duration": 11,
    "start_time": "2024-10-12T23:10:01.766Z"
   },
   {
    "duration": 35,
    "start_time": "2024-10-12T23:10:01.779Z"
   },
   {
    "duration": 152,
    "start_time": "2024-10-12T23:10:01.816Z"
   },
   {
    "duration": 547,
    "start_time": "2024-10-12T23:10:01.970Z"
   },
   {
    "duration": 14,
    "start_time": "2024-10-12T23:10:02.518Z"
   },
   {
    "duration": 7,
    "start_time": "2024-10-12T23:10:02.534Z"
   },
   {
    "duration": 156,
    "start_time": "2024-10-12T23:10:02.542Z"
   },
   {
    "duration": 132969,
    "start_time": "2024-10-12T23:10:23.872Z"
   },
   {
    "duration": 161,
    "start_time": "2024-10-12T23:16:42.332Z"
   },
   {
    "duration": 152,
    "start_time": "2024-10-12T23:17:25.533Z"
   },
   {
    "duration": 141,
    "start_time": "2024-10-12T23:18:45.711Z"
   },
   {
    "duration": 145,
    "start_time": "2024-10-12T23:19:12.448Z"
   },
   {
    "duration": 150,
    "start_time": "2024-10-12T23:19:26.111Z"
   },
   {
    "duration": 146,
    "start_time": "2024-10-12T23:25:15.321Z"
   },
   {
    "duration": 148,
    "start_time": "2024-10-12T23:25:31.289Z"
   },
   {
    "duration": 8,
    "start_time": "2024-10-13T00:22:55.792Z"
   },
   {
    "duration": 7,
    "start_time": "2024-10-13T00:25:50.535Z"
   },
   {
    "duration": 128,
    "start_time": "2024-10-13T00:25:56.773Z"
   },
   {
    "duration": 712,
    "start_time": "2024-10-13T00:26:20.179Z"
   },
   {
    "duration": 130,
    "start_time": "2024-10-13T00:26:33.417Z"
   },
   {
    "duration": 139,
    "start_time": "2024-10-13T00:29:30.251Z"
   },
   {
    "duration": 286,
    "start_time": "2024-10-13T00:31:39.605Z"
   },
   {
    "duration": 157,
    "start_time": "2024-10-13T00:34:04.258Z"
   },
   {
    "duration": 169,
    "start_time": "2024-10-13T00:34:32.861Z"
   },
   {
    "duration": 160,
    "start_time": "2024-10-13T00:34:43.223Z"
   },
   {
    "duration": 167,
    "start_time": "2024-10-13T00:34:57.792Z"
   },
   {
    "duration": 166,
    "start_time": "2024-10-13T00:35:10.817Z"
   },
   {
    "duration": 341,
    "start_time": "2024-10-13T00:35:30.595Z"
   },
   {
    "duration": 188,
    "start_time": "2024-10-13T00:36:05.074Z"
   },
   {
    "duration": 162,
    "start_time": "2024-10-13T00:36:20.756Z"
   },
   {
    "duration": 162,
    "start_time": "2024-10-13T00:36:34.289Z"
   },
   {
    "duration": 163,
    "start_time": "2024-10-13T00:36:45.864Z"
   },
   {
    "duration": 128,
    "start_time": "2024-10-13T00:39:46.812Z"
   },
   {
    "duration": 129,
    "start_time": "2024-10-13T00:41:03.921Z"
   },
   {
    "duration": 129,
    "start_time": "2024-10-13T00:45:22.263Z"
   },
   {
    "duration": 5,
    "start_time": "2024-10-13T00:49:04.224Z"
   },
   {
    "duration": 5,
    "start_time": "2024-10-13T00:51:52.050Z"
   },
   {
    "duration": 7,
    "start_time": "2024-10-13T01:02:20.393Z"
   },
   {
    "duration": 5,
    "start_time": "2024-10-13T01:02:59.314Z"
   },
   {
    "duration": 7,
    "start_time": "2024-10-13T01:03:07.684Z"
   },
   {
    "duration": 4,
    "start_time": "2024-10-13T01:15:46.900Z"
   },
   {
    "duration": 7,
    "start_time": "2024-10-13T01:19:30.145Z"
   },
   {
    "duration": 8,
    "start_time": "2024-10-13T01:19:33.103Z"
   },
   {
    "duration": 5,
    "start_time": "2024-10-13T01:20:08.974Z"
   },
   {
    "duration": 7,
    "start_time": "2024-10-13T01:20:27.478Z"
   },
   {
    "duration": 11,
    "start_time": "2024-10-13T01:29:25.601Z"
   },
   {
    "duration": 14,
    "start_time": "2024-10-13T01:29:49.616Z"
   },
   {
    "duration": 837,
    "start_time": "2024-10-13T01:33:19.200Z"
   },
   {
    "duration": 25,
    "start_time": "2024-10-13T01:33:20.039Z"
   },
   {
    "duration": 12,
    "start_time": "2024-10-13T01:33:20.065Z"
   },
   {
    "duration": 2,
    "start_time": "2024-10-13T01:33:20.079Z"
   },
   {
    "duration": 25,
    "start_time": "2024-10-13T01:33:20.084Z"
   },
   {
    "duration": 4,
    "start_time": "2024-10-13T01:33:20.110Z"
   },
   {
    "duration": 6,
    "start_time": "2024-10-13T01:33:20.116Z"
   },
   {
    "duration": 10,
    "start_time": "2024-10-13T01:33:20.124Z"
   },
   {
    "duration": 27,
    "start_time": "2024-10-13T01:33:20.136Z"
   },
   {
    "duration": 42,
    "start_time": "2024-10-13T01:33:20.164Z"
   },
   {
    "duration": 14,
    "start_time": "2024-10-13T01:33:20.207Z"
   },
   {
    "duration": 14,
    "start_time": "2024-10-13T01:33:20.222Z"
   },
   {
    "duration": 13,
    "start_time": "2024-10-13T01:33:20.238Z"
   },
   {
    "duration": 10,
    "start_time": "2024-10-13T01:33:20.254Z"
   },
   {
    "duration": 175,
    "start_time": "2024-10-13T01:33:20.266Z"
   },
   {
    "duration": 560,
    "start_time": "2024-10-13T01:33:20.442Z"
   },
   {
    "duration": 17,
    "start_time": "2024-10-13T01:33:21.005Z"
   },
   {
    "duration": 150,
    "start_time": "2024-10-13T01:33:21.034Z"
   },
   {
    "duration": 167,
    "start_time": "2024-10-13T01:33:21.186Z"
   },
   {
    "duration": 4,
    "start_time": "2024-10-13T01:33:21.356Z"
   },
   {
    "duration": 13,
    "start_time": "2024-10-13T01:33:21.361Z"
   },
   {
    "duration": 15,
    "start_time": "2024-10-13T02:01:28.666Z"
   },
   {
    "duration": 22,
    "start_time": "2024-10-13T02:15:19.750Z"
   },
   {
    "duration": 27,
    "start_time": "2024-10-13T02:15:28.818Z"
   },
   {
    "duration": 135,
    "start_time": "2024-10-13T02:17:40.674Z"
   },
   {
    "duration": 22,
    "start_time": "2024-10-13T02:18:11.801Z"
   },
   {
    "duration": 24,
    "start_time": "2024-10-13T02:18:26.420Z"
   },
   {
    "duration": 26,
    "start_time": "2024-10-13T02:18:37.820Z"
   },
   {
    "duration": 24,
    "start_time": "2024-10-13T02:20:55.491Z"
   },
   {
    "duration": 841,
    "start_time": "2024-10-13T02:22:52.628Z"
   },
   {
    "duration": 33,
    "start_time": "2024-10-13T02:22:53.472Z"
   },
   {
    "duration": 12,
    "start_time": "2024-10-13T02:22:53.507Z"
   },
   {
    "duration": 2,
    "start_time": "2024-10-13T02:22:53.521Z"
   },
   {
    "duration": 8,
    "start_time": "2024-10-13T02:22:53.526Z"
   },
   {
    "duration": 4,
    "start_time": "2024-10-13T02:22:53.535Z"
   },
   {
    "duration": 6,
    "start_time": "2024-10-13T02:22:53.540Z"
   },
   {
    "duration": 10,
    "start_time": "2024-10-13T02:22:53.548Z"
   },
   {
    "duration": 62,
    "start_time": "2024-10-13T02:22:53.559Z"
   },
   {
    "duration": 7,
    "start_time": "2024-10-13T02:22:53.623Z"
   },
   {
    "duration": 12,
    "start_time": "2024-10-13T02:22:53.631Z"
   },
   {
    "duration": 17,
    "start_time": "2024-10-13T02:22:53.645Z"
   },
   {
    "duration": 45,
    "start_time": "2024-10-13T02:22:53.663Z"
   },
   {
    "duration": 11,
    "start_time": "2024-10-13T02:22:53.711Z"
   },
   {
    "duration": 155,
    "start_time": "2024-10-13T02:22:53.723Z"
   },
   {
    "duration": 519,
    "start_time": "2024-10-13T02:22:53.880Z"
   },
   {
    "duration": 15,
    "start_time": "2024-10-13T02:22:54.401Z"
   },
   {
    "duration": 156,
    "start_time": "2024-10-13T02:22:54.419Z"
   },
   {
    "duration": 181,
    "start_time": "2024-10-13T02:22:54.577Z"
   },
   {
    "duration": 5,
    "start_time": "2024-10-13T02:22:54.759Z"
   },
   {
    "duration": 16,
    "start_time": "2024-10-13T02:22:54.765Z"
   },
   {
    "duration": 23,
    "start_time": "2024-10-13T02:22:54.782Z"
   },
   {
    "duration": 18,
    "start_time": "2024-10-13T02:23:22.597Z"
   },
   {
    "duration": 26,
    "start_time": "2024-10-13T02:25:40.648Z"
   },
   {
    "duration": 25,
    "start_time": "2024-10-13T02:26:15.147Z"
   },
   {
    "duration": 22,
    "start_time": "2024-10-13T02:34:50.765Z"
   },
   {
    "duration": 249,
    "start_time": "2024-10-13T02:38:25.666Z"
   },
   {
    "duration": 27,
    "start_time": "2024-10-13T02:39:03.476Z"
   },
   {
    "duration": 28,
    "start_time": "2024-10-13T02:41:04.938Z"
   },
   {
    "duration": 28,
    "start_time": "2024-10-13T02:45:31.466Z"
   },
   {
    "duration": 39,
    "start_time": "2024-10-13T02:55:01.259Z"
   },
   {
    "duration": 29,
    "start_time": "2024-10-13T02:55:20.530Z"
   },
   {
    "duration": 27,
    "start_time": "2024-10-13T02:55:37.483Z"
   },
   {
    "duration": 31,
    "start_time": "2024-10-13T02:56:07.415Z"
   },
   {
    "duration": 28,
    "start_time": "2024-10-13T02:56:13.135Z"
   },
   {
    "duration": 30,
    "start_time": "2024-10-13T02:59:13.087Z"
   },
   {
    "duration": 30,
    "start_time": "2024-10-13T03:00:12.894Z"
   },
   {
    "duration": 28,
    "start_time": "2024-10-13T03:05:48.559Z"
   },
   {
    "duration": 26,
    "start_time": "2024-10-13T03:07:17.101Z"
   },
   {
    "duration": 28,
    "start_time": "2024-10-13T03:07:30.730Z"
   },
   {
    "duration": 22,
    "start_time": "2024-10-13T03:07:42.182Z"
   },
   {
    "duration": 25,
    "start_time": "2024-10-13T03:07:48.867Z"
   },
   {
    "duration": 26,
    "start_time": "2024-10-13T03:08:01.722Z"
   },
   {
    "duration": 27,
    "start_time": "2024-10-13T03:08:08.481Z"
   },
   {
    "duration": 27,
    "start_time": "2024-10-13T03:22:03.552Z"
   },
   {
    "duration": 13,
    "start_time": "2024-10-13T03:24:12.759Z"
   },
   {
    "duration": 12,
    "start_time": "2024-10-13T03:24:20.809Z"
   },
   {
    "duration": 15,
    "start_time": "2024-10-13T03:24:42.638Z"
   },
   {
    "duration": 10,
    "start_time": "2024-10-13T03:25:22.714Z"
   },
   {
    "duration": 10,
    "start_time": "2024-10-13T03:28:35.529Z"
   },
   {
    "duration": 10,
    "start_time": "2024-10-13T03:28:59.873Z"
   },
   {
    "duration": 143,
    "start_time": "2024-10-13T03:31:13.935Z"
   },
   {
    "duration": 139,
    "start_time": "2024-10-13T03:31:21.280Z"
   },
   {
    "duration": 139,
    "start_time": "2024-10-13T03:31:42.940Z"
   },
   {
    "duration": 219,
    "start_time": "2024-10-13T03:32:31.122Z"
   },
   {
    "duration": 598,
    "start_time": "2024-10-13T03:34:48.709Z"
   },
   {
    "duration": 187,
    "start_time": "2024-10-14T00:36:52.769Z"
   },
   {
    "duration": 2802,
    "start_time": "2024-10-14T00:37:03.691Z"
   },
   {
    "duration": 54,
    "start_time": "2024-10-14T00:37:06.495Z"
   },
   {
    "duration": 11,
    "start_time": "2024-10-14T00:37:06.550Z"
   },
   {
    "duration": 2,
    "start_time": "2024-10-14T00:37:06.564Z"
   },
   {
    "duration": 7,
    "start_time": "2024-10-14T00:37:06.568Z"
   },
   {
    "duration": 3,
    "start_time": "2024-10-14T00:37:06.577Z"
   },
   {
    "duration": 5,
    "start_time": "2024-10-14T00:37:06.582Z"
   },
   {
    "duration": 16,
    "start_time": "2024-10-14T00:37:06.589Z"
   },
   {
    "duration": 34,
    "start_time": "2024-10-14T00:37:06.607Z"
   },
   {
    "duration": 7,
    "start_time": "2024-10-14T00:37:06.644Z"
   },
   {
    "duration": 12,
    "start_time": "2024-10-14T00:37:06.652Z"
   },
   {
    "duration": 48,
    "start_time": "2024-10-14T00:37:06.666Z"
   },
   {
    "duration": 12,
    "start_time": "2024-10-14T00:37:06.716Z"
   },
   {
    "duration": 9,
    "start_time": "2024-10-14T00:37:06.730Z"
   },
   {
    "duration": 166,
    "start_time": "2024-10-14T00:37:06.740Z"
   },
   {
    "duration": 521,
    "start_time": "2024-10-14T00:37:06.907Z"
   },
   {
    "duration": 13,
    "start_time": "2024-10-14T00:37:07.430Z"
   },
   {
    "duration": 222,
    "start_time": "2024-10-14T00:37:07.445Z"
   },
   {
    "duration": 171,
    "start_time": "2024-10-14T00:37:07.668Z"
   },
   {
    "duration": 5,
    "start_time": "2024-10-14T00:37:07.840Z"
   },
   {
    "duration": 31,
    "start_time": "2024-10-14T00:37:07.847Z"
   },
   {
    "duration": 11,
    "start_time": "2024-10-14T00:37:07.880Z"
   },
   {
    "duration": 139,
    "start_time": "2024-10-14T00:37:07.894Z"
   },
   {
    "duration": 594,
    "start_time": "2024-10-14T00:37:08.035Z"
   },
   {
    "duration": 34,
    "start_time": "2024-10-14T00:37:23.340Z"
   },
   {
    "duration": 6,
    "start_time": "2024-10-14T00:51:04.833Z"
   },
   {
    "duration": 32,
    "start_time": "2024-10-14T00:52:23.597Z"
   },
   {
    "duration": 9,
    "start_time": "2024-10-14T00:55:14.724Z"
   },
   {
    "duration": 156,
    "start_time": "2024-10-14T00:55:31.897Z"
   },
   {
    "duration": 35,
    "start_time": "2024-10-14T00:55:47.537Z"
   },
   {
    "duration": 34,
    "start_time": "2024-10-14T00:56:18.112Z"
   },
   {
    "duration": 22,
    "start_time": "2024-10-14T00:57:01.046Z"
   },
   {
    "duration": 18,
    "start_time": "2024-10-14T00:57:08.030Z"
   },
   {
    "duration": 12,
    "start_time": "2024-10-14T00:58:16.284Z"
   },
   {
    "duration": 13,
    "start_time": "2024-10-14T00:58:59.730Z"
   },
   {
    "duration": 12,
    "start_time": "2024-10-14T00:59:38.307Z"
   },
   {
    "duration": 9,
    "start_time": "2024-10-14T00:59:56.901Z"
   },
   {
    "duration": 10,
    "start_time": "2024-10-14T01:08:11.270Z"
   },
   {
    "duration": 11,
    "start_time": "2024-10-14T01:09:39.623Z"
   },
   {
    "duration": 10,
    "start_time": "2024-10-14T01:10:15.064Z"
   },
   {
    "duration": 10,
    "start_time": "2024-10-14T01:13:40.601Z"
   },
   {
    "duration": 11,
    "start_time": "2024-10-14T01:14:38.364Z"
   },
   {
    "duration": 160,
    "start_time": "2024-10-14T03:08:33.367Z"
   },
   {
    "duration": 2546,
    "start_time": "2024-10-14T03:08:41.097Z"
   },
   {
    "duration": 45,
    "start_time": "2024-10-14T03:08:43.645Z"
   },
   {
    "duration": 11,
    "start_time": "2024-10-14T03:08:43.692Z"
   },
   {
    "duration": 3,
    "start_time": "2024-10-14T03:08:43.705Z"
   },
   {
    "duration": 8,
    "start_time": "2024-10-14T03:08:43.710Z"
   },
   {
    "duration": 4,
    "start_time": "2024-10-14T03:08:43.720Z"
   },
   {
    "duration": 5,
    "start_time": "2024-10-14T03:08:43.726Z"
   },
   {
    "duration": 11,
    "start_time": "2024-10-14T03:08:43.732Z"
   },
   {
    "duration": 34,
    "start_time": "2024-10-14T03:08:43.745Z"
   },
   {
    "duration": 9,
    "start_time": "2024-10-14T03:08:43.808Z"
   },
   {
    "duration": 13,
    "start_time": "2024-10-14T03:08:43.819Z"
   },
   {
    "duration": 17,
    "start_time": "2024-10-14T03:08:43.833Z"
   },
   {
    "duration": 12,
    "start_time": "2024-10-14T03:08:43.852Z"
   },
   {
    "duration": 42,
    "start_time": "2024-10-14T03:08:43.867Z"
   },
   {
    "duration": 150,
    "start_time": "2024-10-14T03:08:43.911Z"
   },
   {
    "duration": 491,
    "start_time": "2024-10-14T03:08:44.062Z"
   },
   {
    "duration": 16,
    "start_time": "2024-10-14T03:08:44.555Z"
   },
   {
    "duration": 214,
    "start_time": "2024-10-14T03:08:44.573Z"
   },
   {
    "duration": 174,
    "start_time": "2024-10-14T03:08:44.791Z"
   },
   {
    "duration": 5,
    "start_time": "2024-10-14T03:08:44.967Z"
   },
   {
    "duration": 28,
    "start_time": "2024-10-14T03:08:44.974Z"
   },
   {
    "duration": 9,
    "start_time": "2024-10-14T03:08:45.003Z"
   },
   {
    "duration": 136,
    "start_time": "2024-10-14T03:08:45.014Z"
   },
   {
    "duration": 10,
    "start_time": "2024-10-14T03:08:45.153Z"
   },
   {
    "duration": 10,
    "start_time": "2024-10-14T03:08:45.164Z"
   },
   {
    "duration": 8,
    "start_time": "2024-10-14T03:08:45.175Z"
   },
   {
    "duration": 9,
    "start_time": "2024-10-14T03:08:45.209Z"
   },
   {
    "duration": 9,
    "start_time": "2024-10-14T03:08:45.219Z"
   },
   {
    "duration": 11,
    "start_time": "2024-10-14T03:09:33.160Z"
   },
   {
    "duration": 10,
    "start_time": "2024-10-14T03:16:04.220Z"
   },
   {
    "duration": 2681,
    "start_time": "2024-10-14T19:15:47.631Z"
   },
   {
    "duration": 49,
    "start_time": "2024-10-14T19:15:50.314Z"
   },
   {
    "duration": 11,
    "start_time": "2024-10-14T19:15:50.365Z"
   },
   {
    "duration": 3,
    "start_time": "2024-10-14T19:15:50.378Z"
   },
   {
    "duration": 9,
    "start_time": "2024-10-14T19:15:50.383Z"
   },
   {
    "duration": 3,
    "start_time": "2024-10-14T19:15:50.394Z"
   },
   {
    "duration": 9,
    "start_time": "2024-10-14T19:15:50.399Z"
   },
   {
    "duration": 15,
    "start_time": "2024-10-14T19:15:50.425Z"
   },
   {
    "duration": 27,
    "start_time": "2024-10-14T19:15:50.441Z"
   },
   {
    "duration": 7,
    "start_time": "2024-10-14T19:15:50.472Z"
   },
   {
    "duration": 12,
    "start_time": "2024-10-14T19:15:50.480Z"
   },
   {
    "duration": 35,
    "start_time": "2024-10-14T19:15:50.493Z"
   },
   {
    "duration": 12,
    "start_time": "2024-10-14T19:15:50.529Z"
   },
   {
    "duration": 10,
    "start_time": "2024-10-14T19:15:50.542Z"
   },
   {
    "duration": 175,
    "start_time": "2024-10-14T19:15:50.553Z"
   },
   {
    "duration": 464,
    "start_time": "2024-10-14T19:15:50.732Z"
   },
   {
    "duration": 32,
    "start_time": "2024-10-14T19:15:51.198Z"
   },
   {
    "duration": 153,
    "start_time": "2024-10-14T19:15:51.231Z"
   },
   {
    "duration": 170,
    "start_time": "2024-10-14T19:15:51.387Z"
   },
   {
    "duration": 5,
    "start_time": "2024-10-14T19:15:51.559Z"
   },
   {
    "duration": 94,
    "start_time": "2024-10-14T19:15:51.565Z"
   },
   {
    "duration": 9,
    "start_time": "2024-10-14T19:15:51.661Z"
   },
   {
    "duration": 163,
    "start_time": "2024-10-14T19:15:51.672Z"
   },
   {
    "duration": 9,
    "start_time": "2024-10-14T19:15:51.838Z"
   },
   {
    "duration": 9,
    "start_time": "2024-10-14T19:15:51.849Z"
   },
   {
    "duration": 8,
    "start_time": "2024-10-14T19:15:51.861Z"
   },
   {
    "duration": 9,
    "start_time": "2024-10-14T19:15:51.871Z"
   },
   {
    "duration": 34,
    "start_time": "2024-10-14T19:15:51.883Z"
   },
   {
    "duration": 14,
    "start_time": "2024-10-14T19:15:51.918Z"
   },
   {
    "duration": 11,
    "start_time": "2024-10-14T19:15:51.933Z"
   },
   {
    "duration": 13,
    "start_time": "2024-10-14T19:20:25.710Z"
   },
   {
    "duration": 9,
    "start_time": "2024-10-14T19:22:05.598Z"
   },
   {
    "duration": 10,
    "start_time": "2024-10-14T19:22:39.156Z"
   },
   {
    "duration": 10,
    "start_time": "2024-10-14T19:23:18.771Z"
   },
   {
    "duration": 20,
    "start_time": "2024-10-14T19:27:45.412Z"
   },
   {
    "duration": 40,
    "start_time": "2024-10-14T19:28:30.744Z"
   },
   {
    "duration": 11,
    "start_time": "2024-10-14T19:30:13.449Z"
   },
   {
    "duration": 12,
    "start_time": "2024-10-14T19:30:35.728Z"
   },
   {
    "duration": 9,
    "start_time": "2024-10-14T19:31:56.493Z"
   },
   {
    "duration": 248,
    "start_time": "2024-10-14T19:32:24.028Z"
   },
   {
    "duration": 12,
    "start_time": "2024-10-14T19:32:37.825Z"
   },
   {
    "duration": 9,
    "start_time": "2024-10-14T19:32:41.037Z"
   },
   {
    "duration": 13,
    "start_time": "2024-10-14T19:32:49.682Z"
   },
   {
    "duration": 6,
    "start_time": "2024-10-14T19:33:06.429Z"
   },
   {
    "duration": 3,
    "start_time": "2024-10-14T19:33:30.970Z"
   },
   {
    "duration": 14,
    "start_time": "2024-10-14T19:33:39.435Z"
   },
   {
    "duration": 14,
    "start_time": "2024-10-14T19:33:51.749Z"
   },
   {
    "duration": 16,
    "start_time": "2024-10-14T19:35:19.367Z"
   },
   {
    "duration": 428,
    "start_time": "2024-10-14T19:42:04.871Z"
   },
   {
    "duration": 41,
    "start_time": "2024-10-14T19:42:48.992Z"
   },
   {
    "duration": 180,
    "start_time": "2024-10-14T19:42:57.299Z"
   },
   {
    "duration": 212,
    "start_time": "2024-10-14T19:44:13.237Z"
   },
   {
    "duration": 199,
    "start_time": "2024-10-14T19:44:58.980Z"
   },
   {
    "duration": 171,
    "start_time": "2024-10-14T19:46:48.809Z"
   },
   {
    "duration": 15,
    "start_time": "2024-10-14T19:47:38.556Z"
   },
   {
    "duration": 159,
    "start_time": "2024-10-14T19:52:21.210Z"
   },
   {
    "duration": 146,
    "start_time": "2024-10-14T19:52:56.661Z"
   },
   {
    "duration": 132,
    "start_time": "2024-10-14T19:53:13.971Z"
   },
   {
    "duration": 129,
    "start_time": "2024-10-14T19:53:25.765Z"
   },
   {
    "duration": 6,
    "start_time": "2024-10-14T19:53:56.014Z"
   },
   {
    "duration": 801,
    "start_time": "2024-10-14T19:54:03.497Z"
   },
   {
    "duration": 251,
    "start_time": "2024-10-14T19:55:20.526Z"
   },
   {
    "duration": 165,
    "start_time": "2024-10-14T19:56:29.872Z"
   },
   {
    "duration": 151,
    "start_time": "2024-10-14T19:56:47.436Z"
   },
   {
    "duration": 163,
    "start_time": "2024-10-14T19:56:55.878Z"
   },
   {
    "duration": 324,
    "start_time": "2024-10-14T19:57:27.629Z"
   },
   {
    "duration": 32,
    "start_time": "2024-10-14T19:58:12.716Z"
   },
   {
    "duration": 121,
    "start_time": "2024-10-14T19:58:51.432Z"
   },
   {
    "duration": 140,
    "start_time": "2024-10-14T19:59:16.426Z"
   },
   {
    "duration": 115,
    "start_time": "2024-10-14T19:59:26.139Z"
   },
   {
    "duration": 799,
    "start_time": "2024-10-14T19:59:47.425Z"
   },
   {
    "duration": 29,
    "start_time": "2024-10-14T19:59:48.226Z"
   },
   {
    "duration": 11,
    "start_time": "2024-10-14T19:59:48.258Z"
   },
   {
    "duration": 3,
    "start_time": "2024-10-14T19:59:48.272Z"
   },
   {
    "duration": 7,
    "start_time": "2024-10-14T19:59:48.276Z"
   },
   {
    "duration": 3,
    "start_time": "2024-10-14T19:59:48.285Z"
   },
   {
    "duration": 27,
    "start_time": "2024-10-14T19:59:48.289Z"
   },
   {
    "duration": 12,
    "start_time": "2024-10-14T19:59:48.329Z"
   },
   {
    "duration": 27,
    "start_time": "2024-10-14T19:59:48.342Z"
   },
   {
    "duration": 7,
    "start_time": "2024-10-14T19:59:48.372Z"
   },
   {
    "duration": 12,
    "start_time": "2024-10-14T19:59:48.381Z"
   },
   {
    "duration": 48,
    "start_time": "2024-10-14T19:59:48.394Z"
   },
   {
    "duration": 13,
    "start_time": "2024-10-14T19:59:48.444Z"
   },
   {
    "duration": 10,
    "start_time": "2024-10-14T19:59:48.458Z"
   },
   {
    "duration": 178,
    "start_time": "2024-10-14T19:59:48.470Z"
   },
   {
    "duration": 563,
    "start_time": "2024-10-14T19:59:48.650Z"
   },
   {
    "duration": 28,
    "start_time": "2024-10-14T19:59:49.215Z"
   },
   {
    "duration": 150,
    "start_time": "2024-10-14T19:59:49.245Z"
   },
   {
    "duration": 180,
    "start_time": "2024-10-14T19:59:49.397Z"
   },
   {
    "duration": 5,
    "start_time": "2024-10-14T19:59:49.579Z"
   },
   {
    "duration": 29,
    "start_time": "2024-10-14T19:59:49.586Z"
   },
   {
    "duration": 9,
    "start_time": "2024-10-14T19:59:49.617Z"
   },
   {
    "duration": 147,
    "start_time": "2024-10-14T19:59:49.627Z"
   },
   {
    "duration": 9,
    "start_time": "2024-10-14T19:59:49.776Z"
   },
   {
    "duration": 47,
    "start_time": "2024-10-14T19:59:49.787Z"
   },
   {
    "duration": 9,
    "start_time": "2024-10-14T19:59:49.836Z"
   },
   {
    "duration": 9,
    "start_time": "2024-10-14T19:59:49.846Z"
   },
   {
    "duration": 9,
    "start_time": "2024-10-14T19:59:49.859Z"
   },
   {
    "duration": 9,
    "start_time": "2024-10-14T19:59:49.870Z"
   },
   {
    "duration": 46,
    "start_time": "2024-10-14T19:59:49.881Z"
   },
   {
    "duration": 169,
    "start_time": "2024-10-14T19:59:49.928Z"
   },
   {
    "duration": 189,
    "start_time": "2024-10-14T19:59:50.099Z"
   },
   {
    "duration": 189,
    "start_time": "2024-10-14T20:00:27.750Z"
   },
   {
    "duration": 183,
    "start_time": "2024-10-14T20:00:45.064Z"
   },
   {
    "duration": 181,
    "start_time": "2024-10-14T20:00:54.378Z"
   },
   {
    "duration": 539,
    "start_time": "2024-10-14T20:01:40.033Z"
   },
   {
    "duration": 175,
    "start_time": "2024-10-14T20:02:03.760Z"
   },
   {
    "duration": 14,
    "start_time": "2024-10-14T20:05:06.974Z"
   },
   {
    "duration": 10,
    "start_time": "2024-10-14T20:06:23.235Z"
   },
   {
    "duration": 5,
    "start_time": "2024-10-14T20:09:46.056Z"
   },
   {
    "duration": 163,
    "start_time": "2024-10-14T20:14:26.146Z"
   },
   {
    "duration": 229,
    "start_time": "2024-10-14T20:15:11.079Z"
   },
   {
    "duration": 236,
    "start_time": "2024-10-14T20:16:52.978Z"
   },
   {
    "duration": 15,
    "start_time": "2024-10-14T20:28:45.695Z"
   },
   {
    "duration": 15,
    "start_time": "2024-10-14T20:31:14.286Z"
   },
   {
    "duration": 696,
    "start_time": "2024-10-14T20:42:53.047Z"
   },
   {
    "duration": 202,
    "start_time": "2024-10-14T20:43:44.441Z"
   },
   {
    "duration": 19,
    "start_time": "2024-10-14T20:44:46.445Z"
   },
   {
    "duration": 207,
    "start_time": "2024-10-14T20:45:43.229Z"
   },
   {
    "duration": 90,
    "start_time": "2024-10-14T20:46:35.271Z"
   },
   {
    "duration": 71,
    "start_time": "2024-10-14T20:47:32.627Z"
   },
   {
    "duration": 51,
    "start_time": "2024-10-14T20:48:17.395Z"
   },
   {
    "duration": 183,
    "start_time": "2024-10-14T20:48:39.996Z"
   },
   {
    "duration": 3,
    "start_time": "2024-10-14T21:04:47.079Z"
   },
   {
    "duration": 15,
    "start_time": "2024-10-14T21:06:15.932Z"
   },
   {
    "duration": 17,
    "start_time": "2024-10-14T21:08:35.121Z"
   },
   {
    "duration": 183,
    "start_time": "2024-10-15T01:15:13.272Z"
   },
   {
    "duration": 2934,
    "start_time": "2024-10-15T01:15:21.388Z"
   },
   {
    "duration": 38,
    "start_time": "2024-10-15T01:15:24.324Z"
   },
   {
    "duration": 15,
    "start_time": "2024-10-15T01:15:24.364Z"
   },
   {
    "duration": 4,
    "start_time": "2024-10-15T01:15:24.381Z"
   },
   {
    "duration": 8,
    "start_time": "2024-10-15T01:15:24.388Z"
   },
   {
    "duration": 4,
    "start_time": "2024-10-15T01:15:24.398Z"
   },
   {
    "duration": 32,
    "start_time": "2024-10-15T01:15:24.404Z"
   },
   {
    "duration": 12,
    "start_time": "2024-10-15T01:15:24.438Z"
   },
   {
    "duration": 31,
    "start_time": "2024-10-15T01:15:24.452Z"
   },
   {
    "duration": 10,
    "start_time": "2024-10-15T01:15:24.485Z"
   },
   {
    "duration": 50,
    "start_time": "2024-10-15T01:15:24.498Z"
   },
   {
    "duration": 24,
    "start_time": "2024-10-15T01:15:24.550Z"
   },
   {
    "duration": 15,
    "start_time": "2024-10-15T01:15:24.577Z"
   },
   {
    "duration": 36,
    "start_time": "2024-10-15T01:15:24.598Z"
   },
   {
    "duration": 177,
    "start_time": "2024-10-15T01:15:24.635Z"
   },
   {
    "duration": 603,
    "start_time": "2024-10-15T01:15:24.814Z"
   },
   {
    "duration": 24,
    "start_time": "2024-10-15T01:15:25.419Z"
   },
   {
    "duration": 194,
    "start_time": "2024-10-15T01:15:25.445Z"
   },
   {
    "duration": 197,
    "start_time": "2024-10-15T01:15:25.643Z"
   },
   {
    "duration": 5,
    "start_time": "2024-10-15T01:15:25.842Z"
   },
   {
    "duration": 31,
    "start_time": "2024-10-15T01:15:25.848Z"
   },
   {
    "duration": 10,
    "start_time": "2024-10-15T01:15:25.882Z"
   },
   {
    "duration": 193,
    "start_time": "2024-10-15T01:15:25.893Z"
   },
   {
    "duration": 18,
    "start_time": "2024-10-15T01:15:26.088Z"
   },
   {
    "duration": 209,
    "start_time": "2024-10-15T01:15:26.109Z"
   },
   {
    "duration": 26,
    "start_time": "2024-10-15T01:15:26.320Z"
   },
   {
    "duration": 263,
    "start_time": "2024-10-15T01:15:26.348Z"
   },
   {
    "duration": 23,
    "start_time": "2024-10-15T01:15:26.615Z"
   },
   {
    "duration": 6,
    "start_time": "2024-10-15T01:15:26.642Z"
   },
   {
    "duration": 359,
    "start_time": "2024-10-15T01:16:17.343Z"
   },
   {
    "duration": 9,
    "start_time": "2024-10-15T01:16:24.194Z"
   },
   {
    "duration": 328,
    "start_time": "2024-10-15T01:17:14.114Z"
   },
   {
    "duration": 4,
    "start_time": "2024-10-15T01:18:56.622Z"
   },
   {
    "duration": 9,
    "start_time": "2024-10-15T01:20:30.545Z"
   },
   {
    "duration": 9,
    "start_time": "2024-10-15T01:20:49.980Z"
   },
   {
    "duration": 9,
    "start_time": "2024-10-15T01:20:59.397Z"
   },
   {
    "duration": 944,
    "start_time": "2024-10-15T01:21:37.102Z"
   },
   {
    "duration": 26,
    "start_time": "2024-10-15T01:21:38.048Z"
   },
   {
    "duration": 15,
    "start_time": "2024-10-15T01:21:38.078Z"
   },
   {
    "duration": 3,
    "start_time": "2024-10-15T01:21:38.097Z"
   },
   {
    "duration": 8,
    "start_time": "2024-10-15T01:21:38.103Z"
   },
   {
    "duration": 7,
    "start_time": "2024-10-15T01:21:38.132Z"
   },
   {
    "duration": 8,
    "start_time": "2024-10-15T01:21:38.143Z"
   },
   {
    "duration": 12,
    "start_time": "2024-10-15T01:21:38.153Z"
   },
   {
    "duration": 34,
    "start_time": "2024-10-15T01:21:38.167Z"
   },
   {
    "duration": 30,
    "start_time": "2024-10-15T01:21:38.203Z"
   },
   {
    "duration": 17,
    "start_time": "2024-10-15T01:21:38.235Z"
   },
   {
    "duration": 17,
    "start_time": "2024-10-15T01:21:38.254Z"
   },
   {
    "duration": 16,
    "start_time": "2024-10-15T01:21:38.274Z"
   },
   {
    "duration": 40,
    "start_time": "2024-10-15T01:21:38.294Z"
   },
   {
    "duration": 178,
    "start_time": "2024-10-15T01:21:38.336Z"
   },
   {
    "duration": 616,
    "start_time": "2024-10-15T01:21:38.515Z"
   },
   {
    "duration": 21,
    "start_time": "2024-10-15T01:21:39.133Z"
   },
   {
    "duration": 210,
    "start_time": "2024-10-15T01:21:39.157Z"
   },
   {
    "duration": 215,
    "start_time": "2024-10-15T01:21:39.371Z"
   },
   {
    "duration": 6,
    "start_time": "2024-10-15T01:21:39.587Z"
   },
   {
    "duration": 30,
    "start_time": "2024-10-15T01:21:39.595Z"
   },
   {
    "duration": 12,
    "start_time": "2024-10-15T01:21:39.627Z"
   },
   {
    "duration": 162,
    "start_time": "2024-10-15T01:21:39.641Z"
   },
   {
    "duration": 27,
    "start_time": "2024-10-15T01:21:39.806Z"
   },
   {
    "duration": 222,
    "start_time": "2024-10-15T01:21:39.834Z"
   },
   {
    "duration": 18,
    "start_time": "2024-10-15T01:21:40.058Z"
   },
   {
    "duration": 266,
    "start_time": "2024-10-15T01:21:40.078Z"
   },
   {
    "duration": 16,
    "start_time": "2024-10-15T01:21:40.346Z"
   },
   {
    "duration": 10,
    "start_time": "2024-10-15T01:21:40.364Z"
   },
   {
    "duration": 10,
    "start_time": "2024-10-15T01:21:40.376Z"
   },
   {
    "duration": 23,
    "start_time": "2024-10-15T01:24:31.577Z"
   },
   {
    "duration": 8,
    "start_time": "2024-10-15T01:25:23.892Z"
   },
   {
    "duration": 12,
    "start_time": "2024-10-15T01:25:36.078Z"
   },
   {
    "duration": 9,
    "start_time": "2024-10-15T01:25:57.423Z"
   },
   {
    "duration": 7,
    "start_time": "2024-10-15T01:26:12.164Z"
   },
   {
    "duration": 11,
    "start_time": "2024-10-15T01:26:22.368Z"
   },
   {
    "duration": 9,
    "start_time": "2024-10-15T01:26:43.129Z"
   },
   {
    "duration": 8,
    "start_time": "2024-10-15T01:27:02.460Z"
   },
   {
    "duration": 10,
    "start_time": "2024-10-15T01:31:32.898Z"
   },
   {
    "duration": 7,
    "start_time": "2024-10-15T01:35:20.174Z"
   },
   {
    "duration": 11,
    "start_time": "2024-10-15T01:35:29.581Z"
   },
   {
    "duration": 10,
    "start_time": "2024-10-15T01:36:22.983Z"
   },
   {
    "duration": 4,
    "start_time": "2024-10-15T01:38:27.214Z"
   },
   {
    "duration": 8,
    "start_time": "2024-10-15T01:58:12.267Z"
   },
   {
    "duration": 8,
    "start_time": "2024-10-15T01:58:46.466Z"
   },
   {
    "duration": 5,
    "start_time": "2024-10-15T01:59:20.152Z"
   },
   {
    "duration": 9,
    "start_time": "2024-10-15T17:58:34.522Z"
   },
   {
    "duration": 5,
    "start_time": "2024-10-15T18:29:45.431Z"
   },
   {
    "duration": 4,
    "start_time": "2024-10-15T18:39:36.434Z"
   },
   {
    "duration": 4,
    "start_time": "2024-10-15T18:47:23.708Z"
   },
   {
    "duration": 154,
    "start_time": "2024-10-17T19:25:32.510Z"
   },
   {
    "duration": 2540,
    "start_time": "2024-10-17T19:25:49.377Z"
   },
   {
    "duration": 37,
    "start_time": "2024-10-17T19:25:51.919Z"
   },
   {
    "duration": 11,
    "start_time": "2024-10-17T19:25:51.957Z"
   },
   {
    "duration": 13,
    "start_time": "2024-10-17T19:25:51.970Z"
   },
   {
    "duration": 3,
    "start_time": "2024-10-17T19:25:51.985Z"
   },
   {
    "duration": 9,
    "start_time": "2024-10-17T19:25:51.989Z"
   },
   {
    "duration": 3,
    "start_time": "2024-10-17T19:25:51.999Z"
   },
   {
    "duration": 5,
    "start_time": "2024-10-17T19:25:52.004Z"
   },
   {
    "duration": 9,
    "start_time": "2024-10-17T19:25:52.011Z"
   },
   {
    "duration": 59,
    "start_time": "2024-10-17T19:25:52.022Z"
   },
   {
    "duration": 7,
    "start_time": "2024-10-17T19:25:52.083Z"
   },
   {
    "duration": 13,
    "start_time": "2024-10-17T19:25:52.091Z"
   },
   {
    "duration": 15,
    "start_time": "2024-10-17T19:25:52.106Z"
   },
   {
    "duration": 12,
    "start_time": "2024-10-17T19:25:52.124Z"
   },
   {
    "duration": 12,
    "start_time": "2024-10-17T19:25:52.169Z"
   },
   {
    "duration": 176,
    "start_time": "2024-10-17T19:25:52.183Z"
   },
   {
    "duration": 496,
    "start_time": "2024-10-17T19:25:52.361Z"
   },
   {
    "duration": 18,
    "start_time": "2024-10-17T19:25:52.860Z"
   },
   {
    "duration": 152,
    "start_time": "2024-10-17T19:25:52.880Z"
   },
   {
    "duration": 173,
    "start_time": "2024-10-17T19:25:53.034Z"
   },
   {
    "duration": 5,
    "start_time": "2024-10-17T19:25:53.208Z"
   },
   {
    "duration": 89,
    "start_time": "2024-10-17T19:25:53.215Z"
   },
   {
    "duration": 8,
    "start_time": "2024-10-17T19:25:53.306Z"
   },
   {
    "duration": 144,
    "start_time": "2024-10-17T19:25:53.316Z"
   },
   {
    "duration": 20,
    "start_time": "2024-10-17T19:25:53.462Z"
   },
   {
    "duration": 179,
    "start_time": "2024-10-17T19:25:53.483Z"
   },
   {
    "duration": 18,
    "start_time": "2024-10-17T19:25:53.664Z"
   },
   {
    "duration": 228,
    "start_time": "2024-10-17T19:25:53.684Z"
   },
   {
    "duration": 16,
    "start_time": "2024-10-17T19:25:53.915Z"
   },
   {
    "duration": 8,
    "start_time": "2024-10-17T19:25:53.932Z"
   },
   {
    "duration": 28,
    "start_time": "2024-10-17T19:25:53.942Z"
   },
   {
    "duration": 389,
    "start_time": "2024-10-17T19:47:58.445Z"
   },
   {
    "duration": 339,
    "start_time": "2024-10-17T19:48:22.079Z"
   },
   {
    "duration": 448,
    "start_time": "2024-10-17T19:49:44.997Z"
   },
   {
    "duration": 331,
    "start_time": "2024-10-17T19:50:35.763Z"
   },
   {
    "duration": 243,
    "start_time": "2024-10-17T19:52:03.160Z"
   },
   {
    "duration": 357,
    "start_time": "2024-10-17T19:52:13.427Z"
   },
   {
    "duration": 220,
    "start_time": "2024-10-17T19:56:38.796Z"
   },
   {
    "duration": 22,
    "start_time": "2024-10-17T19:58:25.750Z"
   },
   {
    "duration": 14,
    "start_time": "2024-10-17T19:58:36.989Z"
   },
   {
    "duration": 19,
    "start_time": "2024-10-17T19:59:08.060Z"
   },
   {
    "duration": 15,
    "start_time": "2024-10-17T19:59:49.463Z"
   },
   {
    "duration": 15,
    "start_time": "2024-10-17T20:02:21.659Z"
   },
   {
    "duration": 25,
    "start_time": "2024-10-17T20:08:44.232Z"
   },
   {
    "duration": 14,
    "start_time": "2024-10-17T20:09:15.819Z"
   },
   {
    "duration": 124,
    "start_time": "2024-10-17T20:10:37.259Z"
   },
   {
    "duration": 128,
    "start_time": "2024-10-17T20:11:31.368Z"
   },
   {
    "duration": 111,
    "start_time": "2024-10-17T20:11:38.739Z"
   },
   {
    "duration": 794,
    "start_time": "2024-10-17T20:19:24.699Z"
   },
   {
    "duration": 25,
    "start_time": "2024-10-17T20:19:25.495Z"
   },
   {
    "duration": 13,
    "start_time": "2024-10-17T20:19:25.522Z"
   },
   {
    "duration": 15,
    "start_time": "2024-10-17T20:19:25.537Z"
   },
   {
    "duration": 2,
    "start_time": "2024-10-17T20:19:25.572Z"
   },
   {
    "duration": 6,
    "start_time": "2024-10-17T20:19:25.576Z"
   },
   {
    "duration": 3,
    "start_time": "2024-10-17T20:19:25.583Z"
   },
   {
    "duration": 5,
    "start_time": "2024-10-17T20:19:25.588Z"
   },
   {
    "duration": 10,
    "start_time": "2024-10-17T20:19:25.595Z"
   },
   {
    "duration": 25,
    "start_time": "2024-10-17T20:19:25.606Z"
   },
   {
    "duration": 43,
    "start_time": "2024-10-17T20:19:25.633Z"
   },
   {
    "duration": 12,
    "start_time": "2024-10-17T20:19:25.678Z"
   },
   {
    "duration": 16,
    "start_time": "2024-10-17T20:19:25.692Z"
   },
   {
    "duration": 12,
    "start_time": "2024-10-17T20:19:25.711Z"
   },
   {
    "duration": 369,
    "start_time": "2024-10-17T20:19:25.725Z"
   },
   {
    "duration": 11,
    "start_time": "2024-10-17T20:19:26.096Z"
   },
   {
    "duration": 202,
    "start_time": "2024-10-17T20:19:26.109Z"
   },
   {
    "duration": 452,
    "start_time": "2024-10-17T20:19:26.313Z"
   },
   {
    "duration": 16,
    "start_time": "2024-10-17T20:19:26.771Z"
   },
   {
    "duration": 127,
    "start_time": "2024-10-17T20:19:26.789Z"
   },
   {
    "duration": 144,
    "start_time": "2024-10-17T20:19:26.917Z"
   },
   {
    "duration": 10,
    "start_time": "2024-10-17T20:19:27.063Z"
   },
   {
    "duration": 661,
    "start_time": "2024-10-17T20:19:27.075Z"
   },
   {
    "duration": 0,
    "start_time": "2024-10-17T20:19:27.738Z"
   },
   {
    "duration": 0,
    "start_time": "2024-10-17T20:19:27.739Z"
   },
   {
    "duration": 0,
    "start_time": "2024-10-17T20:19:27.740Z"
   },
   {
    "duration": 0,
    "start_time": "2024-10-17T20:19:27.741Z"
   },
   {
    "duration": 0,
    "start_time": "2024-10-17T20:19:27.742Z"
   },
   {
    "duration": 0,
    "start_time": "2024-10-17T20:19:27.743Z"
   },
   {
    "duration": 0,
    "start_time": "2024-10-17T20:19:27.744Z"
   },
   {
    "duration": 0,
    "start_time": "2024-10-17T20:19:27.746Z"
   },
   {
    "duration": 0,
    "start_time": "2024-10-17T20:19:27.747Z"
   },
   {
    "duration": 9,
    "start_time": "2024-10-17T20:26:06.950Z"
   },
   {
    "duration": 11,
    "start_time": "2024-10-17T20:26:41.069Z"
   },
   {
    "duration": 18,
    "start_time": "2024-10-17T20:26:50.285Z"
   },
   {
    "duration": 19,
    "start_time": "2024-10-17T20:30:38.019Z"
   },
   {
    "duration": 19,
    "start_time": "2024-10-17T20:31:23.528Z"
   },
   {
    "duration": 20,
    "start_time": "2024-10-17T20:31:42.738Z"
   },
   {
    "duration": 10,
    "start_time": "2024-10-17T20:32:07.701Z"
   },
   {
    "duration": 14,
    "start_time": "2024-10-17T20:32:19.866Z"
   },
   {
    "duration": 103,
    "start_time": "2024-10-17T20:32:58.795Z"
   },
   {
    "duration": 95,
    "start_time": "2024-10-17T20:33:10.067Z"
   },
   {
    "duration": 17,
    "start_time": "2024-10-17T20:34:47.159Z"
   },
   {
    "duration": 781,
    "start_time": "2024-10-17T20:35:17.952Z"
   },
   {
    "duration": 25,
    "start_time": "2024-10-17T20:35:18.736Z"
   },
   {
    "duration": 16,
    "start_time": "2024-10-17T20:35:18.763Z"
   },
   {
    "duration": 12,
    "start_time": "2024-10-17T20:35:18.782Z"
   },
   {
    "duration": 2,
    "start_time": "2024-10-17T20:35:18.796Z"
   },
   {
    "duration": 6,
    "start_time": "2024-10-17T20:35:18.800Z"
   },
   {
    "duration": 3,
    "start_time": "2024-10-17T20:35:18.808Z"
   },
   {
    "duration": 6,
    "start_time": "2024-10-17T20:35:18.813Z"
   },
   {
    "duration": 10,
    "start_time": "2024-10-17T20:35:18.821Z"
   },
   {
    "duration": 63,
    "start_time": "2024-10-17T20:35:18.833Z"
   },
   {
    "duration": 7,
    "start_time": "2024-10-17T20:35:18.897Z"
   },
   {
    "duration": 12,
    "start_time": "2024-10-17T20:35:18.906Z"
   },
   {
    "duration": 16,
    "start_time": "2024-10-17T20:35:18.919Z"
   },
   {
    "duration": 41,
    "start_time": "2024-10-17T20:35:18.937Z"
   },
   {
    "duration": 383,
    "start_time": "2024-10-17T20:35:18.980Z"
   },
   {
    "duration": 13,
    "start_time": "2024-10-17T20:35:19.365Z"
   },
   {
    "duration": 204,
    "start_time": "2024-10-17T20:35:19.380Z"
   },
   {
    "duration": 453,
    "start_time": "2024-10-17T20:35:19.586Z"
   },
   {
    "duration": 14,
    "start_time": "2024-10-17T20:35:20.041Z"
   },
   {
    "duration": 124,
    "start_time": "2024-10-17T20:35:20.057Z"
   },
   {
    "duration": 11,
    "start_time": "2024-10-17T20:35:20.182Z"
   },
   {
    "duration": 144,
    "start_time": "2024-10-17T20:35:20.194Z"
   },
   {
    "duration": 5,
    "start_time": "2024-10-17T20:35:20.340Z"
   },
   {
    "duration": 647,
    "start_time": "2024-10-17T20:35:20.348Z"
   },
   {
    "duration": 0,
    "start_time": "2024-10-17T20:35:20.997Z"
   },
   {
    "duration": 0,
    "start_time": "2024-10-17T20:35:20.998Z"
   },
   {
    "duration": 0,
    "start_time": "2024-10-17T20:35:21.000Z"
   },
   {
    "duration": 0,
    "start_time": "2024-10-17T20:35:21.001Z"
   },
   {
    "duration": 0,
    "start_time": "2024-10-17T20:35:21.002Z"
   },
   {
    "duration": 0,
    "start_time": "2024-10-17T20:35:21.003Z"
   },
   {
    "duration": 0,
    "start_time": "2024-10-17T20:35:21.004Z"
   },
   {
    "duration": 0,
    "start_time": "2024-10-17T20:35:21.005Z"
   },
   {
    "duration": 0,
    "start_time": "2024-10-17T20:35:21.006Z"
   },
   {
    "duration": 9,
    "start_time": "2024-10-17T20:36:38.745Z"
   },
   {
    "duration": 8,
    "start_time": "2024-10-17T20:39:08.233Z"
   },
   {
    "duration": 9,
    "start_time": "2024-10-17T20:40:05.399Z"
   },
   {
    "duration": 10,
    "start_time": "2024-10-17T20:40:11.155Z"
   },
   {
    "duration": 10,
    "start_time": "2024-10-17T20:40:11.312Z"
   },
   {
    "duration": 90,
    "start_time": "2024-10-17T20:42:09.372Z"
   },
   {
    "duration": 95,
    "start_time": "2024-10-17T20:42:19.491Z"
   },
   {
    "duration": 790,
    "start_time": "2024-10-17T20:42:37.109Z"
   },
   {
    "duration": 24,
    "start_time": "2024-10-17T20:42:37.900Z"
   },
   {
    "duration": 11,
    "start_time": "2024-10-17T20:42:37.925Z"
   },
   {
    "duration": 12,
    "start_time": "2024-10-17T20:42:37.939Z"
   },
   {
    "duration": 19,
    "start_time": "2024-10-17T20:42:37.952Z"
   },
   {
    "duration": 6,
    "start_time": "2024-10-17T20:42:37.973Z"
   },
   {
    "duration": 4,
    "start_time": "2024-10-17T20:42:37.981Z"
   },
   {
    "duration": 6,
    "start_time": "2024-10-17T20:42:37.986Z"
   },
   {
    "duration": 10,
    "start_time": "2024-10-17T20:42:37.993Z"
   },
   {
    "duration": 25,
    "start_time": "2024-10-17T20:42:38.006Z"
   },
   {
    "duration": 43,
    "start_time": "2024-10-17T20:42:38.033Z"
   },
   {
    "duration": 12,
    "start_time": "2024-10-17T20:42:38.078Z"
   },
   {
    "duration": 16,
    "start_time": "2024-10-17T20:42:38.092Z"
   },
   {
    "duration": 12,
    "start_time": "2024-10-17T20:42:38.110Z"
   },
   {
    "duration": 374,
    "start_time": "2024-10-17T20:42:38.123Z"
   },
   {
    "duration": 13,
    "start_time": "2024-10-17T20:42:38.499Z"
   },
   {
    "duration": 202,
    "start_time": "2024-10-17T20:42:38.513Z"
   },
   {
    "duration": 437,
    "start_time": "2024-10-17T20:42:38.716Z"
   },
   {
    "duration": 17,
    "start_time": "2024-10-17T20:42:39.155Z"
   },
   {
    "duration": 122,
    "start_time": "2024-10-17T20:42:39.173Z"
   },
   {
    "duration": 8,
    "start_time": "2024-10-17T20:42:39.296Z"
   },
   {
    "duration": 149,
    "start_time": "2024-10-17T20:42:39.306Z"
   },
   {
    "duration": 4,
    "start_time": "2024-10-17T20:42:39.457Z"
   },
   {
    "duration": 684,
    "start_time": "2024-10-17T20:42:39.463Z"
   },
   {
    "duration": 0,
    "start_time": "2024-10-17T20:42:40.149Z"
   },
   {
    "duration": 0,
    "start_time": "2024-10-17T20:42:40.150Z"
   },
   {
    "duration": 0,
    "start_time": "2024-10-17T20:42:40.151Z"
   },
   {
    "duration": 0,
    "start_time": "2024-10-17T20:42:40.153Z"
   },
   {
    "duration": 0,
    "start_time": "2024-10-17T20:42:40.155Z"
   },
   {
    "duration": 1,
    "start_time": "2024-10-17T20:42:40.169Z"
   },
   {
    "duration": 0,
    "start_time": "2024-10-17T20:42:40.171Z"
   },
   {
    "duration": 0,
    "start_time": "2024-10-17T20:42:40.172Z"
   },
   {
    "duration": 1,
    "start_time": "2024-10-17T20:42:40.173Z"
   },
   {
    "duration": 816,
    "start_time": "2024-10-17T20:45:17.685Z"
   },
   {
    "duration": 24,
    "start_time": "2024-10-17T20:45:18.503Z"
   },
   {
    "duration": 12,
    "start_time": "2024-10-17T20:45:18.529Z"
   },
   {
    "duration": 26,
    "start_time": "2024-10-17T20:45:18.545Z"
   },
   {
    "duration": 3,
    "start_time": "2024-10-17T20:45:18.572Z"
   },
   {
    "duration": 7,
    "start_time": "2024-10-17T20:45:18.577Z"
   },
   {
    "duration": 4,
    "start_time": "2024-10-17T20:45:18.585Z"
   },
   {
    "duration": 6,
    "start_time": "2024-10-17T20:45:18.590Z"
   },
   {
    "duration": 10,
    "start_time": "2024-10-17T20:45:18.598Z"
   },
   {
    "duration": 25,
    "start_time": "2024-10-17T20:45:18.611Z"
   },
   {
    "duration": 8,
    "start_time": "2024-10-17T20:45:18.670Z"
   },
   {
    "duration": 13,
    "start_time": "2024-10-17T20:45:18.680Z"
   },
   {
    "duration": 16,
    "start_time": "2024-10-17T20:45:18.694Z"
   },
   {
    "duration": 12,
    "start_time": "2024-10-17T20:45:18.712Z"
   },
   {
    "duration": 382,
    "start_time": "2024-10-17T20:45:18.725Z"
   },
   {
    "duration": 12,
    "start_time": "2024-10-17T20:45:19.108Z"
   },
   {
    "duration": 210,
    "start_time": "2024-10-17T20:45:19.122Z"
   },
   {
    "duration": 436,
    "start_time": "2024-10-17T20:45:19.334Z"
   },
   {
    "duration": 14,
    "start_time": "2024-10-17T20:45:19.771Z"
   },
   {
    "duration": 124,
    "start_time": "2024-10-17T20:45:19.786Z"
   },
   {
    "duration": 9,
    "start_time": "2024-10-17T20:45:19.912Z"
   },
   {
    "duration": 162,
    "start_time": "2024-10-17T20:45:19.922Z"
   },
   {
    "duration": 4,
    "start_time": "2024-10-17T20:45:20.086Z"
   },
   {
    "duration": 22,
    "start_time": "2024-10-17T20:45:20.092Z"
   },
   {
    "duration": 8,
    "start_time": "2024-10-17T20:45:20.116Z"
   },
   {
    "duration": 153,
    "start_time": "2024-10-17T20:45:20.125Z"
   },
   {
    "duration": 16,
    "start_time": "2024-10-17T20:45:20.280Z"
   },
   {
    "duration": 165,
    "start_time": "2024-10-17T20:45:20.299Z"
   },
   {
    "duration": 16,
    "start_time": "2024-10-17T20:45:20.466Z"
   },
   {
    "duration": 234,
    "start_time": "2024-10-17T20:45:20.484Z"
   },
   {
    "duration": 14,
    "start_time": "2024-10-17T20:45:20.720Z"
   },
   {
    "duration": 8,
    "start_time": "2024-10-17T20:45:20.736Z"
   },
   {
    "duration": 24,
    "start_time": "2024-10-17T20:45:20.746Z"
   },
   {
    "duration": 133,
    "start_time": "2024-10-17T20:47:36.218Z"
   },
   {
    "duration": 300,
    "start_time": "2024-10-17T20:48:36.416Z"
   },
   {
    "duration": 9,
    "start_time": "2024-10-17T20:49:43.415Z"
   },
   {
    "duration": 764,
    "start_time": "2024-10-17T21:11:15.553Z"
   },
   {
    "duration": 32,
    "start_time": "2024-10-17T21:11:16.319Z"
   },
   {
    "duration": 24,
    "start_time": "2024-10-17T21:11:16.353Z"
   },
   {
    "duration": 15,
    "start_time": "2024-10-17T21:11:16.381Z"
   },
   {
    "duration": 2,
    "start_time": "2024-10-17T21:11:16.398Z"
   },
   {
    "duration": 7,
    "start_time": "2024-10-17T21:11:16.402Z"
   },
   {
    "duration": 3,
    "start_time": "2024-10-17T21:11:16.411Z"
   },
   {
    "duration": 5,
    "start_time": "2024-10-17T21:11:16.416Z"
   },
   {
    "duration": 10,
    "start_time": "2024-10-17T21:11:16.423Z"
   },
   {
    "duration": 61,
    "start_time": "2024-10-17T21:11:16.435Z"
   },
   {
    "duration": 7,
    "start_time": "2024-10-17T21:11:16.498Z"
   },
   {
    "duration": 13,
    "start_time": "2024-10-17T21:11:16.506Z"
   },
   {
    "duration": 20,
    "start_time": "2024-10-17T21:11:16.520Z"
   },
   {
    "duration": 40,
    "start_time": "2024-10-17T21:11:16.544Z"
   },
   {
    "duration": 393,
    "start_time": "2024-10-17T21:11:16.587Z"
   },
   {
    "duration": 12,
    "start_time": "2024-10-17T21:11:16.982Z"
   },
   {
    "duration": 209,
    "start_time": "2024-10-17T21:11:16.995Z"
   },
   {
    "duration": 459,
    "start_time": "2024-10-17T21:11:17.205Z"
   },
   {
    "duration": 16,
    "start_time": "2024-10-17T21:11:17.665Z"
   },
   {
    "duration": 125,
    "start_time": "2024-10-17T21:11:17.682Z"
   },
   {
    "duration": 9,
    "start_time": "2024-10-17T21:11:17.808Z"
   },
   {
    "duration": 144,
    "start_time": "2024-10-17T21:11:17.818Z"
   },
   {
    "duration": 9,
    "start_time": "2024-10-17T21:11:17.963Z"
   },
   {
    "duration": 22,
    "start_time": "2024-10-17T21:11:17.974Z"
   },
   {
    "duration": 8,
    "start_time": "2024-10-17T21:11:17.997Z"
   },
   {
    "duration": 148,
    "start_time": "2024-10-17T21:11:18.007Z"
   },
   {
    "duration": 23,
    "start_time": "2024-10-17T21:11:18.156Z"
   },
   {
    "duration": 166,
    "start_time": "2024-10-17T21:11:18.181Z"
   },
   {
    "duration": 23,
    "start_time": "2024-10-17T21:11:18.349Z"
   },
   {
    "duration": 224,
    "start_time": "2024-10-17T21:11:18.374Z"
   },
   {
    "duration": 17,
    "start_time": "2024-10-17T21:11:18.601Z"
   },
   {
    "duration": 10,
    "start_time": "2024-10-17T21:11:18.619Z"
   },
   {
    "duration": 6,
    "start_time": "2024-10-17T21:11:18.631Z"
   }
  ],
  "kernelspec": {
   "display_name": "Python 3 (ipykernel)",
   "language": "python",
   "name": "python3"
  },
  "language_info": {
   "codemirror_mode": {
    "name": "ipython",
    "version": 3
   },
   "file_extension": ".py",
   "mimetype": "text/x-python",
   "name": "python",
   "nbconvert_exporter": "python",
   "pygments_lexer": "ipython3",
   "version": "3.9.19"
  },
  "toc": {
   "base_numbering": 1,
   "nav_menu": {},
   "number_sections": true,
   "sideBar": true,
   "skip_h1_title": true,
   "title_cell": "Table of Contents",
   "title_sidebar": "Contents",
   "toc_cell": false,
   "toc_position": {},
   "toc_section_display": true,
   "toc_window_display": false
  }
 },
 "nbformat": 4,
 "nbformat_minor": 2
}
